{
 "cells": [
  {
   "cell_type": "code",
   "execution_count": 1,
   "metadata": {
    "collapsed": true,
    "pycharm": {
     "name": "#%%\n"
    }
   },
   "outputs": [
    {
     "name": "stderr",
     "output_type": "stream",
     "text": [
      "C:\\Users\\SiBuX\\AppData\\Local\\Temp\\ipykernel_14372\\3251622206.py:53: FutureWarning: The frame.append method is deprecated and will be removed from pandas in a future version. Use pandas.concat instead.\n",
      "  tracks_w_features = tracks_w_features.append(pd.DataFrame(sp.audio_features(pd.DataFrame(playlists['tracks'][i]).reset_index(drop=True).track_uri)))\n",
      "C:\\Users\\SiBuX\\AppData\\Local\\Temp\\ipykernel_14372\\3251622206.py:53: FutureWarning: The frame.append method is deprecated and will be removed from pandas in a future version. Use pandas.concat instead.\n",
      "  tracks_w_features = tracks_w_features.append(pd.DataFrame(sp.audio_features(pd.DataFrame(playlists['tracks'][i]).reset_index(drop=True).track_uri)))\n"
     ]
    },
    {
     "name": "stdout",
     "output_type": "stream",
     "text": [
      "3 playlists extracted\n",
      "Loop #: 3\n",
      "Elapsed Time: 4.014222621917725 seconds\n"
     ]
    },
    {
     "name": "stderr",
     "output_type": "stream",
     "text": [
      "C:\\Users\\SiBuX\\AppData\\Local\\Temp\\ipykernel_14372\\3251622206.py:53: FutureWarning: The frame.append method is deprecated and will be removed from pandas in a future version. Use pandas.concat instead.\n",
      "  tracks_w_features = tracks_w_features.append(pd.DataFrame(sp.audio_features(pd.DataFrame(playlists['tracks'][i]).reset_index(drop=True).track_uri)))\n"
     ]
    },
    {
     "data": {
      "text/plain": "    danceability  energy  key  loudness  mode  speechiness  acousticness  \\\n0          0.904   0.813    4    -7.105     0       0.1210       0.03110   \n1          0.774   0.838    5    -3.914     0       0.1140       0.02490   \n2          0.664   0.758    2    -6.583     0       0.2100       0.00238   \n3          0.892   0.714    4    -6.055     0       0.1410       0.20100   \n4          0.853   0.606    0    -4.596     1       0.0713       0.05610   \n..           ...     ...  ...       ...   ...          ...           ...   \n59         0.533   0.823    6    -4.109     1       0.2520       0.05160   \n60         0.476   0.581    8    -8.795     1       0.1200       0.52300   \n61         0.598   0.775    1    -4.035     0       0.0545       0.02200   \n62         0.612   0.844    5    -4.694     0       0.0756       0.14200   \n63         0.667   0.889    6    -4.851     1       0.0918       0.00912   \n\n    instrumentalness  liveness  valence    tempo            type  \\\n0           0.006970    0.0471    0.810  125.461  audio_features   \n1           0.025000    0.2420    0.924  143.040  audio_features   \n2           0.000000    0.0598    0.701   99.259  audio_features   \n3           0.000234    0.0521    0.817  100.972  audio_features   \n4           0.000000    0.3130    0.654   94.759  audio_features   \n..               ...       ...      ...      ...             ...   \n59          0.000000    0.4730    0.706   89.711  audio_features   \n60          0.000000    0.2010    0.282  129.568  audio_features   \n61          0.000000    0.0677    0.687  129.819  audio_features   \n62          0.000000    0.2870    0.653  134.868  audio_features   \n63          0.000000    0.0816    0.541  169.959  audio_features   \n\n                        id                                   uri  \\\n0   0UaMYEvWZi0ZqiDOoHU3YI  spotify:track:0UaMYEvWZi0ZqiDOoHU3YI   \n1   6I9VzXrHxO9rA9A5euc8Ak  spotify:track:6I9VzXrHxO9rA9A5euc8Ak   \n2   0WqIKmW4BTrj3eJFmnCKMv  spotify:track:0WqIKmW4BTrj3eJFmnCKMv   \n3   1AWQoqb9bSvzTjaLralEkT  spotify:track:1AWQoqb9bSvzTjaLralEkT   \n4   1lzr43nnXAijIGYnCT8M8H  spotify:track:1lzr43nnXAijIGYnCT8M8H   \n..                     ...                                   ...   \n59  6NB81kD2XDeTdNBksV0yxM  spotify:track:6NB81kD2XDeTdNBksV0yxM   \n60  7iV733e1KacKrFRaBNxVEf  spotify:track:7iV733e1KacKrFRaBNxVEf   \n61  5SE57ljOIUJ1ybL9U6CuBH  spotify:track:5SE57ljOIUJ1ybL9U6CuBH   \n62  3ryjLm3oupIjJFGc39naNi  spotify:track:3ryjLm3oupIjJFGc39naNi   \n63  2SYa5Lx1uoCvyDIW4oee9b  spotify:track:2SYa5Lx1uoCvyDIW4oee9b   \n\n                                           track_href  \\\n0   https://api.spotify.com/v1/tracks/0UaMYEvWZi0Z...   \n1   https://api.spotify.com/v1/tracks/6I9VzXrHxO9r...   \n2   https://api.spotify.com/v1/tracks/0WqIKmW4BTrj...   \n3   https://api.spotify.com/v1/tracks/1AWQoqb9bSvz...   \n4   https://api.spotify.com/v1/tracks/1lzr43nnXAij...   \n..                                                ...   \n59  https://api.spotify.com/v1/tracks/6NB81kD2XDeT...   \n60  https://api.spotify.com/v1/tracks/7iV733e1KacK...   \n61  https://api.spotify.com/v1/tracks/5SE57ljOIUJ1...   \n62  https://api.spotify.com/v1/tracks/3ryjLm3oupIj...   \n63  https://api.spotify.com/v1/tracks/2SYa5Lx1uoCv...   \n\n                                         analysis_url  duration_ms  \\\n0   https://api.spotify.com/v1/audio-analysis/0UaM...       226864   \n1   https://api.spotify.com/v1/audio-analysis/6I9V...       198800   \n2   https://api.spotify.com/v1/audio-analysis/0WqI...       235933   \n3   https://api.spotify.com/v1/audio-analysis/1AWQ...       267267   \n4   https://api.spotify.com/v1/audio-analysis/1lzr...       227600   \n..                                                ...          ...   \n59  https://api.spotify.com/v1/audio-analysis/6NB8...       216999   \n60  https://api.spotify.com/v1/audio-analysis/7iV7...       139972   \n61  https://api.spotify.com/v1/audio-analysis/5SE5...       223123   \n62  https://api.spotify.com/v1/audio-analysis/3ryj...       196776   \n63  https://api.spotify.com/v1/audio-analysis/2SYa...       238193   \n\n    time_signature  \n0                4  \n1                4  \n2                4  \n3                4  \n4                4  \n..             ...  \n59               4  \n60               4  \n61               4  \n62               4  \n63               4  \n\n[155 rows x 18 columns]",
      "text/html": "<div>\n<style scoped>\n    .dataframe tbody tr th:only-of-type {\n        vertical-align: middle;\n    }\n\n    .dataframe tbody tr th {\n        vertical-align: top;\n    }\n\n    .dataframe thead th {\n        text-align: right;\n    }\n</style>\n<table border=\"1\" class=\"dataframe\">\n  <thead>\n    <tr style=\"text-align: right;\">\n      <th></th>\n      <th>danceability</th>\n      <th>energy</th>\n      <th>key</th>\n      <th>loudness</th>\n      <th>mode</th>\n      <th>speechiness</th>\n      <th>acousticness</th>\n      <th>instrumentalness</th>\n      <th>liveness</th>\n      <th>valence</th>\n      <th>tempo</th>\n      <th>type</th>\n      <th>id</th>\n      <th>uri</th>\n      <th>track_href</th>\n      <th>analysis_url</th>\n      <th>duration_ms</th>\n      <th>time_signature</th>\n    </tr>\n  </thead>\n  <tbody>\n    <tr>\n      <th>0</th>\n      <td>0.904</td>\n      <td>0.813</td>\n      <td>4</td>\n      <td>-7.105</td>\n      <td>0</td>\n      <td>0.1210</td>\n      <td>0.03110</td>\n      <td>0.006970</td>\n      <td>0.0471</td>\n      <td>0.810</td>\n      <td>125.461</td>\n      <td>audio_features</td>\n      <td>0UaMYEvWZi0ZqiDOoHU3YI</td>\n      <td>spotify:track:0UaMYEvWZi0ZqiDOoHU3YI</td>\n      <td>https://api.spotify.com/v1/tracks/0UaMYEvWZi0Z...</td>\n      <td>https://api.spotify.com/v1/audio-analysis/0UaM...</td>\n      <td>226864</td>\n      <td>4</td>\n    </tr>\n    <tr>\n      <th>1</th>\n      <td>0.774</td>\n      <td>0.838</td>\n      <td>5</td>\n      <td>-3.914</td>\n      <td>0</td>\n      <td>0.1140</td>\n      <td>0.02490</td>\n      <td>0.025000</td>\n      <td>0.2420</td>\n      <td>0.924</td>\n      <td>143.040</td>\n      <td>audio_features</td>\n      <td>6I9VzXrHxO9rA9A5euc8Ak</td>\n      <td>spotify:track:6I9VzXrHxO9rA9A5euc8Ak</td>\n      <td>https://api.spotify.com/v1/tracks/6I9VzXrHxO9r...</td>\n      <td>https://api.spotify.com/v1/audio-analysis/6I9V...</td>\n      <td>198800</td>\n      <td>4</td>\n    </tr>\n    <tr>\n      <th>2</th>\n      <td>0.664</td>\n      <td>0.758</td>\n      <td>2</td>\n      <td>-6.583</td>\n      <td>0</td>\n      <td>0.2100</td>\n      <td>0.00238</td>\n      <td>0.000000</td>\n      <td>0.0598</td>\n      <td>0.701</td>\n      <td>99.259</td>\n      <td>audio_features</td>\n      <td>0WqIKmW4BTrj3eJFmnCKMv</td>\n      <td>spotify:track:0WqIKmW4BTrj3eJFmnCKMv</td>\n      <td>https://api.spotify.com/v1/tracks/0WqIKmW4BTrj...</td>\n      <td>https://api.spotify.com/v1/audio-analysis/0WqI...</td>\n      <td>235933</td>\n      <td>4</td>\n    </tr>\n    <tr>\n      <th>3</th>\n      <td>0.892</td>\n      <td>0.714</td>\n      <td>4</td>\n      <td>-6.055</td>\n      <td>0</td>\n      <td>0.1410</td>\n      <td>0.20100</td>\n      <td>0.000234</td>\n      <td>0.0521</td>\n      <td>0.817</td>\n      <td>100.972</td>\n      <td>audio_features</td>\n      <td>1AWQoqb9bSvzTjaLralEkT</td>\n      <td>spotify:track:1AWQoqb9bSvzTjaLralEkT</td>\n      <td>https://api.spotify.com/v1/tracks/1AWQoqb9bSvz...</td>\n      <td>https://api.spotify.com/v1/audio-analysis/1AWQ...</td>\n      <td>267267</td>\n      <td>4</td>\n    </tr>\n    <tr>\n      <th>4</th>\n      <td>0.853</td>\n      <td>0.606</td>\n      <td>0</td>\n      <td>-4.596</td>\n      <td>1</td>\n      <td>0.0713</td>\n      <td>0.05610</td>\n      <td>0.000000</td>\n      <td>0.3130</td>\n      <td>0.654</td>\n      <td>94.759</td>\n      <td>audio_features</td>\n      <td>1lzr43nnXAijIGYnCT8M8H</td>\n      <td>spotify:track:1lzr43nnXAijIGYnCT8M8H</td>\n      <td>https://api.spotify.com/v1/tracks/1lzr43nnXAij...</td>\n      <td>https://api.spotify.com/v1/audio-analysis/1lzr...</td>\n      <td>227600</td>\n      <td>4</td>\n    </tr>\n    <tr>\n      <th>...</th>\n      <td>...</td>\n      <td>...</td>\n      <td>...</td>\n      <td>...</td>\n      <td>...</td>\n      <td>...</td>\n      <td>...</td>\n      <td>...</td>\n      <td>...</td>\n      <td>...</td>\n      <td>...</td>\n      <td>...</td>\n      <td>...</td>\n      <td>...</td>\n      <td>...</td>\n      <td>...</td>\n      <td>...</td>\n      <td>...</td>\n    </tr>\n    <tr>\n      <th>59</th>\n      <td>0.533</td>\n      <td>0.823</td>\n      <td>6</td>\n      <td>-4.109</td>\n      <td>1</td>\n      <td>0.2520</td>\n      <td>0.05160</td>\n      <td>0.000000</td>\n      <td>0.4730</td>\n      <td>0.706</td>\n      <td>89.711</td>\n      <td>audio_features</td>\n      <td>6NB81kD2XDeTdNBksV0yxM</td>\n      <td>spotify:track:6NB81kD2XDeTdNBksV0yxM</td>\n      <td>https://api.spotify.com/v1/tracks/6NB81kD2XDeT...</td>\n      <td>https://api.spotify.com/v1/audio-analysis/6NB8...</td>\n      <td>216999</td>\n      <td>4</td>\n    </tr>\n    <tr>\n      <th>60</th>\n      <td>0.476</td>\n      <td>0.581</td>\n      <td>8</td>\n      <td>-8.795</td>\n      <td>1</td>\n      <td>0.1200</td>\n      <td>0.52300</td>\n      <td>0.000000</td>\n      <td>0.2010</td>\n      <td>0.282</td>\n      <td>129.568</td>\n      <td>audio_features</td>\n      <td>7iV733e1KacKrFRaBNxVEf</td>\n      <td>spotify:track:7iV733e1KacKrFRaBNxVEf</td>\n      <td>https://api.spotify.com/v1/tracks/7iV733e1KacK...</td>\n      <td>https://api.spotify.com/v1/audio-analysis/7iV7...</td>\n      <td>139972</td>\n      <td>4</td>\n    </tr>\n    <tr>\n      <th>61</th>\n      <td>0.598</td>\n      <td>0.775</td>\n      <td>1</td>\n      <td>-4.035</td>\n      <td>0</td>\n      <td>0.0545</td>\n      <td>0.02200</td>\n      <td>0.000000</td>\n      <td>0.0677</td>\n      <td>0.687</td>\n      <td>129.819</td>\n      <td>audio_features</td>\n      <td>5SE57ljOIUJ1ybL9U6CuBH</td>\n      <td>spotify:track:5SE57ljOIUJ1ybL9U6CuBH</td>\n      <td>https://api.spotify.com/v1/tracks/5SE57ljOIUJ1...</td>\n      <td>https://api.spotify.com/v1/audio-analysis/5SE5...</td>\n      <td>223123</td>\n      <td>4</td>\n    </tr>\n    <tr>\n      <th>62</th>\n      <td>0.612</td>\n      <td>0.844</td>\n      <td>5</td>\n      <td>-4.694</td>\n      <td>0</td>\n      <td>0.0756</td>\n      <td>0.14200</td>\n      <td>0.000000</td>\n      <td>0.2870</td>\n      <td>0.653</td>\n      <td>134.868</td>\n      <td>audio_features</td>\n      <td>3ryjLm3oupIjJFGc39naNi</td>\n      <td>spotify:track:3ryjLm3oupIjJFGc39naNi</td>\n      <td>https://api.spotify.com/v1/tracks/3ryjLm3oupIj...</td>\n      <td>https://api.spotify.com/v1/audio-analysis/3ryj...</td>\n      <td>196776</td>\n      <td>4</td>\n    </tr>\n    <tr>\n      <th>63</th>\n      <td>0.667</td>\n      <td>0.889</td>\n      <td>6</td>\n      <td>-4.851</td>\n      <td>1</td>\n      <td>0.0918</td>\n      <td>0.00912</td>\n      <td>0.000000</td>\n      <td>0.0816</td>\n      <td>0.541</td>\n      <td>169.959</td>\n      <td>audio_features</td>\n      <td>2SYa5Lx1uoCvyDIW4oee9b</td>\n      <td>spotify:track:2SYa5Lx1uoCvyDIW4oee9b</td>\n      <td>https://api.spotify.com/v1/tracks/2SYa5Lx1uoCv...</td>\n      <td>https://api.spotify.com/v1/audio-analysis/2SYa...</td>\n      <td>238193</td>\n      <td>4</td>\n    </tr>\n  </tbody>\n</table>\n<p>155 rows × 18 columns</p>\n</div>"
     },
     "metadata": {},
     "output_type": "display_data"
    }
   ],
   "source": [
    "import json\n",
    "import pandas as pd\n",
    "import os\n",
    "from IPython.display import display\n",
    "# d = json.load(open('data/mpd.slice.0-999.json'))\n",
    "# tracks = pd.DataFrame(d['playlists'][0]['tracks'])\n",
    "\n",
    "# create list of playlists\n",
    "playlists = []\n",
    "path = 'data'\n",
    "count = 3\n",
    "for filename in os.listdir(path):\n",
    "    count -= 1\n",
    "    if count < 0:\n",
    "        break\n",
    "    f = os.path.join(path, filename)\n",
    "    if os.path.isfile(f):\n",
    "        d = json.load(open(f))\n",
    "        playlists.append(pd.DataFrame(d['playlists']))\n",
    "\n",
    "playlists = pd.concat(playlists)\n",
    "playlists = playlists.reset_index(drop=True)\n",
    "#track0 = pd.DataFrame(playlists['tracks'][0]).reset_index(drop=True)\n",
    "\n",
    "# api setup\n",
    "#pip install spotipy\n",
    "import spotipy\n",
    "from spotipy.oauth2 import SpotifyClientCredentials as cc\n",
    "import pandas as pd\n",
    "\n",
    "client_id = '898dd71dc932407e85921f0ac79f0127'\n",
    "client_secret = '16d994f070064371beb8758f32d64180'\n",
    "#https://developer.spotify.com/dashboard/applications/898dd71dc932407e85921f0ac79f0127\n",
    "client_cc = cc(client_id=client_id,client_secret=client_secret)\n",
    "sp = spotipy.Spotify(client_credentials_manager=client_cc)\n",
    "\n",
    "# from playlists extract tracks with corresponding features from spotipy\n",
    "import time\n",
    "import numpy as np\n",
    "\n",
    "sleep_min = 2\n",
    "sleep_max = 5\n",
    "start_time = time.time()\n",
    "request_count = 0\n",
    "tracks_w_features = pd.DataFrame()\n",
    "for i in range(3):\n",
    "    request_count+=1\n",
    "    if request_count % 3 == 0:\n",
    "        print(str(request_count) + \" playlists extracted\")\n",
    "        time.sleep(np.random.uniform(sleep_min, sleep_max))\n",
    "        print('Loop #: {}'.format(request_count))\n",
    "        print('Elapsed Time: {} seconds'.format(time.time() - start_time))\n",
    "    tracks_w_features = tracks_w_features.append(pd.DataFrame(sp.audio_features(pd.DataFrame(playlists['tracks'][i]).reset_index(drop=True).track_uri)))\n",
    "display(tracks_w_features)"
   ]
  }
 ],
 "metadata": {
  "kernelspec": {
   "display_name": "Python 3",
   "language": "python",
   "name": "python3"
  },
  "language_info": {
   "codemirror_mode": {
    "name": "ipython",
    "version": 2
   },
   "file_extension": ".py",
   "mimetype": "text/x-python",
   "name": "python",
   "nbconvert_exporter": "python",
   "pygments_lexer": "ipython2",
   "version": "2.7.6"
  }
 },
 "nbformat": 4,
 "nbformat_minor": 0
}