{
 "cells": [
  {
   "cell_type": "markdown",
   "id": "84e493dd",
   "metadata": {},
   "source": [
    "# Spotify Mood Session\n",
    "\n",
    "## 1. Algorithm\n",
    "\n",
    "a. **First Selection**. User selects a song $s_0$ from the set of all songs $S$ using some kind of search method (by name / artist) and plays that song.\n",
    "\n",
    "b. **Played List**.  Let $P$ be a new list of played songs and let $P \\gets s_0$   \n",
    "\n",
    "c. **Cold Start**. Create a bootstrap random selection of $n$ songs from $S$ called $R$. Calculate the distance between each song and the first selection and select the closest to the chosen song . Formally:\n",
    "\n",
    "$$\n",
    "\\forall s \\in R \\text{ dist}(s_i, s_0)\n",
    "$$\n",
    "\n",
    "*potential parameter: use a value to add the closest n songs to the initial bootstrap played list*\n",
    "\n",
    "d. **Rating**. For every song that a user plays for more than 30 seconds, the song is rated $\\text{pos}$, songs that are skipped within this time period are rated $\\text{neg}$.  Songs that have not been played are rated $\\text{non}$\n",
    "\n",
    "e. **Recommending**.  Take the current set of vectors and select the next song based on some sort of agregated mean or nearest neighbour system.\n",
    "\n",
    "repeat (d) and (e) ad infinitum."
   ]
  },
  {
   "cell_type": "markdown",
   "id": "8974a2c2",
   "metadata": {},
   "source": [
    "Formally:\n",
    "\n",
    "$$\n",
    "\\text{let: } s_0 \\gets \\text{ user}(S) \\\\\n",
    "\\text{let: } P = \\{ s_0 \\} \\\\\n",
    "\\text{let: } R \\subset S \\\\\n",
    "\\text{let: } D = \\emptyset \\\\ \n",
    "\\text{for } s_i \\text{ in } R:\\\\\n",
    "D_i = \\text{dist}(s_i, s_0) \\\\\n",
    "\\text{end for }\n",
    "\n",
    "\\text{select}(\\text{max}(D))\n",
    "$$"
   ]
  },
  {
   "cell_type": "code",
   "execution_count": null,
   "id": "107ee870",
   "metadata": {},
   "outputs": [],
   "source": []
  }
 ],
 "metadata": {
  "kernelspec": {
   "display_name": "Python 3 (ipykernel)",
   "language": "python",
   "name": "python3"
  },
  "language_info": {
   "codemirror_mode": {
    "name": "ipython",
    "version": 3
   },
   "file_extension": ".py",
   "mimetype": "text/x-python",
   "name": "python",
   "nbconvert_exporter": "python",
   "pygments_lexer": "ipython3",
   "version": "3.9.12"
  }
 },
 "nbformat": 4,
 "nbformat_minor": 5
}
