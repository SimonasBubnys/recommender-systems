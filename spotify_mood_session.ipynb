{
 "cells": [
  {
   "cell_type": "markdown",
   "id": "2c5e86fe",
   "metadata": {},
   "source": [
    "# Spotify Mood Session\n",
    "\n",
    "## 1. Algorithm\n",
    "\n",
    "a. **First Selection**. User selects a song $s_0$ from the set of all songs $S$ using some kind of search method (by name / artist) and plays that song.\n",
    "\n",
    "b. **Played List**.  Let $P$ be a new list of played songs and let $P \\gets s_0$   \n",
    "\n",
    "c. **Cold Start**. Create a bootstrap random selection of $n$ songs from $S$ called $R$. Calculate the distance between each song and the first selection and select the closest to the chosen song . Formally:\n",
    "\n",
    "$$\n",
    "\\forall s \\in R \\text{ dist}(s_i, s_0)\n",
    "$$\n",
    "\n",
    "*potential parameter: use a value to add the closest n songs to the initial bootstrap played list*\n",
    "\n",
    "d. **Rating**. For every song that a user plays for more than 30 seconds, the song is rated $\\text{pos}$, songs that are skipped within this time period are rated $\\text{neg}$.  Songs that have not been played are rated $\\text{non}$\n",
    "\n",
    "e. **Recommending**.  Take the current set of vectors and select the next song based on some sort of agregated mean or nearest neighbour system.\n",
    "\n",
    "repeat (d) and (e) ad infinitum."
   ]
  },
  {
   "cell_type": "markdown",
   "id": "d7ac70d2",
   "metadata": {},
   "source": [
    "Formally:\n",
    "\n",
    "$$\n",
    "\\text{let: } s_0 \\gets \\text{ user}(S) \\\\\n",
    "\\text{let: } P = \\{ s_0 \\} \\\\\n",
    "\\text{let: } R \\subset S \\\\\n",
    "\\text{let: } D = \\emptyset \\\\ \n",
    "\\text{for } s_i \\text{ in } R:\\\\\n",
    "D_i = \\text{dist}(s_i, s_0) \\\\\n",
    "\\text{end for }\\\\\n",
    "\\text{select}(\\text{max}(D))\\\\\n",
    "$$"
   ]
  },
  {
   "cell_type": "code",
   "execution_count": 17,
   "id": "7693089a",
   "metadata": {},
   "outputs": [
    {
     "name": "stderr",
     "output_type": "stream",
     "text": [
      "C:\\Users\\K-San\\AppData\\Local\\Temp\\ipykernel_26868\\3998851671.py:22: ResourceWarning: unclosed file <_io.TextIOWrapper name='data\\\\mpd.slice.0-999.json' mode='r' encoding='cp1252'>\n",
      "  d = json.load(open(f))\n",
      "ResourceWarning: Enable tracemalloc to get the object allocation traceback\n",
      "C:\\Users\\K-San\\AppData\\Local\\Temp\\ipykernel_26868\\3998851671.py:22: ResourceWarning: unclosed file <_io.TextIOWrapper name='data\\\\mpd.slice.1000-1999.json' mode='r' encoding='cp1252'>\n",
      "  d = json.load(open(f))\n",
      "ResourceWarning: Enable tracemalloc to get the object allocation traceback\n",
      "C:\\Users\\K-San\\AppData\\Local\\Temp\\ipykernel_26868\\3998851671.py:22: ResourceWarning: unclosed file <_io.TextIOWrapper name='data\\\\mpd.slice.2000-2999.json' mode='r' encoding='cp1252'>\n",
      "  d = json.load(open(f))\n",
      "ResourceWarning: Enable tracemalloc to get the object allocation traceback\n",
      "C:\\Users\\K-San\\AppData\\Local\\Temp\\ipykernel_26868\\3998851671.py:22: ResourceWarning: unclosed file <_io.TextIOWrapper name='data\\\\mpd.slice.3000-3999.json' mode='r' encoding='cp1252'>\n",
      "  d = json.load(open(f))\n",
      "ResourceWarning: Enable tracemalloc to get the object allocation traceback\n"
     ]
    },
    {
     "name": "stdout",
     "output_type": "stream",
     "text": [
      "(5000, 12)\n"
     ]
    },
    {
     "name": "stderr",
     "output_type": "stream",
     "text": [
      "C:\\Users\\K-San\\AppData\\Local\\Temp\\ipykernel_26868\\3998851671.py:22: ResourceWarning: unclosed file <_io.TextIOWrapper name='data\\\\mpd.slice.4000-4999.json' mode='r' encoding='cp1252'>\n",
      "  d = json.load(open(f))\n",
      "ResourceWarning: Enable tracemalloc to get the object allocation traceback\n"
     ]
    }
   ],
   "source": [
    "import json\n",
    "import pandas as pd\n",
    "import os\n",
    "import spotipy\n",
    "from spotipy.oauth2 import SpotifyClientCredentials as cc\n",
    "import numpy as np\n",
    "import pandas as pd\n",
    "from IPython.display import display\n",
    "import warnings\n",
    "import time\n",
    "\n",
    "# create list of playlists\n",
    "playlists = []\n",
    "path = 'data'\n",
    "count = 5\n",
    "for filename in os.listdir(path):\n",
    "    count -= 1\n",
    "    if count < 0:\n",
    "        break\n",
    "    f = os.path.join(path, filename)\n",
    "    if os.path.isfile(f):\n",
    "        d = json.load(open(f))\n",
    "        playlists.append(pd.DataFrame(d['playlists']))\n",
    "\n",
    "playlists = pd.concat(playlists)\n",
    "playlists = playlists.reset_index(drop=True)\n",
    "print(playlists.shape)"
   ]
  },
  {
   "cell_type": "code",
   "execution_count": 18,
   "id": "05c28051",
   "metadata": {},
   "outputs": [
    {
     "name": "stdout",
     "output_type": "stream",
     "text": [
      "(334487, 8)\n"
     ]
    },
    {
     "data": {
      "text/plain": "   pos        artist_name                             track_uri  \\\n0    0      Missy Elliott  spotify:track:0UaMYEvWZi0ZqiDOoHU3YI   \n1    1     Britney Spears  spotify:track:6I9VzXrHxO9rA9A5euc8Ak   \n2    2            Beyoncé  spotify:track:0WqIKmW4BTrj3eJFmnCKMv   \n3    3  Justin Timberlake  spotify:track:1AWQoqb9bSvzTjaLralEkT   \n4    4             Shaggy  spotify:track:1lzr43nnXAijIGYnCT8M8H   \n\n                              artist_uri  \\\n0  spotify:artist:2wIVse2owClT7go1WT98tk   \n1  spotify:artist:26dSoYclwsYLMAKD3tpOr4   \n2  spotify:artist:6vWDO969PvNqNYHIOW5v0m   \n3  spotify:artist:31TPClRtHm23RisEBtV3X7   \n4  spotify:artist:5EvFsr3kj42KNv97ZEnqij   \n\n                                   track_name  \\\n0  Lose Control (feat. Ciara & Fat Man Scoop)   \n1                                       Toxic   \n2                               Crazy In Love   \n3                              Rock Your Body   \n4                                It Wasn't Me   \n\n                              album_uri  duration_ms  \\\n0  spotify:album:6vV5UrXcfyQD1wu4Qo2I9K       226863   \n1  spotify:album:0z7pVBGOD7HCIB7S8eLkLI       198800   \n2  spotify:album:25hVFAxTlDvXbx2X2QkUkE       235933   \n3  spotify:album:6QPkyl04rXwTGlGlcYaRoW       267266   \n4  spotify:album:6NmFmPX56pcLBOFMhIiKvF       227600   \n\n                                     album_name  \n0                                  The Cookbook  \n1                                   In The Zone  \n2  Dangerously In Love (Alben für die Ewigkeit)  \n3                                     Justified  \n4                                      Hot Shot  ",
      "text/html": "<div>\n<style scoped>\n    .dataframe tbody tr th:only-of-type {\n        vertical-align: middle;\n    }\n\n    .dataframe tbody tr th {\n        vertical-align: top;\n    }\n\n    .dataframe thead th {\n        text-align: right;\n    }\n</style>\n<table border=\"1\" class=\"dataframe\">\n  <thead>\n    <tr style=\"text-align: right;\">\n      <th></th>\n      <th>pos</th>\n      <th>artist_name</th>\n      <th>track_uri</th>\n      <th>artist_uri</th>\n      <th>track_name</th>\n      <th>album_uri</th>\n      <th>duration_ms</th>\n      <th>album_name</th>\n    </tr>\n  </thead>\n  <tbody>\n    <tr>\n      <th>0</th>\n      <td>0</td>\n      <td>Missy Elliott</td>\n      <td>spotify:track:0UaMYEvWZi0ZqiDOoHU3YI</td>\n      <td>spotify:artist:2wIVse2owClT7go1WT98tk</td>\n      <td>Lose Control (feat. Ciara &amp; Fat Man Scoop)</td>\n      <td>spotify:album:6vV5UrXcfyQD1wu4Qo2I9K</td>\n      <td>226863</td>\n      <td>The Cookbook</td>\n    </tr>\n    <tr>\n      <th>1</th>\n      <td>1</td>\n      <td>Britney Spears</td>\n      <td>spotify:track:6I9VzXrHxO9rA9A5euc8Ak</td>\n      <td>spotify:artist:26dSoYclwsYLMAKD3tpOr4</td>\n      <td>Toxic</td>\n      <td>spotify:album:0z7pVBGOD7HCIB7S8eLkLI</td>\n      <td>198800</td>\n      <td>In The Zone</td>\n    </tr>\n    <tr>\n      <th>2</th>\n      <td>2</td>\n      <td>Beyoncé</td>\n      <td>spotify:track:0WqIKmW4BTrj3eJFmnCKMv</td>\n      <td>spotify:artist:6vWDO969PvNqNYHIOW5v0m</td>\n      <td>Crazy In Love</td>\n      <td>spotify:album:25hVFAxTlDvXbx2X2QkUkE</td>\n      <td>235933</td>\n      <td>Dangerously In Love (Alben für die Ewigkeit)</td>\n    </tr>\n    <tr>\n      <th>3</th>\n      <td>3</td>\n      <td>Justin Timberlake</td>\n      <td>spotify:track:1AWQoqb9bSvzTjaLralEkT</td>\n      <td>spotify:artist:31TPClRtHm23RisEBtV3X7</td>\n      <td>Rock Your Body</td>\n      <td>spotify:album:6QPkyl04rXwTGlGlcYaRoW</td>\n      <td>267266</td>\n      <td>Justified</td>\n    </tr>\n    <tr>\n      <th>4</th>\n      <td>4</td>\n      <td>Shaggy</td>\n      <td>spotify:track:1lzr43nnXAijIGYnCT8M8H</td>\n      <td>spotify:artist:5EvFsr3kj42KNv97ZEnqij</td>\n      <td>It Wasn't Me</td>\n      <td>spotify:album:6NmFmPX56pcLBOFMhIiKvF</td>\n      <td>227600</td>\n      <td>Hot Shot</td>\n    </tr>\n  </tbody>\n</table>\n</div>"
     },
     "execution_count": 18,
     "metadata": {},
     "output_type": "execute_result"
    }
   ],
   "source": [
    "# Add all songs from the playlists into a single list of songs\n",
    "songs = [] \n",
    "for i in range(len(playlists)):\n",
    "    tracks = playlists.iloc[i].loc['tracks']\n",
    "    for track in tracks:\n",
    "        songs.append(track)\n",
    "\n",
    "songs_df = pd.DataFrame(songs)\n",
    "print(songs_df.shape)\n",
    "songs_df.head()"
   ]
  },
  {
   "cell_type": "code",
   "execution_count": 19,
   "id": "00e71357",
   "metadata": {},
   "outputs": [],
   "source": [
    "# Remove duplicate songs by URI\n",
    "songs_df = songs_df.drop_duplicates('track_uri')"
   ]
  },
  {
   "cell_type": "code",
   "execution_count": 20,
   "id": "6cffb9db",
   "metadata": {},
   "outputs": [],
   "source": [
    "# Add score placeholder to the songs\n",
    "classification = [0]*len(songs_df)\n",
    "songs_df.insert(8, \"class\", classification) # Append data frame by one column"
   ]
  },
  {
   "cell_type": "code",
   "execution_count": 21,
   "id": "fa0a9d61",
   "metadata": {},
   "outputs": [
    {
     "name": "stdout",
     "output_type": "stream",
     "text": [
      "pos                                                     0\n",
      "artist_name                                 Missy Elliott\n",
      "track_uri            spotify:track:0UaMYEvWZi0ZqiDOoHU3YI\n",
      "artist_uri          spotify:artist:2wIVse2owClT7go1WT98tk\n",
      "track_name     Lose Control (feat. Ciara & Fat Man Scoop)\n",
      "album_uri            spotify:album:6vV5UrXcfyQD1wu4Qo2I9K\n",
      "duration_ms                                        226863\n",
      "album_name                                   The Cookbook\n",
      "class                                                   0\n",
      "Name: 0, dtype: object\n"
     ]
    }
   ],
   "source": [
    "# Print song data to ensure the score was added\n",
    "print(songs_df.iloc[0])"
   ]
  },
  {
   "cell_type": "code",
   "execution_count": 22,
   "id": "a28b0223",
   "metadata": {},
   "outputs": [
    {
     "data": {
      "text/plain": "                               artist_name  \\\n0                                   Zion.T   \n1                                   Zion.T   \n2                                     KARD   \n3                                     KARD   \n4                                   Zion.T   \n...                                    ...   \n100465                          Rob Folsom   \n100466                           Jay Ungar   \n100467                               Solas   \n100468                            Kim Yoon   \n100469  The Stage Door Orchestra & Singers   \n\n                                   track_uri  \\\n0       spotify:track:6ToAD7ajJidQTDn72OncDG   \n1       spotify:track:6yEfq48XkEzCg0TwY6Hhkb   \n2       spotify:track:1ZgfAxHQCXLt8o1VXEHHAt   \n3       spotify:track:4b1sQpvL7QVgamRZ74F1oA   \n4       spotify:track:0AO2yQNGcH0ASHHU5lS4lT   \n...                                      ...   \n100465  spotify:track:7rWF4voHsXhZ3lx1BgtIjq   \n100466  spotify:track:5YUeOSawPzseEvCvi1HbrE   \n100467  spotify:track:4aAmDp1AR1Fp1UCpWuvy2d   \n100468  spotify:track:25JRhSij3kxAJ1li9lPe5k   \n100469  spotify:track:23Ktd7FBxHtP4F1llGMjOe   \n\n                                   artist_uri                      track_name  \\\n0       spotify:artist:5HenzRvMtSrgtvU16XAoby                    꺼내 먹어요 (Eat)   \n1       spotify:artist:5HenzRvMtSrgtvU16XAoby                      No Make Up   \n2       spotify:artist:2JhAlkmukNvarUpGhTFXUQ  Oh NaNa (Hidden. HUR YOUNG JI)   \n3       spotify:artist:2JhAlkmukNvarUpGhTFXUQ                    Don't Recall   \n4       spotify:artist:5HenzRvMtSrgtvU16XAoby             양화대교 (Yanghwa Brdg)   \n...                                       ...                             ...   \n100465  spotify:artist:2fHYxgIBdyFUvmxsTbQ2na                     The Ludlows   \n100466  spotify:artist:54jNT6jMGDoxMSBzUDEYSB                Cows On The Hill   \n100467  spotify:artist:2CGGUtRYybRjQmuUwXugeP                    Crested Hens   \n100468  spotify:artist:2wA50FpX5Yc5b4OrhdQVXP                 Moonlight Waltz   \n100469  spotify:artist:4rqD97trg8OUPyHKFRzA8m           And then I Kissed him   \n\n                                   album_uri  duration_ms  \\\n0       spotify:album:3JdBY835ai83ZEVwvBsIDN       161624   \n1       spotify:album:5vudrVEnoTqgAgATgafUL2       189154   \n2       spotify:album:2HpryOOYLbnST4aCT5v4lF       206772   \n3       spotify:album:4wTkdR3v9qFdRuCf2hpBZn       208666   \n4       spotify:album:06ngphQtoWwkns4H1tpXnq       229349   \n...                                      ...          ...   \n100465  spotify:album:5Q4h4AmcAw0tElWXQbQMqO       240927   \n100466  spotify:album:38D9S6sriWlYlbUBONInpa       225440   \n100467  spotify:album:1EL10LDAWFZdencyTUlGqu       314186   \n100468  spotify:album:6pFFE9TLlHpeQrvOVNiswy       226925   \n100469  spotify:album:3FFYR0nzt8D2rx2Roh9GHu       336720   \n\n                                               album_name  class  \\\n0                                   꺼내 먹어요 (Eat) - Single      0   \n1                                     No Make Up - Single      0   \n2                         K.A.R.D Project Vol.1 \"Oh NaNa\"      0   \n3                    K.A.R.D Project Vol.2 \"Don't Recall\"      0   \n4                            양화대교 (Yanghwa Brdg) - Single      0   \n...                                                   ...    ...   \n100465                               Sentimental Serenade      0   \n100466  Waltzing With You (Music From The Film \"Brothe...      0   \n100467                                              Solas      0   \n100468                           Dreaming in the Blue Sky      0   \n100469              The Passion of Pearl Harbor & Titanic      0   \n\n        acousticness  danceability  energy  liveness    tempo  valence  \n0             0.5440        0.6280   0.284    0.1210   91.131   0.3540  \n1             0.4110        0.7580   0.402    0.2170   92.109   0.5190  \n2             0.0615        0.7560   0.922    0.0723  100.005   0.8090  \n3             0.0222        0.6940   0.748    0.1550   92.918   0.5210  \n4             0.7260        0.5380   0.436    0.1510   87.111   0.3700  \n...              ...           ...     ...       ...      ...      ...  \n100465        0.9470        0.2980   0.164    0.1390   79.968   0.1010  \n100466        0.7230        0.1120   0.157    0.2120   92.197   0.0864  \n100467        0.4200        0.1690   0.209    0.0985   78.355   0.1020  \n100468        0.9050        0.4650   0.156    0.1290   83.021   0.1820  \n100469        0.8260        0.0707   0.117    0.2240   76.851   0.0371  \n\n[100470 rows x 14 columns]",
      "text/html": "<div>\n<style scoped>\n    .dataframe tbody tr th:only-of-type {\n        vertical-align: middle;\n    }\n\n    .dataframe tbody tr th {\n        vertical-align: top;\n    }\n\n    .dataframe thead th {\n        text-align: right;\n    }\n</style>\n<table border=\"1\" class=\"dataframe\">\n  <thead>\n    <tr style=\"text-align: right;\">\n      <th></th>\n      <th>artist_name</th>\n      <th>track_uri</th>\n      <th>artist_uri</th>\n      <th>track_name</th>\n      <th>album_uri</th>\n      <th>duration_ms</th>\n      <th>album_name</th>\n      <th>class</th>\n      <th>acousticness</th>\n      <th>danceability</th>\n      <th>energy</th>\n      <th>liveness</th>\n      <th>tempo</th>\n      <th>valence</th>\n    </tr>\n  </thead>\n  <tbody>\n    <tr>\n      <th>0</th>\n      <td>Zion.T</td>\n      <td>spotify:track:6ToAD7ajJidQTDn72OncDG</td>\n      <td>spotify:artist:5HenzRvMtSrgtvU16XAoby</td>\n      <td>꺼내 먹어요 (Eat)</td>\n      <td>spotify:album:3JdBY835ai83ZEVwvBsIDN</td>\n      <td>161624</td>\n      <td>꺼내 먹어요 (Eat) - Single</td>\n      <td>0</td>\n      <td>0.5440</td>\n      <td>0.6280</td>\n      <td>0.284</td>\n      <td>0.1210</td>\n      <td>91.131</td>\n      <td>0.3540</td>\n    </tr>\n    <tr>\n      <th>1</th>\n      <td>Zion.T</td>\n      <td>spotify:track:6yEfq48XkEzCg0TwY6Hhkb</td>\n      <td>spotify:artist:5HenzRvMtSrgtvU16XAoby</td>\n      <td>No Make Up</td>\n      <td>spotify:album:5vudrVEnoTqgAgATgafUL2</td>\n      <td>189154</td>\n      <td>No Make Up - Single</td>\n      <td>0</td>\n      <td>0.4110</td>\n      <td>0.7580</td>\n      <td>0.402</td>\n      <td>0.2170</td>\n      <td>92.109</td>\n      <td>0.5190</td>\n    </tr>\n    <tr>\n      <th>2</th>\n      <td>KARD</td>\n      <td>spotify:track:1ZgfAxHQCXLt8o1VXEHHAt</td>\n      <td>spotify:artist:2JhAlkmukNvarUpGhTFXUQ</td>\n      <td>Oh NaNa (Hidden. HUR YOUNG JI)</td>\n      <td>spotify:album:2HpryOOYLbnST4aCT5v4lF</td>\n      <td>206772</td>\n      <td>K.A.R.D Project Vol.1 \"Oh NaNa\"</td>\n      <td>0</td>\n      <td>0.0615</td>\n      <td>0.7560</td>\n      <td>0.922</td>\n      <td>0.0723</td>\n      <td>100.005</td>\n      <td>0.8090</td>\n    </tr>\n    <tr>\n      <th>3</th>\n      <td>KARD</td>\n      <td>spotify:track:4b1sQpvL7QVgamRZ74F1oA</td>\n      <td>spotify:artist:2JhAlkmukNvarUpGhTFXUQ</td>\n      <td>Don't Recall</td>\n      <td>spotify:album:4wTkdR3v9qFdRuCf2hpBZn</td>\n      <td>208666</td>\n      <td>K.A.R.D Project Vol.2 \"Don't Recall\"</td>\n      <td>0</td>\n      <td>0.0222</td>\n      <td>0.6940</td>\n      <td>0.748</td>\n      <td>0.1550</td>\n      <td>92.918</td>\n      <td>0.5210</td>\n    </tr>\n    <tr>\n      <th>4</th>\n      <td>Zion.T</td>\n      <td>spotify:track:0AO2yQNGcH0ASHHU5lS4lT</td>\n      <td>spotify:artist:5HenzRvMtSrgtvU16XAoby</td>\n      <td>양화대교 (Yanghwa Brdg)</td>\n      <td>spotify:album:06ngphQtoWwkns4H1tpXnq</td>\n      <td>229349</td>\n      <td>양화대교 (Yanghwa Brdg) - Single</td>\n      <td>0</td>\n      <td>0.7260</td>\n      <td>0.5380</td>\n      <td>0.436</td>\n      <td>0.1510</td>\n      <td>87.111</td>\n      <td>0.3700</td>\n    </tr>\n    <tr>\n      <th>...</th>\n      <td>...</td>\n      <td>...</td>\n      <td>...</td>\n      <td>...</td>\n      <td>...</td>\n      <td>...</td>\n      <td>...</td>\n      <td>...</td>\n      <td>...</td>\n      <td>...</td>\n      <td>...</td>\n      <td>...</td>\n      <td>...</td>\n      <td>...</td>\n    </tr>\n    <tr>\n      <th>100465</th>\n      <td>Rob Folsom</td>\n      <td>spotify:track:7rWF4voHsXhZ3lx1BgtIjq</td>\n      <td>spotify:artist:2fHYxgIBdyFUvmxsTbQ2na</td>\n      <td>The Ludlows</td>\n      <td>spotify:album:5Q4h4AmcAw0tElWXQbQMqO</td>\n      <td>240927</td>\n      <td>Sentimental Serenade</td>\n      <td>0</td>\n      <td>0.9470</td>\n      <td>0.2980</td>\n      <td>0.164</td>\n      <td>0.1390</td>\n      <td>79.968</td>\n      <td>0.1010</td>\n    </tr>\n    <tr>\n      <th>100466</th>\n      <td>Jay Ungar</td>\n      <td>spotify:track:5YUeOSawPzseEvCvi1HbrE</td>\n      <td>spotify:artist:54jNT6jMGDoxMSBzUDEYSB</td>\n      <td>Cows On The Hill</td>\n      <td>spotify:album:38D9S6sriWlYlbUBONInpa</td>\n      <td>225440</td>\n      <td>Waltzing With You (Music From The Film \"Brothe...</td>\n      <td>0</td>\n      <td>0.7230</td>\n      <td>0.1120</td>\n      <td>0.157</td>\n      <td>0.2120</td>\n      <td>92.197</td>\n      <td>0.0864</td>\n    </tr>\n    <tr>\n      <th>100467</th>\n      <td>Solas</td>\n      <td>spotify:track:4aAmDp1AR1Fp1UCpWuvy2d</td>\n      <td>spotify:artist:2CGGUtRYybRjQmuUwXugeP</td>\n      <td>Crested Hens</td>\n      <td>spotify:album:1EL10LDAWFZdencyTUlGqu</td>\n      <td>314186</td>\n      <td>Solas</td>\n      <td>0</td>\n      <td>0.4200</td>\n      <td>0.1690</td>\n      <td>0.209</td>\n      <td>0.0985</td>\n      <td>78.355</td>\n      <td>0.1020</td>\n    </tr>\n    <tr>\n      <th>100468</th>\n      <td>Kim Yoon</td>\n      <td>spotify:track:25JRhSij3kxAJ1li9lPe5k</td>\n      <td>spotify:artist:2wA50FpX5Yc5b4OrhdQVXP</td>\n      <td>Moonlight Waltz</td>\n      <td>spotify:album:6pFFE9TLlHpeQrvOVNiswy</td>\n      <td>226925</td>\n      <td>Dreaming in the Blue Sky</td>\n      <td>0</td>\n      <td>0.9050</td>\n      <td>0.4650</td>\n      <td>0.156</td>\n      <td>0.1290</td>\n      <td>83.021</td>\n      <td>0.1820</td>\n    </tr>\n    <tr>\n      <th>100469</th>\n      <td>The Stage Door Orchestra &amp; Singers</td>\n      <td>spotify:track:23Ktd7FBxHtP4F1llGMjOe</td>\n      <td>spotify:artist:4rqD97trg8OUPyHKFRzA8m</td>\n      <td>And then I Kissed him</td>\n      <td>spotify:album:3FFYR0nzt8D2rx2Roh9GHu</td>\n      <td>336720</td>\n      <td>The Passion of Pearl Harbor &amp; Titanic</td>\n      <td>0</td>\n      <td>0.8260</td>\n      <td>0.0707</td>\n      <td>0.117</td>\n      <td>0.2240</td>\n      <td>76.851</td>\n      <td>0.0371</td>\n    </tr>\n  </tbody>\n</table>\n<p>100470 rows × 14 columns</p>\n</div>"
     },
     "metadata": {},
     "output_type": "display_data"
    }
   ],
   "source": [
    "#DO NOT RUN THE AUDIO FEATURES HAVE ALREADY BEEN STORED IN THE AUDIO_FEATURES FILE\n",
    "def run_features():\n",
    "    #CREATE DATASET WITH SONG AUDIO FEATURES FROM THE URIS OF songs_df\n",
    "    client_id = '898dd71dc932407e85921f0ac79f0127'\n",
    "    client_secret = '16d994f070064371beb8758f32d64180'\n",
    "    #https://developer.spotify.com/dashboard/applications/898dd71dc932407e85921f0ac79f0127\n",
    "    client_cc = cc(client_id=client_id,client_secret=client_secret)\n",
    "    sp = spotipy.Spotify(client_credentials_manager=client_cc)\n",
    "\n",
    "\n",
    "    sleep_min = 1\n",
    "    sleep_max = 2\n",
    "    start_time = time.time()\n",
    "    request_count = 0\n",
    "    tracks_w_features = pd.DataFrame()\n",
    "    for i in range(0,3344):\n",
    "        if request_count % 13 == 0:\n",
    "            time.sleep(np.random.uniform(sleep_min, sleep_max))\n",
    "        else:\n",
    "            tracks_to_get = songs_df.iloc[request_count:request_count+100][\"track_uri\"] #get the uri of these songs to get audio features\n",
    "            tracks = pd.DataFrame(sp.audio_features(tracks_to_get))\n",
    "            tracks_w_features = tracks_w_features.append(tracks)\n",
    "        request_count+=100\n",
    "\n",
    "    #remove useless-categorical columns, can use index to get song information later\n",
    "    tracks_w_features = tracks_w_features.drop(columns=['mode','key','time_signature', 'duration_ms','analysis_url','track_href','id','type']).copy()\n",
    "    warnings.filterwarnings(\"ignore\")\n",
    "    warnings.filterwarnings(action='once')\n",
    "\n",
    "    from pathlib import Path\n",
    "    filepath = Path('recommender-systems/audio_features.csv')\n",
    "    filepath.parent.mkdir(parents=True, exist_ok=True)\n",
    "    tracks_w_features.to_csv(filepath)\n",
    "def merge():\n",
    "    tracks_w_features = pd.read_csv('recommender-systems/audio_features.csv')\n",
    "    tracks_w_features = tracks_w_features.drop(columns=['Unnamed: 0','0','instrumentalness','loudness','speechiness'])\n",
    "    tracks_w_features = tracks_w_features.rename(columns={\"uri\": \"track_uri\"})\n",
    "    display(songs_df.head())\n",
    "    display(tracks_w_features.head())\n",
    "\n",
    "\n",
    "    songs = pd.merge(songs_df, tracks_w_features, on='track_uri')\n",
    "    display(songs)\n",
    "\n",
    "    from pathlib import Path\n",
    "    filepath = Path('recommender-systems/allsongs.csv')\n",
    "    filepath.parent.mkdir(parents=True, exist_ok=True)\n",
    "    songs.to_csv(filepath)\n",
    "\n",
    "tracks_w_features = pd.read_csv('recommender-systems/audio_features.csv')\n",
    "tracks_w_features = tracks_w_features.drop(columns=['Unnamed: 0','0'])\n",
    "\n",
    "songs = pd.read_csv('recommender-systems/allsongs.csv')\n",
    "songs = songs.drop(columns=['Unnamed: 0','pos'])\n",
    "display(songs)"
   ]
  },
  {
   "cell_type": "code",
   "execution_count": 23,
   "id": "afdea991",
   "metadata": {},
   "outputs": [
    {
     "ename": "ImportError",
     "evalue": "matplotlib is required for plotting when the default backend \"matplotlib\" is selected.",
     "output_type": "error",
     "traceback": [
      "\u001B[1;31m---------------------------------------------------------------------------\u001B[0m",
      "\u001B[1;31mImportError\u001B[0m                               Traceback (most recent call last)",
      "Cell \u001B[1;32mIn [23], line 2\u001B[0m\n\u001B[0;32m      1\u001B[0m \u001B[38;5;66;03m# Investigate data\u001B[39;00m\n\u001B[1;32m----> 2\u001B[0m \u001B[43mtracks_w_features\u001B[49m\u001B[38;5;241;43m.\u001B[39;49m\u001B[43mhist\u001B[49m\u001B[43m(\u001B[49m\u001B[43mfigsize\u001B[49m\u001B[38;5;241;43m=\u001B[39;49m\u001B[43m(\u001B[49m\u001B[38;5;241;43m15\u001B[39;49m\u001B[43m,\u001B[49m\u001B[38;5;241;43m15\u001B[39;49m\u001B[43m)\u001B[49m\u001B[43m,\u001B[49m\u001B[43m \u001B[49m\u001B[43mbins\u001B[49m\u001B[38;5;241;43m=\u001B[39;49m\u001B[38;5;241;43m100\u001B[39;49m\u001B[43m)\u001B[49m\n",
      "File \u001B[1;32mc:\\users\\k-san\\pycharmprojects\\recommender-systems\\venv\\lib\\site-packages\\pandas\\plotting\\_core.py:231\u001B[0m, in \u001B[0;36mhist_frame\u001B[1;34m(data, column, by, grid, xlabelsize, xrot, ylabelsize, yrot, ax, sharex, sharey, figsize, layout, bins, backend, legend, **kwargs)\u001B[0m\n\u001B[0;32m    122\u001B[0m \u001B[38;5;28;01mdef\u001B[39;00m \u001B[38;5;21mhist_frame\u001B[39m(\n\u001B[0;32m    123\u001B[0m     data: DataFrame,\n\u001B[0;32m    124\u001B[0m     column: IndexLabel \u001B[38;5;241m=\u001B[39m \u001B[38;5;28;01mNone\u001B[39;00m,\n\u001B[1;32m   (...)\u001B[0m\n\u001B[0;32m    139\u001B[0m     \u001B[38;5;241m*\u001B[39m\u001B[38;5;241m*\u001B[39mkwargs,\n\u001B[0;32m    140\u001B[0m ):\n\u001B[0;32m    141\u001B[0m     \u001B[38;5;124;03m\"\"\"\u001B[39;00m\n\u001B[0;32m    142\u001B[0m \u001B[38;5;124;03m    Make a histogram of the DataFrame's columns.\u001B[39;00m\n\u001B[0;32m    143\u001B[0m \n\u001B[1;32m   (...)\u001B[0m\n\u001B[0;32m    229\u001B[0m \u001B[38;5;124;03m        >>> hist = df.hist(bins=3)\u001B[39;00m\n\u001B[0;32m    230\u001B[0m \u001B[38;5;124;03m    \"\"\"\u001B[39;00m\n\u001B[1;32m--> 231\u001B[0m     plot_backend \u001B[38;5;241m=\u001B[39m \u001B[43m_get_plot_backend\u001B[49m\u001B[43m(\u001B[49m\u001B[43mbackend\u001B[49m\u001B[43m)\u001B[49m\n\u001B[0;32m    232\u001B[0m     \u001B[38;5;28;01mreturn\u001B[39;00m plot_backend\u001B[38;5;241m.\u001B[39mhist_frame(\n\u001B[0;32m    233\u001B[0m         data,\n\u001B[0;32m    234\u001B[0m         column\u001B[38;5;241m=\u001B[39mcolumn,\n\u001B[1;32m   (...)\u001B[0m\n\u001B[0;32m    248\u001B[0m         \u001B[38;5;241m*\u001B[39m\u001B[38;5;241m*\u001B[39mkwargs,\n\u001B[0;32m    249\u001B[0m     )\n",
      "File \u001B[1;32mc:\\users\\k-san\\pycharmprojects\\recommender-systems\\venv\\lib\\site-packages\\pandas\\plotting\\_core.py:1908\u001B[0m, in \u001B[0;36m_get_plot_backend\u001B[1;34m(backend)\u001B[0m\n\u001B[0;32m   1905\u001B[0m \u001B[38;5;28;01mif\u001B[39;00m backend_str \u001B[38;5;129;01min\u001B[39;00m _backends:\n\u001B[0;32m   1906\u001B[0m     \u001B[38;5;28;01mreturn\u001B[39;00m _backends[backend_str]\n\u001B[1;32m-> 1908\u001B[0m module \u001B[38;5;241m=\u001B[39m \u001B[43m_load_backend\u001B[49m\u001B[43m(\u001B[49m\u001B[43mbackend_str\u001B[49m\u001B[43m)\u001B[49m\n\u001B[0;32m   1909\u001B[0m _backends[backend_str] \u001B[38;5;241m=\u001B[39m module\n\u001B[0;32m   1910\u001B[0m \u001B[38;5;28;01mreturn\u001B[39;00m module\n",
      "File \u001B[1;32mc:\\users\\k-san\\pycharmprojects\\recommender-systems\\venv\\lib\\site-packages\\pandas\\plotting\\_core.py:1839\u001B[0m, in \u001B[0;36m_load_backend\u001B[1;34m(backend)\u001B[0m\n\u001B[0;32m   1837\u001B[0m         module \u001B[38;5;241m=\u001B[39m importlib\u001B[38;5;241m.\u001B[39mimport_module(\u001B[38;5;124m\"\u001B[39m\u001B[38;5;124mpandas.plotting._matplotlib\u001B[39m\u001B[38;5;124m\"\u001B[39m)\n\u001B[0;32m   1838\u001B[0m     \u001B[38;5;28;01mexcept\u001B[39;00m \u001B[38;5;167;01mImportError\u001B[39;00m:\n\u001B[1;32m-> 1839\u001B[0m         \u001B[38;5;28;01mraise\u001B[39;00m \u001B[38;5;167;01mImportError\u001B[39;00m(\n\u001B[0;32m   1840\u001B[0m             \u001B[38;5;124m\"\u001B[39m\u001B[38;5;124mmatplotlib is required for plotting when the \u001B[39m\u001B[38;5;124m\"\u001B[39m\n\u001B[0;32m   1841\u001B[0m             \u001B[38;5;124m'\u001B[39m\u001B[38;5;124mdefault backend \u001B[39m\u001B[38;5;124m\"\u001B[39m\u001B[38;5;124mmatplotlib\u001B[39m\u001B[38;5;124m\"\u001B[39m\u001B[38;5;124m is selected.\u001B[39m\u001B[38;5;124m'\u001B[39m\n\u001B[0;32m   1842\u001B[0m         ) \u001B[38;5;28;01mfrom\u001B[39;00m \u001B[38;5;28mNone\u001B[39m\n\u001B[0;32m   1843\u001B[0m     \u001B[38;5;28;01mreturn\u001B[39;00m module\n\u001B[0;32m   1845\u001B[0m found_backend \u001B[38;5;241m=\u001B[39m \u001B[38;5;28;01mFalse\u001B[39;00m\n",
      "\u001B[1;31mImportError\u001B[0m: matplotlib is required for plotting when the default backend \"matplotlib\" is selected."
     ]
    }
   ],
   "source": [
    "# Investigate data\n",
    "tracks_w_features.hist(figsize=(15,15), bins=100);"
   ]
  },
  {
   "cell_type": "code",
   "execution_count": null,
   "id": "f4eb1393",
   "metadata": {},
   "outputs": [],
   "source": [
    "# Search for a particular song \n",
    "print(\"Search for a song name\")\n",
    "s = input()\n",
    "pattern = [s]\n",
    "\n",
    "# filter for rows that contain the partial string inputted by the user\n",
    "results = songs.copy()\n",
    "results[songs.track_name.str.contains('|'.join(pattern))]"
   ]
  },
  {
   "cell_type": "code",
   "execution_count": 58,
   "id": "43504c4b",
   "metadata": {
    "pycharm": {
     "name": "#%%\n"
    }
   },
   "outputs": [
    {
     "name": "stdout",
     "output_type": "stream",
     "text": [
      "Select your first song by copying the track_URI from above (i.e. spotify:track:2wSAWEYUHkt92X4SBAPqZE)\n"
     ]
    }
   ],
   "source": [
    "import max_marg_relevance\n",
    "from sklearn.metrics.pairwise import cosine_similarity\n",
    "from sklearn.metrics.pairwise import laplacian_kernel\n",
    "\n",
    "# Ask the user to enter a track URI for the first song they want to play\n",
    "print(\"Select your first song by copying the track_URI from above (i.e. spotify:track:2wSAWEYUHkt92X4SBAPqZE)\")\n",
    "#s = input()\n",
    "s = \"spotify:track:6bLopGnirdrilrpdVB6Um1\"\n",
    "\n",
    "# Mark this song as \"Played\" with a positive rating (as the user chose it)\n",
    "index = tracks_w_features.index[tracks_w_features['uri'] == s]     # This returns the song with the uri of 's'\n",
    "\n",
    "def getRecommendation(songs):\n",
    "    liked_songs = songs.loc[songs['class'] == 1]\n",
    "    average_session_songs = liked_songs[['acousticness','danceability','energy','liveness','tempo','valence']].mean()\n",
    "    songs_to_recommend_from = songs.sample(n=20)\n",
    "    songs_to_recommend_from =songs_to_recommend_from.filter(['acousticness','danceability','energy','liveness','tempo','valence','track_uri'])\n",
    "    return maximal_marginal_relevance(average_session_songs,songs_to_recommend_from)\n",
    "\n",
    "def maximal_marginal_relevance(v1,songs_to_compare, lambda_constant=0.5, threshold_terms=1, sim = True):\n",
    "    \"\"\"\n",
    "    Return ranked phrases using MMR. Cosine similarity is used as similarity measure.\n",
    "    :param v1: query vector\n",
    "    :param songs: matrix having index as songs and values as vector\n",
    "    :param lambda_constant: 0.5 to balance diversity and accuracy. if lambda_constant is high, then higher accuracy. If lambda_constant is low then high diversity.\n",
    "    :param threshold_terms: number of terms to include in result set\n",
    "    :return: Ranked songs with score\n",
    "    \"\"\"\n",
    "    s = []\n",
    "    r = songs_to_compare['track_uri'].tolist()\n",
    "    while len(r) > 0:\n",
    "        score = 0\n",
    "        song_to_add = None\n",
    "        for i in r:\n",
    "            row = songs_to_compare.loc[songs_to_compare['track_uri'] == i]\n",
    "            row = row.drop(columns=['track_uri'])\n",
    "            row = row.to_numpy()\n",
    "            if len(row) < 1:\n",
    "              r.remove(i)\n",
    "              break\n",
    "            if sim:\n",
    "                first_part = cosine_similarity([v1], [row[0]])\n",
    "            else:\n",
    "                first_part = laplacian_kernel([v1], [row[0]])\n",
    "            second_part = 0\n",
    "            for j in s:\n",
    "                row2 = songs_to_compare.loc[songs_to_compare['track_uri'] == j[0]]\n",
    "                row2 = row2.drop(columns=['track_uri'])\n",
    "                row2 = row2.to_numpy()\n",
    "                if sim:\n",
    "                    sim = cosine_similarity([row[0]],[row2[0]])\n",
    "                else:\n",
    "                    sim = laplacian_kernel([row[0]], [row2[0]])\n",
    "                if sim > second_part:\n",
    "                    second_part = sim\n",
    "            equation_score = lambda_constant*(first_part)-(1-lambda_constant) * second_part\n",
    "            if equation_score > score:\n",
    "                score = equation_score\n",
    "                song_to_add = i\n",
    "        if song_to_add is None:\n",
    "            song_to_add = i\n",
    "        r.remove(song_to_add)\n",
    "        s.append((song_to_add, score))\n",
    "    return s[:threshold_terms][0][0]"
   ]
  },
  {
   "cell_type": "code",
   "execution_count": 61,
   "outputs": [
    {
     "name": "stdout",
     "output_type": "stream",
     "text": [
      "-------- Track 1: 1 --------\n",
      "Average feature vector: [0.0174, 0.639, 0.785, 0.0512, 0.7677999999999999, 0.686]\n",
      "Current feature vector: [0.0174, 0.639, 0.785, 0.0512, 0.7677999999999999, 0.686]\n",
      "skipped\n",
      "-------- Track 1: 2 --------\n",
      "Average feature vector: [0.03965, 0.657, 0.7555000000000001, 0.07285, 0.6958059999999999, 0.6385000000000001]\n",
      "Current feature vector: [0.0619, 0.675, 0.726, 0.0945, 0.623812, 0.591]\n",
      "not skipped\n",
      "-------- Track 1: 3 --------\n",
      "Average feature vector: [0.10176666666666667, 0.663, 0.744, 0.07933333333333333, 0.6437906666666666, 0.6113333333333334]\n",
      "Current feature vector: [0.226, 0.675, 0.721, 0.0923, 0.53976, 0.557]\n",
      "not skipped\n",
      "-------- Track 1: 4 --------\n",
      "Average feature vector: [0.210075, 0.676, 0.74675, 0.080575, 0.616655, 0.5967500000000001]\n",
      "Current feature vector: [0.535, 0.715, 0.755, 0.0843, 0.5352480000000001, 0.553]\n",
      "quit session\n"
     ]
    }
   ],
   "source": [
    "# --- Start and simulate a session ---\n",
    "\n",
    "continue_ = True\n",
    "current_song_index = songs.index[songs['track_uri'] == s].tolist()[0]\n",
    "avg_features = [0]*6 # stores the average of each feature in the current session\n",
    "session_length = 0\n",
    "\n",
    "while continue_:\n",
    "    session_length += 1\n",
    "    print(\"-------- Track 1:\", session_length, \"--------\")\n",
    "    current_song_artist = songs.iloc[current_song_index][\"artist_name\"]\n",
    "    current_song_name = songs.iloc[current_song_index][\"track_name\"]\n",
    "\n",
    "    # --- Explanation ---\n",
    "\n",
    "    # Update average feature vector (incremental averaging)\n",
    "\n",
    "    # 1 - accousticness\n",
    "    feature_1 = songs.iloc[current_song_index][\"acousticness\"]\n",
    "    avg_features[0] = avg_features[0] + ((feature_1 - avg_features[0]) / session_length)\n",
    "\n",
    "    # 2 - danceability\n",
    "    feature_2 = songs.iloc[current_song_index][\"danceability\"]\n",
    "    avg_features[1] = avg_features[1] + ((feature_2 - avg_features[1]) / session_length)\n",
    "\n",
    "    # 3 - energy\n",
    "    feature_3 = songs.iloc[current_song_index][\"energy\"]\n",
    "    avg_features[2] = avg_features[2] + ((feature_3 - avg_features[2]) / session_length)\n",
    "\n",
    "    # 4 - liveness\n",
    "    feature_4 = songs.iloc[current_song_index][\"liveness\"]\n",
    "    avg_features[3] = avg_features[3] + ((feature_4 - avg_features[3]) / session_length)\n",
    "\n",
    "    # 5 - tempo\n",
    "    feature_5 = songs.iloc[current_song_index][\"tempo\"] / 250 # normalise\n",
    "    avg_features[4] = avg_features[4] + ((feature_5 - avg_features[4]) / session_length)\n",
    "\n",
    "    # 6 - valence\n",
    "    feature_6 = songs.iloc[current_song_index][\"valence\"]\n",
    "    avg_features[5] = avg_features[5] + ((feature_6 - avg_features[5]) / session_length)\n",
    "\n",
    "    # Find smallest difference\n",
    "    current_features = [feature_1, feature_2, feature_3, feature_4, feature_5, feature_6]\n",
    "    difference_vector = [0] * 6\n",
    "    for i in range(len(difference_vector)):\n",
    "        difference_vector[i] = current_features[i] - difference_vector[i]\n",
    "        if difference_vector[i] < 0:\n",
    "            difference_vector *= -1\n",
    "\n",
    "    print(\"Average feature vector:\", avg_features)\n",
    "    print(\"Current feature vector:\", current_features)\n",
    "\n",
    "    # Generate explanation string\n",
    "    min_index = difference_vector.index(min(difference_vector))\n",
    "    selected_feature = \"ERROR\" # Default value\n",
    "\n",
    "    if min_index == 0:\n",
    "        selected_feature = \"acousticness\"\n",
    "    if min_index == 1:\n",
    "        selected_feature = \"danceability\"\n",
    "    if min_index == 2:\n",
    "        selected_feature = \"energy\"\n",
    "    if min_index == 3:\n",
    "        selected_feature = \"liveness\"\n",
    "    if min_index == 4:\n",
    "        selected_feature = \"tempo\"\n",
    "    if min_index == 5:\n",
    "        selected_feature = \"valence\"\n",
    "\n",
    "    explanation_string = \"This song was chosen because the %s fits your session best.\\n\\n\" % selected_feature\n",
    "    if session_length == 1:\n",
    "        explanation_string = \"\"\n",
    "\n",
    "    # --- Main loop ---\n",
    "\n",
    "    in_ = input(explanation_string + current_song_artist + \"-\" + current_song_name + \"\\n\\n\" + \"Skip (y) or listen (n) or quit (q)?\")\n",
    "\n",
    "    if in_ == \"y\":\n",
    "        print(\"skipped\")\n",
    "        songs.at[current_song_index, \"class\"] = -1 # negative rating\n",
    "    elif in_ == \"n\":\n",
    "        print(\"not skipped\")\n",
    "        songs.at[current_song_index, \"class\"] = 1  # positive rating\n",
    "    elif in_ == \"q\":\n",
    "        print(\"quit session\")\n",
    "        continue_ = False\n",
    "    else:\n",
    "        print(\"Invalid input\")\n",
    "    uri = getRecommendation(songs)\n",
    "    current_song_index = songs.index[songs[\"track_uri\"] == uri].tolist()[0] # TODO: Change to get next recommended song index (of songs data frame)"
   ],
   "metadata": {
    "collapsed": false,
    "pycharm": {
     "name": "#%%\n"
    }
   }
  }
 ],
 "metadata": {
  "kernelspec": {
   "display_name": "Python 3 (ipykernel)",
   "language": "python",
   "name": "python3"
  },
  "language_info": {
   "codemirror_mode": {
    "name": "ipython",
    "version": 3
   },
   "file_extension": ".py",
   "mimetype": "text/x-python",
   "name": "python",
   "nbconvert_exporter": "python",
   "pygments_lexer": "ipython3",
   "version": "3.10.6"
  }
 },
 "nbformat": 4,
 "nbformat_minor": 5
}