{
 "cells": [
  {
   "cell_type": "markdown",
   "id": "2c5e86fe",
   "metadata": {},
   "source": [
    "# Spotify Mood Session\n",
    "\n",
    "## 1. Algorithm\n",
    "\n",
    "a. **First Selection**. User selects a song $s_0$ from the set of all songs $S$ using some kind of search method (by name / artist) and plays that song.\n",
    "\n",
    "b. **Played List**.  Let $P$ be a new list of played songs and let $P \\gets s_0$   \n",
    "\n",
    "c. **Cold Start**. Create a bootstrap random selection of $n$ songs from $S$ called $R$. Calculate the distance between each song and the first selection and select the closest to the chosen song . Formally:\n",
    "\n",
    "$$\n",
    "\\forall s \\in R \\text{ dist}(s_i, s_0)\n",
    "$$\n",
    "\n",
    "*potential parameter: use a value to add the closest n songs to the initial bootstrap played list*\n",
    "\n",
    "d. **Rating**. For every song that a user plays for more than 30 seconds, the song is rated $\\text{pos}$, songs that are skipped within this time period are rated $\\text{neg}$.  Songs that have not been played are rated $\\text{non}$\n",
    "\n",
    "e. **Recommending**.  Take the current set of vectors and select the next song based on some sort of agregated mean or nearest neighbour system.\n",
    "\n",
    "repeat (d) and (e) ad infinitum."
   ]
  },
  {
   "cell_type": "markdown",
   "id": "d7ac70d2",
   "metadata": {},
   "source": [
    "Formally:\n",
    "\n",
    "$$\n",
    "\\text{let: } s_0 \\gets \\text{ user}(S) \\\\\n",
    "\\text{let: } P = \\{ s_0 \\} \\\\\n",
    "\\text{let: } R \\subset S \\\\\n",
    "\\text{let: } D = \\emptyset \\\\ \n",
    "\\text{for } s_i \\text{ in } R:\\\\\n",
    "D_i = \\text{dist}(s_i, s_0) \\\\\n",
    "\\text{end for }\\\\\n",
    "\\text{select}(\\text{max}(D))\\\\\n",
    "$$"
   ]
  },
  {
   "cell_type": "code",
   "execution_count": 2,
   "id": "7693089a",
   "metadata": {},
   "outputs": [
    {
     "name": "stdout",
     "output_type": "stream",
     "text": [
      "(5000, 12)\n"
     ]
    }
   ],
   "source": [
    "import json\n",
    "import pandas as pd\n",
    "import os\n",
    "import spotipy\n",
    "from spotipy.oauth2 import SpotifyClientCredentials as cc\n",
    "import numpy as np\n",
    "import pandas as pd\n",
    "from IPython.display import display\n",
    "import warnings\n",
    "import time\n",
    "\n",
    "# create list of playlists\n",
    "playlists = []\n",
    "path = 'data'\n",
    "count = 5\n",
    "for filename in os.listdir(path):\n",
    "    count -= 1\n",
    "    if count < 0:\n",
    "        break\n",
    "    f = os.path.join(path, filename)\n",
    "    if os.path.isfile(f):\n",
    "        d = json.load(open(f))\n",
    "        playlists.append(pd.DataFrame(d['playlists']))\n",
    "\n",
    "playlists = pd.concat(playlists)\n",
    "playlists = playlists.reset_index(drop=True)\n",
    "print(playlists.shape)"
   ]
  },
  {
   "cell_type": "code",
   "execution_count": 3,
   "id": "05c28051",
   "metadata": {},
   "outputs": [
    {
     "name": "stdout",
     "output_type": "stream",
     "text": [
      "(335094, 8)\n"
     ]
    },
    {
     "data": {
      "text/plain": "   pos        artist_name                             track_uri  \\\n0    0      Missy Elliott  spotify:track:0UaMYEvWZi0ZqiDOoHU3YI   \n1    1     Britney Spears  spotify:track:6I9VzXrHxO9rA9A5euc8Ak   \n2    2            Beyoncé  spotify:track:0WqIKmW4BTrj3eJFmnCKMv   \n3    3  Justin Timberlake  spotify:track:1AWQoqb9bSvzTjaLralEkT   \n4    4             Shaggy  spotify:track:1lzr43nnXAijIGYnCT8M8H   \n\n                              artist_uri  \\\n0  spotify:artist:2wIVse2owClT7go1WT98tk   \n1  spotify:artist:26dSoYclwsYLMAKD3tpOr4   \n2  spotify:artist:6vWDO969PvNqNYHIOW5v0m   \n3  spotify:artist:31TPClRtHm23RisEBtV3X7   \n4  spotify:artist:5EvFsr3kj42KNv97ZEnqij   \n\n                                   track_name  \\\n0  Lose Control (feat. Ciara & Fat Man Scoop)   \n1                                       Toxic   \n2                               Crazy In Love   \n3                              Rock Your Body   \n4                                It Wasn't Me   \n\n                              album_uri  duration_ms  \\\n0  spotify:album:6vV5UrXcfyQD1wu4Qo2I9K       226863   \n1  spotify:album:0z7pVBGOD7HCIB7S8eLkLI       198800   \n2  spotify:album:25hVFAxTlDvXbx2X2QkUkE       235933   \n3  spotify:album:6QPkyl04rXwTGlGlcYaRoW       267266   \n4  spotify:album:6NmFmPX56pcLBOFMhIiKvF       227600   \n\n                                     album_name  \n0                                  The Cookbook  \n1                                   In The Zone  \n2  Dangerously In Love (Alben für die Ewigkeit)  \n3                                     Justified  \n4                                      Hot Shot  ",
      "text/html": "<div>\n<style scoped>\n    .dataframe tbody tr th:only-of-type {\n        vertical-align: middle;\n    }\n\n    .dataframe tbody tr th {\n        vertical-align: top;\n    }\n\n    .dataframe thead th {\n        text-align: right;\n    }\n</style>\n<table border=\"1\" class=\"dataframe\">\n  <thead>\n    <tr style=\"text-align: right;\">\n      <th></th>\n      <th>pos</th>\n      <th>artist_name</th>\n      <th>track_uri</th>\n      <th>artist_uri</th>\n      <th>track_name</th>\n      <th>album_uri</th>\n      <th>duration_ms</th>\n      <th>album_name</th>\n    </tr>\n  </thead>\n  <tbody>\n    <tr>\n      <th>0</th>\n      <td>0</td>\n      <td>Missy Elliott</td>\n      <td>spotify:track:0UaMYEvWZi0ZqiDOoHU3YI</td>\n      <td>spotify:artist:2wIVse2owClT7go1WT98tk</td>\n      <td>Lose Control (feat. Ciara &amp; Fat Man Scoop)</td>\n      <td>spotify:album:6vV5UrXcfyQD1wu4Qo2I9K</td>\n      <td>226863</td>\n      <td>The Cookbook</td>\n    </tr>\n    <tr>\n      <th>1</th>\n      <td>1</td>\n      <td>Britney Spears</td>\n      <td>spotify:track:6I9VzXrHxO9rA9A5euc8Ak</td>\n      <td>spotify:artist:26dSoYclwsYLMAKD3tpOr4</td>\n      <td>Toxic</td>\n      <td>spotify:album:0z7pVBGOD7HCIB7S8eLkLI</td>\n      <td>198800</td>\n      <td>In The Zone</td>\n    </tr>\n    <tr>\n      <th>2</th>\n      <td>2</td>\n      <td>Beyoncé</td>\n      <td>spotify:track:0WqIKmW4BTrj3eJFmnCKMv</td>\n      <td>spotify:artist:6vWDO969PvNqNYHIOW5v0m</td>\n      <td>Crazy In Love</td>\n      <td>spotify:album:25hVFAxTlDvXbx2X2QkUkE</td>\n      <td>235933</td>\n      <td>Dangerously In Love (Alben für die Ewigkeit)</td>\n    </tr>\n    <tr>\n      <th>3</th>\n      <td>3</td>\n      <td>Justin Timberlake</td>\n      <td>spotify:track:1AWQoqb9bSvzTjaLralEkT</td>\n      <td>spotify:artist:31TPClRtHm23RisEBtV3X7</td>\n      <td>Rock Your Body</td>\n      <td>spotify:album:6QPkyl04rXwTGlGlcYaRoW</td>\n      <td>267266</td>\n      <td>Justified</td>\n    </tr>\n    <tr>\n      <th>4</th>\n      <td>4</td>\n      <td>Shaggy</td>\n      <td>spotify:track:1lzr43nnXAijIGYnCT8M8H</td>\n      <td>spotify:artist:5EvFsr3kj42KNv97ZEnqij</td>\n      <td>It Wasn't Me</td>\n      <td>spotify:album:6NmFmPX56pcLBOFMhIiKvF</td>\n      <td>227600</td>\n      <td>Hot Shot</td>\n    </tr>\n  </tbody>\n</table>\n</div>"
     },
     "execution_count": 3,
     "metadata": {},
     "output_type": "execute_result"
    }
   ],
   "source": [
    "# Add all songs from the playlists into a single list of songs\n",
    "songs = [] \n",
    "for i in range(len(playlists)):\n",
    "    tracks = playlists.iloc[i].loc['tracks']\n",
    "    for track in tracks:\n",
    "        songs.append(track)\n",
    "\n",
    "songs_df = pd.DataFrame(songs)\n",
    "print(songs_df.shape)\n",
    "songs_df.head()"
   ]
  },
  {
   "cell_type": "code",
   "execution_count": 4,
   "id": "00e71357",
   "metadata": {},
   "outputs": [],
   "source": [
    "# Remove duplicate songs by URI\n",
    "songs_df = songs_df.drop_duplicates('track_uri')"
   ]
  },
  {
   "cell_type": "code",
   "execution_count": 5,
   "id": "6cffb9db",
   "metadata": {},
   "outputs": [],
   "source": [
    "# Add score placeholder to the songs\n",
    "classification = [0]*len(songs_df)\n",
    "songs_df.insert(8, \"class\", classification) # Append data frame by one column"
   ]
  },
  {
   "cell_type": "code",
   "execution_count": 6,
   "id": "fa0a9d61",
   "metadata": {},
   "outputs": [
    {
     "name": "stdout",
     "output_type": "stream",
     "text": [
      "pos                                                     0\n",
      "artist_name                                 Missy Elliott\n",
      "track_uri            spotify:track:0UaMYEvWZi0ZqiDOoHU3YI\n",
      "artist_uri          spotify:artist:2wIVse2owClT7go1WT98tk\n",
      "track_name     Lose Control (feat. Ciara & Fat Man Scoop)\n",
      "album_uri            spotify:album:6vV5UrXcfyQD1wu4Qo2I9K\n",
      "duration_ms                                        226863\n",
      "album_name                                   The Cookbook\n",
      "class                                                   0\n",
      "Name: 0, dtype: object\n"
     ]
    }
   ],
   "source": [
    "# Print song data to ensure the score was added\n",
    "print(songs_df.iloc[0])"
   ]
  },
  {
   "cell_type": "code",
   "execution_count": 7,
   "outputs": [
    {
     "name": "stderr",
     "output_type": "stream",
     "text": [
      "C:\\Users\\SiBuX\\AppData\\Local\\Temp\\ipykernel_20600\\1914738272.py:21: FutureWarning: The frame.append method is deprecated and will be removed from pandas in a future version. Use pandas.concat instead.\n",
      "  tracks_w_features = tracks_w_features.append(tracks)\n",
      "C:\\Users\\SiBuX\\AppData\\Local\\Temp\\ipykernel_20600\\1914738272.py:21: FutureWarning: The frame.append method is deprecated and will be removed from pandas in a future version. Use pandas.concat instead.\n",
      "  tracks_w_features = tracks_w_features.append(tracks)\n",
      "C:\\Users\\SiBuX\\AppData\\Local\\Temp\\ipykernel_20600\\1914738272.py:21: FutureWarning: The frame.append method is deprecated and will be removed from pandas in a future version. Use pandas.concat instead.\n",
      "  tracks_w_features = tracks_w_features.append(tracks)\n",
      "C:\\Users\\SiBuX\\AppData\\Local\\Temp\\ipykernel_20600\\1914738272.py:21: FutureWarning: The frame.append method is deprecated and will be removed from pandas in a future version. Use pandas.concat instead.\n",
      "  tracks_w_features = tracks_w_features.append(tracks)\n",
      "C:\\Users\\SiBuX\\AppData\\Local\\Temp\\ipykernel_20600\\1914738272.py:21: FutureWarning: The frame.append method is deprecated and will be removed from pandas in a future version. Use pandas.concat instead.\n",
      "  tracks_w_features = tracks_w_features.append(tracks)\n",
      "C:\\Users\\SiBuX\\AppData\\Local\\Temp\\ipykernel_20600\\1914738272.py:21: FutureWarning: The frame.append method is deprecated and will be removed from pandas in a future version. Use pandas.concat instead.\n",
      "  tracks_w_features = tracks_w_features.append(tracks)\n",
      "C:\\Users\\SiBuX\\AppData\\Local\\Temp\\ipykernel_20600\\1914738272.py:21: FutureWarning: The frame.append method is deprecated and will be removed from pandas in a future version. Use pandas.concat instead.\n",
      "  tracks_w_features = tracks_w_features.append(tracks)\n",
      "C:\\Users\\SiBuX\\AppData\\Local\\Temp\\ipykernel_20600\\1914738272.py:21: FutureWarning: The frame.append method is deprecated and will be removed from pandas in a future version. Use pandas.concat instead.\n",
      "  tracks_w_features = tracks_w_features.append(tracks)\n",
      "C:\\Users\\SiBuX\\AppData\\Local\\Temp\\ipykernel_20600\\1914738272.py:21: FutureWarning: The frame.append method is deprecated and will be removed from pandas in a future version. Use pandas.concat instead.\n",
      "  tracks_w_features = tracks_w_features.append(tracks)\n",
      "C:\\Users\\SiBuX\\AppData\\Local\\Temp\\ipykernel_20600\\1914738272.py:21: FutureWarning: The frame.append method is deprecated and will be removed from pandas in a future version. Use pandas.concat instead.\n",
      "  tracks_w_features = tracks_w_features.append(tracks)\n",
      "C:\\Users\\SiBuX\\AppData\\Local\\Temp\\ipykernel_20600\\1914738272.py:21: FutureWarning: The frame.append method is deprecated and will be removed from pandas in a future version. Use pandas.concat instead.\n",
      "  tracks_w_features = tracks_w_features.append(tracks)\n",
      "C:\\Users\\SiBuX\\AppData\\Local\\Temp\\ipykernel_20600\\1914738272.py:21: FutureWarning: The frame.append method is deprecated and will be removed from pandas in a future version. Use pandas.concat instead.\n",
      "  tracks_w_features = tracks_w_features.append(tracks)\n",
      "C:\\Users\\SiBuX\\AppData\\Local\\Temp\\ipykernel_20600\\1914738272.py:21: FutureWarning: The frame.append method is deprecated and will be removed from pandas in a future version. Use pandas.concat instead.\n",
      "  tracks_w_features = tracks_w_features.append(tracks)\n",
      "C:\\Users\\SiBuX\\AppData\\Local\\Temp\\ipykernel_20600\\1914738272.py:21: FutureWarning: The frame.append method is deprecated and will be removed from pandas in a future version. Use pandas.concat instead.\n",
      "  tracks_w_features = tracks_w_features.append(tracks)\n",
      "C:\\Users\\SiBuX\\AppData\\Local\\Temp\\ipykernel_20600\\1914738272.py:21: FutureWarning: The frame.append method is deprecated and will be removed from pandas in a future version. Use pandas.concat instead.\n",
      "  tracks_w_features = tracks_w_features.append(tracks)\n",
      "C:\\Users\\SiBuX\\AppData\\Local\\Temp\\ipykernel_20600\\1914738272.py:21: FutureWarning: The frame.append method is deprecated and will be removed from pandas in a future version. Use pandas.concat instead.\n",
      "  tracks_w_features = tracks_w_features.append(tracks)\n",
      "C:\\Users\\SiBuX\\AppData\\Local\\Temp\\ipykernel_20600\\1914738272.py:21: FutureWarning: The frame.append method is deprecated and will be removed from pandas in a future version. Use pandas.concat instead.\n",
      "  tracks_w_features = tracks_w_features.append(tracks)\n",
      "C:\\Users\\SiBuX\\AppData\\Local\\Temp\\ipykernel_20600\\1914738272.py:21: FutureWarning: The frame.append method is deprecated and will be removed from pandas in a future version. Use pandas.concat instead.\n",
      "  tracks_w_features = tracks_w_features.append(tracks)\n",
      "C:\\Users\\SiBuX\\AppData\\Local\\Temp\\ipykernel_20600\\1914738272.py:21: FutureWarning: The frame.append method is deprecated and will be removed from pandas in a future version. Use pandas.concat instead.\n",
      "  tracks_w_features = tracks_w_features.append(tracks)\n"
     ]
    },
    {
     "data": {
      "text/plain": "    danceability  energy  loudness  speechiness  acousticness  \\\n0          0.774   0.838    -3.914       0.1140      0.024900   \n1          0.664   0.758    -6.583       0.2100      0.002380   \n2          0.892   0.714    -6.055       0.1410      0.201000   \n3          0.853   0.606    -4.596       0.0713      0.056100   \n4          0.881   0.788    -4.669       0.1680      0.021200   \n5          0.662   0.507    -8.238       0.1180      0.257000   \n6          0.570   0.821    -4.380       0.2670      0.178000   \n7          0.713   0.678    -3.525       0.1020      0.273000   \n8          0.727   0.974    -2.261       0.0664      0.103000   \n9          0.808   0.970    -6.098       0.0506      0.056900   \n10         0.710   0.553    -4.722       0.0292      0.002060   \n11         0.660   0.666    -4.342       0.0472      0.075900   \n12         0.687   0.710    -5.840       0.0522      0.028300   \n13         0.803   0.454    -4.802       0.0294      0.352000   \n14         0.775   0.731    -5.446       0.1340      0.189000   \n15         0.487   0.900    -4.417       0.0482      0.000068   \n16         0.846   0.482    -6.721       0.1290      0.024600   \n17         0.705   0.796    -6.845       0.2670      0.070800   \n18         0.771   0.685    -4.639       0.0567      0.005430   \n19         0.717   0.733    -4.985       0.0427      0.039800   \n\n    instrumentalness  liveness  valence    tempo  \\\n0           0.025000    0.2420    0.924  143.040   \n1           0.000000    0.0598    0.701   99.259   \n2           0.000234    0.0521    0.817  100.972   \n3           0.000000    0.3130    0.654   94.759   \n4           0.000000    0.0377    0.592  104.997   \n5           0.000000    0.0465    0.676   86.412   \n6           0.000000    0.2890    0.408  210.857   \n7           0.000000    0.1490    0.734  138.009   \n8           0.000532    0.1740    0.965   79.526   \n9           0.000061    0.1540    0.868  114.328   \n10          0.000055    0.0469    0.731   99.005   \n11          0.000000    0.0268    0.933   89.975   \n12          0.000004    0.0689    0.886   79.235   \n13          0.000000    0.0655    0.739   99.990   \n14          0.000000    0.1290    0.821  131.103   \n15          0.000000    0.3580    0.484  149.937   \n16          0.000000    0.3930    0.212  100.969   \n17          0.000000    0.3880    0.864  166.042   \n18          0.001570    0.0537    0.683   88.997   \n19          0.000000    0.1360    0.713  119.996   \n\n                                     uri  \n0   spotify:track:6I9VzXrHxO9rA9A5euc8Ak  \n1   spotify:track:0WqIKmW4BTrj3eJFmnCKMv  \n2   spotify:track:1AWQoqb9bSvzTjaLralEkT  \n3   spotify:track:1lzr43nnXAijIGYnCT8M8H  \n4   spotify:track:0XUfyU2QviPAs6bxSpXYG4  \n5   spotify:track:68vgtRHr7iZHpzGpon6Jlo  \n6   spotify:track:3BxWKCI06eQ5Od8TY2JBeA  \n7   spotify:track:7H6ev70Weq6DdpZyyTmUXk  \n8   spotify:track:2PpruBYCo4H7WOBJ7Q2EwM  \n9   spotify:track:2gam98EZKrF9XuOkU13ApN  \n10  spotify:track:4Y45aqo9QMa57rDsAJv40A  \n11  spotify:track:1HwpWwa6bnqqRhK8agG4RS  \n12  spotify:track:20ORwCJusz4KS2PbTPVNKo  \n13  spotify:track:7k6IzwMGpxnRghE7YosnXT  \n14  spotify:track:1Bv0Yl01xBDZD4OQP93fyl  \n15  spotify:track:4omisSlTk6Dsq2iQD7MA07  \n16  spotify:track:7xYnUQigPoIDAMPVK79NEq  \n17  spotify:track:6d8A5sAx9TfdeseDvfWNHd  \n18  spotify:track:4pmc2AxSEq6g7hPVlJCPyP  \n19  spotify:track:215JYyyUnrJ98NK3KEwu6d  ",
      "text/html": "<div>\n<style scoped>\n    .dataframe tbody tr th:only-of-type {\n        vertical-align: middle;\n    }\n\n    .dataframe tbody tr th {\n        vertical-align: top;\n    }\n\n    .dataframe thead th {\n        text-align: right;\n    }\n</style>\n<table border=\"1\" class=\"dataframe\">\n  <thead>\n    <tr style=\"text-align: right;\">\n      <th></th>\n      <th>danceability</th>\n      <th>energy</th>\n      <th>loudness</th>\n      <th>speechiness</th>\n      <th>acousticness</th>\n      <th>instrumentalness</th>\n      <th>liveness</th>\n      <th>valence</th>\n      <th>tempo</th>\n      <th>uri</th>\n    </tr>\n  </thead>\n  <tbody>\n    <tr>\n      <th>0</th>\n      <td>0.774</td>\n      <td>0.838</td>\n      <td>-3.914</td>\n      <td>0.1140</td>\n      <td>0.024900</td>\n      <td>0.025000</td>\n      <td>0.2420</td>\n      <td>0.924</td>\n      <td>143.040</td>\n      <td>spotify:track:6I9VzXrHxO9rA9A5euc8Ak</td>\n    </tr>\n    <tr>\n      <th>1</th>\n      <td>0.664</td>\n      <td>0.758</td>\n      <td>-6.583</td>\n      <td>0.2100</td>\n      <td>0.002380</td>\n      <td>0.000000</td>\n      <td>0.0598</td>\n      <td>0.701</td>\n      <td>99.259</td>\n      <td>spotify:track:0WqIKmW4BTrj3eJFmnCKMv</td>\n    </tr>\n    <tr>\n      <th>2</th>\n      <td>0.892</td>\n      <td>0.714</td>\n      <td>-6.055</td>\n      <td>0.1410</td>\n      <td>0.201000</td>\n      <td>0.000234</td>\n      <td>0.0521</td>\n      <td>0.817</td>\n      <td>100.972</td>\n      <td>spotify:track:1AWQoqb9bSvzTjaLralEkT</td>\n    </tr>\n    <tr>\n      <th>3</th>\n      <td>0.853</td>\n      <td>0.606</td>\n      <td>-4.596</td>\n      <td>0.0713</td>\n      <td>0.056100</td>\n      <td>0.000000</td>\n      <td>0.3130</td>\n      <td>0.654</td>\n      <td>94.759</td>\n      <td>spotify:track:1lzr43nnXAijIGYnCT8M8H</td>\n    </tr>\n    <tr>\n      <th>4</th>\n      <td>0.881</td>\n      <td>0.788</td>\n      <td>-4.669</td>\n      <td>0.1680</td>\n      <td>0.021200</td>\n      <td>0.000000</td>\n      <td>0.0377</td>\n      <td>0.592</td>\n      <td>104.997</td>\n      <td>spotify:track:0XUfyU2QviPAs6bxSpXYG4</td>\n    </tr>\n    <tr>\n      <th>5</th>\n      <td>0.662</td>\n      <td>0.507</td>\n      <td>-8.238</td>\n      <td>0.1180</td>\n      <td>0.257000</td>\n      <td>0.000000</td>\n      <td>0.0465</td>\n      <td>0.676</td>\n      <td>86.412</td>\n      <td>spotify:track:68vgtRHr7iZHpzGpon6Jlo</td>\n    </tr>\n    <tr>\n      <th>6</th>\n      <td>0.570</td>\n      <td>0.821</td>\n      <td>-4.380</td>\n      <td>0.2670</td>\n      <td>0.178000</td>\n      <td>0.000000</td>\n      <td>0.2890</td>\n      <td>0.408</td>\n      <td>210.857</td>\n      <td>spotify:track:3BxWKCI06eQ5Od8TY2JBeA</td>\n    </tr>\n    <tr>\n      <th>7</th>\n      <td>0.713</td>\n      <td>0.678</td>\n      <td>-3.525</td>\n      <td>0.1020</td>\n      <td>0.273000</td>\n      <td>0.000000</td>\n      <td>0.1490</td>\n      <td>0.734</td>\n      <td>138.009</td>\n      <td>spotify:track:7H6ev70Weq6DdpZyyTmUXk</td>\n    </tr>\n    <tr>\n      <th>8</th>\n      <td>0.727</td>\n      <td>0.974</td>\n      <td>-2.261</td>\n      <td>0.0664</td>\n      <td>0.103000</td>\n      <td>0.000532</td>\n      <td>0.1740</td>\n      <td>0.965</td>\n      <td>79.526</td>\n      <td>spotify:track:2PpruBYCo4H7WOBJ7Q2EwM</td>\n    </tr>\n    <tr>\n      <th>9</th>\n      <td>0.808</td>\n      <td>0.970</td>\n      <td>-6.098</td>\n      <td>0.0506</td>\n      <td>0.056900</td>\n      <td>0.000061</td>\n      <td>0.1540</td>\n      <td>0.868</td>\n      <td>114.328</td>\n      <td>spotify:track:2gam98EZKrF9XuOkU13ApN</td>\n    </tr>\n    <tr>\n      <th>10</th>\n      <td>0.710</td>\n      <td>0.553</td>\n      <td>-4.722</td>\n      <td>0.0292</td>\n      <td>0.002060</td>\n      <td>0.000055</td>\n      <td>0.0469</td>\n      <td>0.731</td>\n      <td>99.005</td>\n      <td>spotify:track:4Y45aqo9QMa57rDsAJv40A</td>\n    </tr>\n    <tr>\n      <th>11</th>\n      <td>0.660</td>\n      <td>0.666</td>\n      <td>-4.342</td>\n      <td>0.0472</td>\n      <td>0.075900</td>\n      <td>0.000000</td>\n      <td>0.0268</td>\n      <td>0.933</td>\n      <td>89.975</td>\n      <td>spotify:track:1HwpWwa6bnqqRhK8agG4RS</td>\n    </tr>\n    <tr>\n      <th>12</th>\n      <td>0.687</td>\n      <td>0.710</td>\n      <td>-5.840</td>\n      <td>0.0522</td>\n      <td>0.028300</td>\n      <td>0.000004</td>\n      <td>0.0689</td>\n      <td>0.886</td>\n      <td>79.235</td>\n      <td>spotify:track:20ORwCJusz4KS2PbTPVNKo</td>\n    </tr>\n    <tr>\n      <th>13</th>\n      <td>0.803</td>\n      <td>0.454</td>\n      <td>-4.802</td>\n      <td>0.0294</td>\n      <td>0.352000</td>\n      <td>0.000000</td>\n      <td>0.0655</td>\n      <td>0.739</td>\n      <td>99.990</td>\n      <td>spotify:track:7k6IzwMGpxnRghE7YosnXT</td>\n    </tr>\n    <tr>\n      <th>14</th>\n      <td>0.775</td>\n      <td>0.731</td>\n      <td>-5.446</td>\n      <td>0.1340</td>\n      <td>0.189000</td>\n      <td>0.000000</td>\n      <td>0.1290</td>\n      <td>0.821</td>\n      <td>131.103</td>\n      <td>spotify:track:1Bv0Yl01xBDZD4OQP93fyl</td>\n    </tr>\n    <tr>\n      <th>15</th>\n      <td>0.487</td>\n      <td>0.900</td>\n      <td>-4.417</td>\n      <td>0.0482</td>\n      <td>0.000068</td>\n      <td>0.000000</td>\n      <td>0.3580</td>\n      <td>0.484</td>\n      <td>149.937</td>\n      <td>spotify:track:4omisSlTk6Dsq2iQD7MA07</td>\n    </tr>\n    <tr>\n      <th>16</th>\n      <td>0.846</td>\n      <td>0.482</td>\n      <td>-6.721</td>\n      <td>0.1290</td>\n      <td>0.024600</td>\n      <td>0.000000</td>\n      <td>0.3930</td>\n      <td>0.212</td>\n      <td>100.969</td>\n      <td>spotify:track:7xYnUQigPoIDAMPVK79NEq</td>\n    </tr>\n    <tr>\n      <th>17</th>\n      <td>0.705</td>\n      <td>0.796</td>\n      <td>-6.845</td>\n      <td>0.2670</td>\n      <td>0.070800</td>\n      <td>0.000000</td>\n      <td>0.3880</td>\n      <td>0.864</td>\n      <td>166.042</td>\n      <td>spotify:track:6d8A5sAx9TfdeseDvfWNHd</td>\n    </tr>\n    <tr>\n      <th>18</th>\n      <td>0.771</td>\n      <td>0.685</td>\n      <td>-4.639</td>\n      <td>0.0567</td>\n      <td>0.005430</td>\n      <td>0.001570</td>\n      <td>0.0537</td>\n      <td>0.683</td>\n      <td>88.997</td>\n      <td>spotify:track:4pmc2AxSEq6g7hPVlJCPyP</td>\n    </tr>\n    <tr>\n      <th>19</th>\n      <td>0.717</td>\n      <td>0.733</td>\n      <td>-4.985</td>\n      <td>0.0427</td>\n      <td>0.039800</td>\n      <td>0.000000</td>\n      <td>0.1360</td>\n      <td>0.713</td>\n      <td>119.996</td>\n      <td>spotify:track:215JYyyUnrJ98NK3KEwu6d</td>\n    </tr>\n  </tbody>\n</table>\n</div>"
     },
     "metadata": {},
     "output_type": "display_data"
    }
   ],
   "source": [
    "#CREATE DATASET WITH SONG AUDIO FEATURES FROM THE URIS OF songs_df\n",
    "client_id = '898dd71dc932407e85921f0ac79f0127'\n",
    "client_secret = '16d994f070064371beb8758f32d64180'\n",
    "#https://developer.spotify.com/dashboard/applications/898dd71dc932407e85921f0ac79f0127\n",
    "client_cc = cc(client_id=client_id,client_secret=client_secret)\n",
    "sp = spotipy.Spotify(client_credentials_manager=client_cc)\n",
    "\n",
    "\n",
    "sleep_min = 1\n",
    "sleep_max = 2\n",
    "start_time = time.time()\n",
    "request_count = 0\n",
    "tracks_w_features = pd.DataFrame()\n",
    "for i in range(0,20):\n",
    "    request_count+=1\n",
    "    if request_count % 13 == 0:\n",
    "        time.sleep(np.random.uniform(sleep_min, sleep_max))\n",
    "    else:\n",
    "        tracks_to_get = songs_df.iloc[request_count:request_count+50][\"track_uri\"] #get the uri of these songs to get audio features\n",
    "        tracks = pd.DataFrame(sp.audio_features(tracks_to_get))\n",
    "        tracks_w_features = tracks_w_features.append(tracks)\n",
    "\n",
    "#remove useless-categorical columns, can use index to get song information later\n",
    "tracks_w_features = tracks_w_features.drop(columns=['mode','key','time_signature', 'duration_ms','analysis_url','track_href','id','type']).copy()\n",
    "display(tracks_w_features.head(20))\n",
    "warnings.filterwarnings(\"ignore\")\n",
    "warnings.filterwarnings(action='once')"
   ],
   "metadata": {
    "collapsed": false
   }
  },
  {
   "cell_type": "code",
   "execution_count": 8,
   "id": "f4eb1393",
   "metadata": {},
   "outputs": [
    {
     "name": "stdout",
     "output_type": "stream",
     "text": [
      "Search for a song name\n"
     ]
    },
    {
     "data": {
      "text/plain": "        pos          artist_name                             track_uri  \\\n0         0        Missy Elliott  spotify:track:0UaMYEvWZi0ZqiDOoHU3YI   \n1         1       Britney Spears  spotify:track:6I9VzXrHxO9rA9A5euc8Ak   \n2         2              Beyoncé  spotify:track:0WqIKmW4BTrj3eJFmnCKMv   \n3         3    Justin Timberlake  spotify:track:1AWQoqb9bSvzTjaLralEkT   \n4         4               Shaggy  spotify:track:1lzr43nnXAijIGYnCT8M8H   \n...     ...                  ...                                   ...   \n335089   28          Yasmin Levy  spotify:track:2xiEksxtxbaIRESGkZEgMD   \n335090   29   Orient Expressions  spotify:track:7w7eGqJVdNjxGWKw8QAFB6   \n335091   30  Shefita and Sabbaba  spotify:track:6G8ehNX2Lv3WSj6oPy5zm7   \n335092   31          Yemen Blues  spotify:track:7bvSgTraYLCccICldMJ4Hz   \n335093   32         Darya Dadvar  spotify:track:365jVDUTjmZicBp26AzYMi   \n\n                                   artist_uri  \\\n0       spotify:artist:2wIVse2owClT7go1WT98tk   \n1       spotify:artist:26dSoYclwsYLMAKD3tpOr4   \n2       spotify:artist:6vWDO969PvNqNYHIOW5v0m   \n3       spotify:artist:31TPClRtHm23RisEBtV3X7   \n4       spotify:artist:5EvFsr3kj42KNv97ZEnqij   \n...                                       ...   \n335089  spotify:artist:0EirwLTChZpOiNeiJKaAXj   \n335090  spotify:artist:43DjO6KKFSAiEZsuTl7IT6   \n335091  spotify:artist:4NWwMCgVF1NiLXIPS3KoFB   \n335092  spotify:artist:30IksGORAVMJvLNppXg64b   \n335093  spotify:artist:2jljxkpACxjzTTEVNIFRXg   \n\n                                        track_name  \\\n0       Lose Control (feat. Ciara & Fat Man Scoop)   \n1                                            Toxic   \n2                                    Crazy In Love   \n3                                   Rock Your Body   \n4                                     It Wasn't Me   \n...                                            ...   \n335089                                  Mi Korason   \n335090                           Istanbul 1:26 a.m   \n335091              Karma Police - Radiohead Cover   \n335092                               Jat Mahibathi   \n335093                               Sarzamine Man   \n\n                                   album_uri  duration_ms  \\\n0       spotify:album:6vV5UrXcfyQD1wu4Qo2I9K       226863   \n1       spotify:album:0z7pVBGOD7HCIB7S8eLkLI       198800   \n2       spotify:album:25hVFAxTlDvXbx2X2QkUkE       235933   \n3       spotify:album:6QPkyl04rXwTGlGlcYaRoW       267266   \n4       spotify:album:6NmFmPX56pcLBOFMhIiKvF       227600   \n...                                      ...          ...   \n335089  spotify:album:15OBU2VK4wqGPzdVxINT00       196266   \n335090  spotify:album:2ZqkxN0JFrPDTPfvtJvXfQ       398960   \n335091  spotify:album:23bnTwpyrYEb5ifORhsjZE       251338   \n335092  spotify:album:2dyTcfCKCZJcpLMTX0zNLM       302556   \n335093  spotify:album:0hE7pUUI1mEyMH5g0UhT1v       459626   \n\n                                          album_name  class  \n0                                       The Cookbook      0  \n1                                        In The Zone      0  \n2       Dangerously In Love (Alben für die Ewigkeit)      0  \n3                                          Justified      0  \n4                                           Hot Shot      0  \n...                                              ...    ...  \n335089                                        Sentir      0  \n335090                                         Divan      0  \n335091                                  Karma Police      0  \n335092                                   Yemen Blues      0  \n335093                             Toronto Live 2008      0  \n\n[107781 rows x 9 columns]",
      "text/html": "<div>\n<style scoped>\n    .dataframe tbody tr th:only-of-type {\n        vertical-align: middle;\n    }\n\n    .dataframe tbody tr th {\n        vertical-align: top;\n    }\n\n    .dataframe thead th {\n        text-align: right;\n    }\n</style>\n<table border=\"1\" class=\"dataframe\">\n  <thead>\n    <tr style=\"text-align: right;\">\n      <th></th>\n      <th>pos</th>\n      <th>artist_name</th>\n      <th>track_uri</th>\n      <th>artist_uri</th>\n      <th>track_name</th>\n      <th>album_uri</th>\n      <th>duration_ms</th>\n      <th>album_name</th>\n      <th>class</th>\n    </tr>\n  </thead>\n  <tbody>\n    <tr>\n      <th>0</th>\n      <td>0</td>\n      <td>Missy Elliott</td>\n      <td>spotify:track:0UaMYEvWZi0ZqiDOoHU3YI</td>\n      <td>spotify:artist:2wIVse2owClT7go1WT98tk</td>\n      <td>Lose Control (feat. Ciara &amp; Fat Man Scoop)</td>\n      <td>spotify:album:6vV5UrXcfyQD1wu4Qo2I9K</td>\n      <td>226863</td>\n      <td>The Cookbook</td>\n      <td>0</td>\n    </tr>\n    <tr>\n      <th>1</th>\n      <td>1</td>\n      <td>Britney Spears</td>\n      <td>spotify:track:6I9VzXrHxO9rA9A5euc8Ak</td>\n      <td>spotify:artist:26dSoYclwsYLMAKD3tpOr4</td>\n      <td>Toxic</td>\n      <td>spotify:album:0z7pVBGOD7HCIB7S8eLkLI</td>\n      <td>198800</td>\n      <td>In The Zone</td>\n      <td>0</td>\n    </tr>\n    <tr>\n      <th>2</th>\n      <td>2</td>\n      <td>Beyoncé</td>\n      <td>spotify:track:0WqIKmW4BTrj3eJFmnCKMv</td>\n      <td>spotify:artist:6vWDO969PvNqNYHIOW5v0m</td>\n      <td>Crazy In Love</td>\n      <td>spotify:album:25hVFAxTlDvXbx2X2QkUkE</td>\n      <td>235933</td>\n      <td>Dangerously In Love (Alben für die Ewigkeit)</td>\n      <td>0</td>\n    </tr>\n    <tr>\n      <th>3</th>\n      <td>3</td>\n      <td>Justin Timberlake</td>\n      <td>spotify:track:1AWQoqb9bSvzTjaLralEkT</td>\n      <td>spotify:artist:31TPClRtHm23RisEBtV3X7</td>\n      <td>Rock Your Body</td>\n      <td>spotify:album:6QPkyl04rXwTGlGlcYaRoW</td>\n      <td>267266</td>\n      <td>Justified</td>\n      <td>0</td>\n    </tr>\n    <tr>\n      <th>4</th>\n      <td>4</td>\n      <td>Shaggy</td>\n      <td>spotify:track:1lzr43nnXAijIGYnCT8M8H</td>\n      <td>spotify:artist:5EvFsr3kj42KNv97ZEnqij</td>\n      <td>It Wasn't Me</td>\n      <td>spotify:album:6NmFmPX56pcLBOFMhIiKvF</td>\n      <td>227600</td>\n      <td>Hot Shot</td>\n      <td>0</td>\n    </tr>\n    <tr>\n      <th>...</th>\n      <td>...</td>\n      <td>...</td>\n      <td>...</td>\n      <td>...</td>\n      <td>...</td>\n      <td>...</td>\n      <td>...</td>\n      <td>...</td>\n      <td>...</td>\n    </tr>\n    <tr>\n      <th>335089</th>\n      <td>28</td>\n      <td>Yasmin Levy</td>\n      <td>spotify:track:2xiEksxtxbaIRESGkZEgMD</td>\n      <td>spotify:artist:0EirwLTChZpOiNeiJKaAXj</td>\n      <td>Mi Korason</td>\n      <td>spotify:album:15OBU2VK4wqGPzdVxINT00</td>\n      <td>196266</td>\n      <td>Sentir</td>\n      <td>0</td>\n    </tr>\n    <tr>\n      <th>335090</th>\n      <td>29</td>\n      <td>Orient Expressions</td>\n      <td>spotify:track:7w7eGqJVdNjxGWKw8QAFB6</td>\n      <td>spotify:artist:43DjO6KKFSAiEZsuTl7IT6</td>\n      <td>Istanbul 1:26 a.m</td>\n      <td>spotify:album:2ZqkxN0JFrPDTPfvtJvXfQ</td>\n      <td>398960</td>\n      <td>Divan</td>\n      <td>0</td>\n    </tr>\n    <tr>\n      <th>335091</th>\n      <td>30</td>\n      <td>Shefita and Sabbaba</td>\n      <td>spotify:track:6G8ehNX2Lv3WSj6oPy5zm7</td>\n      <td>spotify:artist:4NWwMCgVF1NiLXIPS3KoFB</td>\n      <td>Karma Police - Radiohead Cover</td>\n      <td>spotify:album:23bnTwpyrYEb5ifORhsjZE</td>\n      <td>251338</td>\n      <td>Karma Police</td>\n      <td>0</td>\n    </tr>\n    <tr>\n      <th>335092</th>\n      <td>31</td>\n      <td>Yemen Blues</td>\n      <td>spotify:track:7bvSgTraYLCccICldMJ4Hz</td>\n      <td>spotify:artist:30IksGORAVMJvLNppXg64b</td>\n      <td>Jat Mahibathi</td>\n      <td>spotify:album:2dyTcfCKCZJcpLMTX0zNLM</td>\n      <td>302556</td>\n      <td>Yemen Blues</td>\n      <td>0</td>\n    </tr>\n    <tr>\n      <th>335093</th>\n      <td>32</td>\n      <td>Darya Dadvar</td>\n      <td>spotify:track:365jVDUTjmZicBp26AzYMi</td>\n      <td>spotify:artist:2jljxkpACxjzTTEVNIFRXg</td>\n      <td>Sarzamine Man</td>\n      <td>spotify:album:0hE7pUUI1mEyMH5g0UhT1v</td>\n      <td>459626</td>\n      <td>Toronto Live 2008</td>\n      <td>0</td>\n    </tr>\n  </tbody>\n</table>\n<p>107781 rows × 9 columns</p>\n</div>"
     },
     "execution_count": 8,
     "metadata": {},
     "output_type": "execute_result"
    }
   ],
   "source": [
    "# Search for a particular song \n",
    "print(\"Search for a song name\")\n",
    "s = input()\n",
    "pattern = [s]\n",
    "\n",
    "# filter for rows that contain the partial string inputted by the user\n",
    "results = songs_df.copy()\n",
    "results[songs_df.track_name.str.contains('|'.join(pattern))]"
   ]
  },
  {
   "cell_type": "code",
   "execution_count": 12,
   "id": "0bc5c980",
   "metadata": {},
   "outputs": [
    {
     "name": "stdout",
     "output_type": "stream",
     "text": [
      "Select your first song by copying the track_URI from above (i.e. spotify:track:2wSAWEYUHkt92X4SBAPqZE)\n"
     ]
    }
   ],
   "source": []
  },
  {
   "cell_type": "code",
   "execution_count": 25,
   "id": "12eaf5ec",
   "metadata": {},
   "outputs": [
    {
     "name": "stdout",
     "output_type": "stream",
     "text": [
      "Select your first song by copying the track_URI from above (i.e. spotify:track:2wSAWEYUHkt92X4SBAPqZE)\n"
     ]
    },
    {
     "data": {
      "text/plain": "0         spotify:track:0UaMYEvWZi0ZqiDOoHU3YI\n1         spotify:track:6I9VzXrHxO9rA9A5euc8Ak\n2         spotify:track:0WqIKmW4BTrj3eJFmnCKMv\n3         spotify:track:1AWQoqb9bSvzTjaLralEkT\n4         spotify:track:1lzr43nnXAijIGYnCT8M8H\n                          ...                 \n335089    spotify:track:2xiEksxtxbaIRESGkZEgMD\n335090    spotify:track:7w7eGqJVdNjxGWKw8QAFB6\n335091    spotify:track:6G8ehNX2Lv3WSj6oPy5zm7\n335092    spotify:track:7bvSgTraYLCccICldMJ4Hz\n335093    spotify:track:365jVDUTjmZicBp26AzYMi\nName: track_uri, Length: 107781, dtype: object"
     },
     "metadata": {},
     "output_type": "display_data"
    },
    {
     "data": {
      "text/plain": "0     spotify:track:6I9VzXrHxO9rA9A5euc8Ak\n1     spotify:track:0WqIKmW4BTrj3eJFmnCKMv\n2     spotify:track:1AWQoqb9bSvzTjaLralEkT\n3     spotify:track:1lzr43nnXAijIGYnCT8M8H\n4     spotify:track:0XUfyU2QviPAs6bxSpXYG4\n                      ...                 \n45    spotify:track:1HZ3cUZUw5htSFmah1V8Ko\n46    spotify:track:43pmQcgxMMhJu1gPW2ZdNz\n47    spotify:track:6Vz7vzOpCwKeSQlfViibuY\n48    spotify:track:4sFbojhVXQv7dBC9PVCcRn\n49    spotify:track:1dv3ePjze9tPq2pk8eWJdR\nName: uri, Length: 950, dtype: object"
     },
     "metadata": {},
     "output_type": "display_data"
    },
    {
     "name": "stdout",
     "output_type": "stream",
     "text": [
      "2216\n",
      "not skipped\n"
     ]
    },
    {
     "data": {
      "text/plain": "Empty DataFrame\nColumns: []\nIndex: [spotify:track:6bLopGnirdrilrpdVB6Um1]",
      "text/html": "<div>\n<style scoped>\n    .dataframe tbody tr th:only-of-type {\n        vertical-align: middle;\n    }\n\n    .dataframe tbody tr th {\n        vertical-align: top;\n    }\n\n    .dataframe thead th {\n        text-align: right;\n    }\n</style>\n<table border=\"1\" class=\"dataframe\">\n  <thead>\n    <tr style=\"text-align: right;\">\n      <th></th>\n    </tr>\n  </thead>\n  <tbody>\n    <tr>\n      <th>spotify:track:6bLopGnirdrilrpdVB6Um1</th>\n    </tr>\n  </tbody>\n</table>\n</div>"
     },
     "metadata": {},
     "output_type": "display_data"
    },
    {
     "name": "stdout",
     "output_type": "stream",
     "text": [
      "danceability        float64\n",
      "energy              float64\n",
      "loudness            float64\n",
      "speechiness         float64\n",
      "acousticness        float64\n",
      "instrumentalness    float64\n",
      "liveness            float64\n",
      "valence             float64\n",
      "tempo               float64\n",
      "uri                  object\n",
      "dtype: object\n"
     ]
    },
    {
     "ename": "KeyError",
     "evalue": "'id'",
     "output_type": "error",
     "traceback": [
      "\u001B[1;31m---------------------------------------------------------------------------\u001B[0m",
      "\u001B[1;31mKeyError\u001B[0m                                  Traceback (most recent call last)",
      "File \u001B[1;32mE:\\GitHub Projects\\recommender-systems\\venv\\lib\\site-packages\\pandas\\core\\indexes\\base.py:3629\u001B[0m, in \u001B[0;36mIndex.get_loc\u001B[1;34m(self, key, method, tolerance)\u001B[0m\n\u001B[0;32m   3628\u001B[0m \u001B[38;5;28;01mtry\u001B[39;00m:\n\u001B[1;32m-> 3629\u001B[0m     \u001B[38;5;28;01mreturn\u001B[39;00m \u001B[38;5;28;43mself\u001B[39;49m\u001B[38;5;241;43m.\u001B[39;49m\u001B[43m_engine\u001B[49m\u001B[38;5;241;43m.\u001B[39;49m\u001B[43mget_loc\u001B[49m\u001B[43m(\u001B[49m\u001B[43mcasted_key\u001B[49m\u001B[43m)\u001B[49m\n\u001B[0;32m   3630\u001B[0m \u001B[38;5;28;01mexcept\u001B[39;00m \u001B[38;5;167;01mKeyError\u001B[39;00m \u001B[38;5;28;01mas\u001B[39;00m err:\n",
      "File \u001B[1;32mE:\\GitHub Projects\\recommender-systems\\venv\\lib\\site-packages\\pandas\\_libs\\index.pyx:136\u001B[0m, in \u001B[0;36mpandas._libs.index.IndexEngine.get_loc\u001B[1;34m()\u001B[0m\n",
      "File \u001B[1;32mE:\\GitHub Projects\\recommender-systems\\venv\\lib\\site-packages\\pandas\\_libs\\index.pyx:163\u001B[0m, in \u001B[0;36mpandas._libs.index.IndexEngine.get_loc\u001B[1;34m()\u001B[0m\n",
      "File \u001B[1;32mpandas\\_libs\\hashtable_class_helper.pxi:5198\u001B[0m, in \u001B[0;36mpandas._libs.hashtable.PyObjectHashTable.get_item\u001B[1;34m()\u001B[0m\n",
      "File \u001B[1;32mpandas\\_libs\\hashtable_class_helper.pxi:5206\u001B[0m, in \u001B[0;36mpandas._libs.hashtable.PyObjectHashTable.get_item\u001B[1;34m()\u001B[0m\n",
      "\u001B[1;31mKeyError\u001B[0m: 'id'",
      "\nThe above exception was the direct cause of the following exception:\n",
      "\u001B[1;31mKeyError\u001B[0m                                  Traceback (most recent call last)",
      "Cell \u001B[1;32mIn [25], line 51\u001B[0m\n\u001B[0;32m     49\u001B[0m \u001B[38;5;28;01melse\u001B[39;00m:\n\u001B[0;32m     50\u001B[0m     \u001B[38;5;28mprint\u001B[39m(\u001B[38;5;124m\"\u001B[39m\u001B[38;5;124mInvalid input\u001B[39m\u001B[38;5;124m\"\u001B[39m)\n\u001B[1;32m---> 51\u001B[0m current_song_index \u001B[38;5;241m=\u001B[39m \u001B[43mgetRecommendation\u001B[49m\u001B[43m(\u001B[49m\u001B[43msongs_df\u001B[49m\u001B[43m,\u001B[49m\u001B[43mtracks_w_features\u001B[49m\u001B[43m)\u001B[49m\n",
      "Cell \u001B[1;32mIn [25], line 32\u001B[0m, in \u001B[0;36mgetRecommendation\u001B[1;34m(songs_df, liked_song_features)\u001B[0m\n\u001B[0;32m     26\u001B[0m \u001B[38;5;66;03m#with_id = songs_df.set_index('track_uri').join(joined.set_index('uri'))\u001B[39;00m\n\u001B[0;32m     27\u001B[0m \u001B[38;5;66;03m#display(with_id)\u001B[39;00m\n\u001B[0;32m     29\u001B[0m average_session_songs \u001B[38;5;241m=\u001B[39m liked_song_features[[\u001B[38;5;124m'\u001B[39m\u001B[38;5;124mdanceability\u001B[39m\u001B[38;5;124m'\u001B[39m,\u001B[38;5;124m'\u001B[39m\u001B[38;5;124menergy\u001B[39m\u001B[38;5;124m'\u001B[39m,\u001B[38;5;124m'\u001B[39m\u001B[38;5;124mloudness\u001B[39m\u001B[38;5;124m'\u001B[39m,\u001B[38;5;124m'\u001B[39m\u001B[38;5;124mspeechiness\u001B[39m\u001B[38;5;124m'\u001B[39m,\n\u001B[0;32m     30\u001B[0m                                                   \u001B[38;5;124m'\u001B[39m\u001B[38;5;124macousticness\u001B[39m\u001B[38;5;124m'\u001B[39m,\u001B[38;5;124m'\u001B[39m\u001B[38;5;124minstrumentalness\u001B[39m\u001B[38;5;124m'\u001B[39m,\u001B[38;5;124m'\u001B[39m\u001B[38;5;124mliveness\u001B[39m\u001B[38;5;124m'\u001B[39m,\u001B[38;5;124m'\u001B[39m\u001B[38;5;124mvalence\u001B[39m\u001B[38;5;124m'\u001B[39m,\u001B[38;5;124m'\u001B[39m\u001B[38;5;124mtempo\u001B[39m\u001B[38;5;124m'\u001B[39m]]\u001B[38;5;241m.\u001B[39mmean()\n\u001B[1;32m---> 32\u001B[0m \u001B[38;5;28;01mreturn\u001B[39;00m \u001B[43mmax_marg_relevance\u001B[49m\u001B[38;5;241;43m.\u001B[39;49m\u001B[43mrecommend\u001B[49m\u001B[43m(\u001B[49m\u001B[43maverage_session_songs\u001B[49m\u001B[43m,\u001B[49m\u001B[43m \u001B[49m\u001B[43mtracks_w_features\u001B[49m\u001B[43m)\u001B[49m\n",
      "File \u001B[1;32mE:\\GitHub Projects\\recommender-systems\\max_marg_relevance.py:11\u001B[0m, in \u001B[0;36mrecommend\u001B[1;34m(average_session_songs, playlist)\u001B[0m\n\u001B[0;32m      5\u001B[0m \u001B[38;5;28;01mdef\u001B[39;00m \u001B[38;5;21mrecommend\u001B[39m(average_session_songs, playlist):\n\u001B[0;32m      6\u001B[0m     \u001B[38;5;124;03m\"\"\"\u001B[39;00m\n\u001B[0;32m      7\u001B[0m \u001B[38;5;124;03m            :param average_session_songs: Songs that the user has listened until now\u001B[39;00m\n\u001B[0;32m      8\u001B[0m \u001B[38;5;124;03m            :param playlist: Songs to rank\u001B[39;00m\n\u001B[0;32m      9\u001B[0m \u001B[38;5;124;03m            \"\"\"\u001B[39;00m\n\u001B[1;32m---> 11\u001B[0m     result \u001B[38;5;241m=\u001B[39m \u001B[43mmaximal_marginal_relevance\u001B[49m\u001B[43m(\u001B[49m\u001B[43maverage_session_songs\u001B[49m\u001B[43m,\u001B[49m\u001B[43mplaylist\u001B[49m\u001B[43m)\u001B[49m\n\u001B[0;32m     12\u001B[0m     \u001B[38;5;28;01mreturn\u001B[39;00m result\n",
      "File \u001B[1;32mE:\\GitHub Projects\\recommender-systems\\max_marg_relevance.py:30\u001B[0m, in \u001B[0;36mmaximal_marginal_relevance\u001B[1;34m(v1, songs, lambda_constant, threshold_terms)\u001B[0m\n\u001B[0;32m     28\u001B[0m song_to_add \u001B[38;5;241m=\u001B[39m \u001B[38;5;28;01mNone\u001B[39;00m\n\u001B[0;32m     29\u001B[0m \u001B[38;5;28;01mfor\u001B[39;00m i \u001B[38;5;129;01min\u001B[39;00m r:\n\u001B[1;32m---> 30\u001B[0m     row \u001B[38;5;241m=\u001B[39m songs\u001B[38;5;241m.\u001B[39mloc[\u001B[43msongs\u001B[49m\u001B[43m[\u001B[49m\u001B[38;5;124;43m'\u001B[39;49m\u001B[38;5;124;43mid\u001B[39;49m\u001B[38;5;124;43m'\u001B[39;49m\u001B[43m]\u001B[49m \u001B[38;5;241m==\u001B[39m i]\n\u001B[0;32m     31\u001B[0m     row \u001B[38;5;241m=\u001B[39m row\u001B[38;5;241m.\u001B[39mto_numpy()\n\u001B[0;32m     32\u001B[0m     first_part \u001B[38;5;241m=\u001B[39m cosine_similarity([v1], [row[\u001B[38;5;241m0\u001B[39m][\u001B[38;5;241m1\u001B[39m:]])\n",
      "File \u001B[1;32mE:\\GitHub Projects\\recommender-systems\\venv\\lib\\site-packages\\pandas\\core\\frame.py:3505\u001B[0m, in \u001B[0;36mDataFrame.__getitem__\u001B[1;34m(self, key)\u001B[0m\n\u001B[0;32m   3503\u001B[0m \u001B[38;5;28;01mif\u001B[39;00m \u001B[38;5;28mself\u001B[39m\u001B[38;5;241m.\u001B[39mcolumns\u001B[38;5;241m.\u001B[39mnlevels \u001B[38;5;241m>\u001B[39m \u001B[38;5;241m1\u001B[39m:\n\u001B[0;32m   3504\u001B[0m     \u001B[38;5;28;01mreturn\u001B[39;00m \u001B[38;5;28mself\u001B[39m\u001B[38;5;241m.\u001B[39m_getitem_multilevel(key)\n\u001B[1;32m-> 3505\u001B[0m indexer \u001B[38;5;241m=\u001B[39m \u001B[38;5;28;43mself\u001B[39;49m\u001B[38;5;241;43m.\u001B[39;49m\u001B[43mcolumns\u001B[49m\u001B[38;5;241;43m.\u001B[39;49m\u001B[43mget_loc\u001B[49m\u001B[43m(\u001B[49m\u001B[43mkey\u001B[49m\u001B[43m)\u001B[49m\n\u001B[0;32m   3506\u001B[0m \u001B[38;5;28;01mif\u001B[39;00m is_integer(indexer):\n\u001B[0;32m   3507\u001B[0m     indexer \u001B[38;5;241m=\u001B[39m [indexer]\n",
      "File \u001B[1;32mE:\\GitHub Projects\\recommender-systems\\venv\\lib\\site-packages\\pandas\\core\\indexes\\base.py:3631\u001B[0m, in \u001B[0;36mIndex.get_loc\u001B[1;34m(self, key, method, tolerance)\u001B[0m\n\u001B[0;32m   3629\u001B[0m     \u001B[38;5;28;01mreturn\u001B[39;00m \u001B[38;5;28mself\u001B[39m\u001B[38;5;241m.\u001B[39m_engine\u001B[38;5;241m.\u001B[39mget_loc(casted_key)\n\u001B[0;32m   3630\u001B[0m \u001B[38;5;28;01mexcept\u001B[39;00m \u001B[38;5;167;01mKeyError\u001B[39;00m \u001B[38;5;28;01mas\u001B[39;00m err:\n\u001B[1;32m-> 3631\u001B[0m     \u001B[38;5;28;01mraise\u001B[39;00m \u001B[38;5;167;01mKeyError\u001B[39;00m(key) \u001B[38;5;28;01mfrom\u001B[39;00m \u001B[38;5;21;01merr\u001B[39;00m\n\u001B[0;32m   3632\u001B[0m \u001B[38;5;28;01mexcept\u001B[39;00m \u001B[38;5;167;01mTypeError\u001B[39;00m:\n\u001B[0;32m   3633\u001B[0m     \u001B[38;5;66;03m# If we have a listlike key, _check_indexing_error will raise\u001B[39;00m\n\u001B[0;32m   3634\u001B[0m     \u001B[38;5;66;03m#  InvalidIndexError. Otherwise we fall through and re-raise\u001B[39;00m\n\u001B[0;32m   3635\u001B[0m     \u001B[38;5;66;03m#  the TypeError.\u001B[39;00m\n\u001B[0;32m   3636\u001B[0m     \u001B[38;5;28mself\u001B[39m\u001B[38;5;241m.\u001B[39m_check_indexing_error(key)\n",
      "\u001B[1;31mKeyError\u001B[0m: 'id'"
     ]
    }
   ],
   "source": [
    "import max_marg_relevance\n",
    "\n",
    "# Ask the user to enter a track URI for the first song they want to play\n",
    "print(\"Select your first song by copying the track_URI from above (i.e. spotify:track:2wSAWEYUHkt92X4SBAPqZE)\")\n",
    "#s = input()\n",
    "s = \"spotify:track:6bLopGnirdrilrpdVB6Um1\"\n",
    "\n",
    "# Mark this song as \"Played\" with apositive rating (as the user chose it)\n",
    "index = tracks_w_features.index[tracks_w_features['uri'] == s]     # This returns the song with the uri of 's'\n",
    "# print(index.values[0])\n",
    "# songs_df.iloc[index.values[0]]\n",
    "\n",
    "display(songs_df['track_uri'])\n",
    "display(tracks_w_features['uri'])\n",
    "\n",
    "def getRecommendation(songs_df, liked_song_features):\n",
    "\n",
    "    liked_songs = pd.DataFrame(songs_df.loc[songs_df['class'] == int(1)])\n",
    "\n",
    "    uri_small = pd.DataFrame(liked_song_features['uri'])\n",
    "    uri_big = pd.DataFrame(liked_songs['track_uri'])\n",
    "    # not this joined = uri_small.set_index('uri').join(uri_big.set_index('track_uri'))\n",
    "    joined = pd.DataFrame(uri_big.set_index('track_uri').join(uri_small.set_index('uri')))\n",
    "    display(joined)\n",
    "    print(liked_song_features.dtypes)\n",
    "\n",
    "    average_session_songs = liked_song_features[['danceability','energy','loudness','speechiness',\n",
    "                                                      'acousticness','instrumentalness','liveness','valence','tempo']].mean()\n",
    "\n",
    "    # TODO song 'id' not working in max_marg_relevance.py\n",
    "\n",
    "    return max_marg_relevance.recommend(average_session_songs, tracks_w_features)\n",
    "\n",
    "continue_ = True\n",
    "current_song_index = songs_df.index[songs_df['track_uri'] == s].tolist()[0]\n",
    "print(current_song_index)\n",
    "while continue_:\n",
    "    current_song_artist = songs_df.iloc[current_song_index][\"artist_name\"]\n",
    "    current_song_name = songs_df.iloc[current_song_index][\"track_name\"]\n",
    "    s = input(current_song_artist + \"-\" + current_song_name + \"\\n\" + \"Skip (y) or listen (n) or quit (q)?\")\n",
    "    if s == \"y\":\n",
    "        print(\"skipped\")\n",
    "        songs_df.at[current_song_index, \"class\"] = -1 # negative rating\n",
    "    elif s == \"n\":\n",
    "        print(\"not skipped\")\n",
    "        songs_df.at[current_song_index, \"class\"] = 1  # positive rating\n",
    "    elif s == \"q\":\n",
    "        continue_ = False\n",
    "    else:\n",
    "        print(\"Invalid input\")\n",
    "    current_song_index = getRecommendation(songs_df,tracks_w_features)  # TODO: Get next song from the recommender system"
   ]
  },
  {
   "cell_type": "code",
   "execution_count": null,
   "outputs": [],
   "source": [],
   "metadata": {
    "collapsed": false
   }
  },
  {
   "cell_type": "code",
   "execution_count": null,
   "id": "1c7a8309",
   "metadata": {},
   "outputs": [],
   "source": []
  }
 ],
 "metadata": {
  "kernelspec": {
   "display_name": "Python 3 (ipykernel)",
   "language": "python",
   "name": "python3"
  },
  "language_info": {
   "codemirror_mode": {
    "name": "ipython",
    "version": 3
   },
   "file_extension": ".py",
   "mimetype": "text/x-python",
   "name": "python",
   "nbconvert_exporter": "python",
   "pygments_lexer": "ipython3",
   "version": "3.10.6"
  }
 },
 "nbformat": 4,
 "nbformat_minor": 5
}
