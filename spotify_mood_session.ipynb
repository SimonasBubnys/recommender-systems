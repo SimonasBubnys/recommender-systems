{
 "cells": [
  {
   "cell_type": "markdown",
   "id": "2c5e86fe",
   "metadata": {},
   "source": [
    "# Spotify Mood Session\n",
    "\n",
    "## 1. Algorithm\n",
    "\n",
    "a. **First Selection**. User selects a song $s_0$ from the set of all songs $S$ using some kind of search method (by name / artist) and plays that song.\n",
    "\n",
    "b. **Played List**.  Let $P$ be a new list of played songs and let $P \\gets s_0$   \n",
    "\n",
    "c. **Cold Start**. Create a bootstrap random selection of $n$ songs from $S$ called $R$. Calculate the distance between each song and the first selection and select the closest to the chosen song . Formally:\n",
    "\n",
    "$$\n",
    "\\forall s \\in R \\text{ dist}(s_i, s_0)\n",
    "$$\n",
    "\n",
    "*potential parameter: use a value to add the closest n songs to the initial bootstrap played list*\n",
    "\n",
    "d. **Rating**. For every song that a user plays for more than 30 seconds, the song is rated $\\text{pos}$, songs that are skipped within this time period are rated $\\text{neg}$.  Songs that have not been played are rated $\\text{non}$\n",
    "\n",
    "e. **Recommending**.  Take the current set of vectors and select the next song based on some sort of agregated mean or nearest neighbour system.\n",
    "\n",
    "repeat (d) and (e) ad infinitum."
   ]
  },
  {
   "cell_type": "markdown",
   "id": "d7ac70d2",
   "metadata": {},
   "source": [
    "Formally:\n",
    "\n",
    "$$\n",
    "\\text{let: } s_0 \\gets \\text{ user}(S) \\\\\n",
    "\\text{let: } P = \\{ s_0 \\} \\\\\n",
    "\\text{let: } R \\subset S \\\\\n",
    "\\text{let: } D = \\emptyset \\\\ \n",
    "\\text{for } s_i \\text{ in } R:\\\\\n",
    "D_i = \\text{dist}(s_i, s_0) \\\\\n",
    "\\text{end for }\\\\\n",
    "\\text{select}(\\text{max}(D))\\\\\n",
    "$$"
   ]
  },
  {
   "cell_type": "code",
   "execution_count": 2,
   "id": "7693089a",
   "metadata": {},
   "outputs": [
    {
     "name": "stdout",
     "output_type": "stream",
     "text": [
      "(5000, 12)\n"
     ]
    }
   ],
   "source": [
    "import json\n",
    "import pandas as pd\n",
    "import os\n",
    "import spotipy\n",
    "from spotipy.oauth2 import SpotifyClientCredentials as cc\n",
    "import numpy as np\n",
    "import pandas as pd\n",
    "from IPython.display import display\n",
    "import warnings\n",
    "import time\n",
    "\n",
    "# create list of playlists\n",
    "playlists = []\n",
    "path = 'data'\n",
    "count = 5\n",
    "for filename in os.listdir(path):\n",
    "    count -= 1\n",
    "    if count < 0:\n",
    "        break\n",
    "    f = os.path.join(path, filename)\n",
    "    if os.path.isfile(f):\n",
    "        d = json.load(open(f))\n",
    "        playlists.append(pd.DataFrame(d['playlists']))\n",
    "\n",
    "playlists = pd.concat(playlists)\n",
    "playlists = playlists.reset_index(drop=True)\n",
    "print(playlists.shape)"
   ]
  },
  {
   "cell_type": "code",
   "execution_count": 3,
   "id": "05c28051",
   "metadata": {},
   "outputs": [
    {
     "name": "stdout",
     "output_type": "stream",
     "text": [
      "(334487, 8)\n"
     ]
    },
    {
     "data": {
      "text/plain": "   pos        artist_name                             track_uri  \\\n0    0      Missy Elliott  spotify:track:0UaMYEvWZi0ZqiDOoHU3YI   \n1    1     Britney Spears  spotify:track:6I9VzXrHxO9rA9A5euc8Ak   \n2    2            Beyoncé  spotify:track:0WqIKmW4BTrj3eJFmnCKMv   \n3    3  Justin Timberlake  spotify:track:1AWQoqb9bSvzTjaLralEkT   \n4    4             Shaggy  spotify:track:1lzr43nnXAijIGYnCT8M8H   \n\n                              artist_uri  \\\n0  spotify:artist:2wIVse2owClT7go1WT98tk   \n1  spotify:artist:26dSoYclwsYLMAKD3tpOr4   \n2  spotify:artist:6vWDO969PvNqNYHIOW5v0m   \n3  spotify:artist:31TPClRtHm23RisEBtV3X7   \n4  spotify:artist:5EvFsr3kj42KNv97ZEnqij   \n\n                                   track_name  \\\n0  Lose Control (feat. Ciara & Fat Man Scoop)   \n1                                       Toxic   \n2                               Crazy In Love   \n3                              Rock Your Body   \n4                                It Wasn't Me   \n\n                              album_uri  duration_ms  \\\n0  spotify:album:6vV5UrXcfyQD1wu4Qo2I9K       226863   \n1  spotify:album:0z7pVBGOD7HCIB7S8eLkLI       198800   \n2  spotify:album:25hVFAxTlDvXbx2X2QkUkE       235933   \n3  spotify:album:6QPkyl04rXwTGlGlcYaRoW       267266   \n4  spotify:album:6NmFmPX56pcLBOFMhIiKvF       227600   \n\n                                     album_name  \n0                                  The Cookbook  \n1                                   In The Zone  \n2  Dangerously In Love (Alben für die Ewigkeit)  \n3                                     Justified  \n4                                      Hot Shot  ",
      "text/html": "<div>\n<style scoped>\n    .dataframe tbody tr th:only-of-type {\n        vertical-align: middle;\n    }\n\n    .dataframe tbody tr th {\n        vertical-align: top;\n    }\n\n    .dataframe thead th {\n        text-align: right;\n    }\n</style>\n<table border=\"1\" class=\"dataframe\">\n  <thead>\n    <tr style=\"text-align: right;\">\n      <th></th>\n      <th>pos</th>\n      <th>artist_name</th>\n      <th>track_uri</th>\n      <th>artist_uri</th>\n      <th>track_name</th>\n      <th>album_uri</th>\n      <th>duration_ms</th>\n      <th>album_name</th>\n    </tr>\n  </thead>\n  <tbody>\n    <tr>\n      <th>0</th>\n      <td>0</td>\n      <td>Missy Elliott</td>\n      <td>spotify:track:0UaMYEvWZi0ZqiDOoHU3YI</td>\n      <td>spotify:artist:2wIVse2owClT7go1WT98tk</td>\n      <td>Lose Control (feat. Ciara &amp; Fat Man Scoop)</td>\n      <td>spotify:album:6vV5UrXcfyQD1wu4Qo2I9K</td>\n      <td>226863</td>\n      <td>The Cookbook</td>\n    </tr>\n    <tr>\n      <th>1</th>\n      <td>1</td>\n      <td>Britney Spears</td>\n      <td>spotify:track:6I9VzXrHxO9rA9A5euc8Ak</td>\n      <td>spotify:artist:26dSoYclwsYLMAKD3tpOr4</td>\n      <td>Toxic</td>\n      <td>spotify:album:0z7pVBGOD7HCIB7S8eLkLI</td>\n      <td>198800</td>\n      <td>In The Zone</td>\n    </tr>\n    <tr>\n      <th>2</th>\n      <td>2</td>\n      <td>Beyoncé</td>\n      <td>spotify:track:0WqIKmW4BTrj3eJFmnCKMv</td>\n      <td>spotify:artist:6vWDO969PvNqNYHIOW5v0m</td>\n      <td>Crazy In Love</td>\n      <td>spotify:album:25hVFAxTlDvXbx2X2QkUkE</td>\n      <td>235933</td>\n      <td>Dangerously In Love (Alben für die Ewigkeit)</td>\n    </tr>\n    <tr>\n      <th>3</th>\n      <td>3</td>\n      <td>Justin Timberlake</td>\n      <td>spotify:track:1AWQoqb9bSvzTjaLralEkT</td>\n      <td>spotify:artist:31TPClRtHm23RisEBtV3X7</td>\n      <td>Rock Your Body</td>\n      <td>spotify:album:6QPkyl04rXwTGlGlcYaRoW</td>\n      <td>267266</td>\n      <td>Justified</td>\n    </tr>\n    <tr>\n      <th>4</th>\n      <td>4</td>\n      <td>Shaggy</td>\n      <td>spotify:track:1lzr43nnXAijIGYnCT8M8H</td>\n      <td>spotify:artist:5EvFsr3kj42KNv97ZEnqij</td>\n      <td>It Wasn't Me</td>\n      <td>spotify:album:6NmFmPX56pcLBOFMhIiKvF</td>\n      <td>227600</td>\n      <td>Hot Shot</td>\n    </tr>\n  </tbody>\n</table>\n</div>"
     },
     "execution_count": 3,
     "metadata": {},
     "output_type": "execute_result"
    }
   ],
   "source": [
    "# Add all songs from the playlists into a single list of songs\n",
    "songs = [] \n",
    "for i in range(len(playlists)):\n",
    "    tracks = playlists.iloc[i].loc['tracks']\n",
    "    for track in tracks:\n",
    "        songs.append(track)\n",
    "\n",
    "songs_df = pd.DataFrame(songs)\n",
    "print(songs_df.shape)\n",
    "songs_df.head()"
   ]
  },
  {
   "cell_type": "code",
   "execution_count": 4,
   "id": "00e71357",
   "metadata": {},
   "outputs": [],
   "source": [
    "# Remove duplicate songs by URI\n",
    "songs_df = songs_df.drop_duplicates('track_uri')"
   ]
  },
  {
   "cell_type": "code",
   "execution_count": 5,
   "id": "6cffb9db",
   "metadata": {},
   "outputs": [],
   "source": [
    "# Add score placeholder to the songs\n",
    "classification = [0]*len(songs_df)\n",
    "songs_df.insert(8, \"class\", classification) # Append data frame by one column"
   ]
  },
  {
   "cell_type": "code",
   "execution_count": 6,
   "id": "fa0a9d61",
   "metadata": {
    "pycharm": {
     "name": "#%%\n"
    }
   },
   "outputs": [
    {
     "name": "stdout",
     "output_type": "stream",
     "text": [
      "pos                                                     0\n",
      "artist_name                                 Missy Elliott\n",
      "track_uri            spotify:track:0UaMYEvWZi0ZqiDOoHU3YI\n",
      "artist_uri          spotify:artist:2wIVse2owClT7go1WT98tk\n",
      "track_name     Lose Control (feat. Ciara & Fat Man Scoop)\n",
      "album_uri            spotify:album:6vV5UrXcfyQD1wu4Qo2I9K\n",
      "duration_ms                                        226863\n",
      "album_name                                   The Cookbook\n",
      "class                                                   0\n",
      "Name: 0, dtype: object\n"
     ]
    }
   ],
   "source": [
    "# Print song data to ensure the score was added\n",
    "print(songs_df.iloc[0])"
   ]
  },
  {
   "cell_type": "code",
   "execution_count": 7,
   "outputs": [
    {
     "name": "stderr",
     "output_type": "stream",
     "text": [
      "C:\\Users\\K-San\\AppData\\Local\\Temp\\ipykernel_26868\\1896184201.py:21: FutureWarning: The frame.append method is deprecated and will be removed from pandas in a future version. Use pandas.concat instead.\n",
      "  tracks_w_features = tracks_w_features.append(tracks)\n",
      "C:\\Users\\K-San\\AppData\\Local\\Temp\\ipykernel_26868\\1896184201.py:21: FutureWarning: The frame.append method is deprecated and will be removed from pandas in a future version. Use pandas.concat instead.\n",
      "  tracks_w_features = tracks_w_features.append(tracks)\n",
      "C:\\Users\\K-San\\AppData\\Local\\Temp\\ipykernel_26868\\1896184201.py:21: FutureWarning: The frame.append method is deprecated and will be removed from pandas in a future version. Use pandas.concat instead.\n",
      "  tracks_w_features = tracks_w_features.append(tracks)\n",
      "C:\\Users\\K-San\\AppData\\Local\\Temp\\ipykernel_26868\\1896184201.py:21: FutureWarning: The frame.append method is deprecated and will be removed from pandas in a future version. Use pandas.concat instead.\n",
      "  tracks_w_features = tracks_w_features.append(tracks)\n",
      "C:\\Users\\K-San\\AppData\\Local\\Temp\\ipykernel_26868\\1896184201.py:21: FutureWarning: The frame.append method is deprecated and will be removed from pandas in a future version. Use pandas.concat instead.\n",
      "  tracks_w_features = tracks_w_features.append(tracks)\n",
      "C:\\Users\\K-San\\AppData\\Local\\Temp\\ipykernel_26868\\1896184201.py:21: FutureWarning: The frame.append method is deprecated and will be removed from pandas in a future version. Use pandas.concat instead.\n",
      "  tracks_w_features = tracks_w_features.append(tracks)\n",
      "C:\\Users\\K-San\\AppData\\Local\\Temp\\ipykernel_26868\\1896184201.py:21: FutureWarning: The frame.append method is deprecated and will be removed from pandas in a future version. Use pandas.concat instead.\n",
      "  tracks_w_features = tracks_w_features.append(tracks)\n",
      "C:\\Users\\K-San\\AppData\\Local\\Temp\\ipykernel_26868\\1896184201.py:21: FutureWarning: The frame.append method is deprecated and will be removed from pandas in a future version. Use pandas.concat instead.\n",
      "  tracks_w_features = tracks_w_features.append(tracks)\n",
      "C:\\Users\\K-San\\AppData\\Local\\Temp\\ipykernel_26868\\1896184201.py:21: FutureWarning: The frame.append method is deprecated and will be removed from pandas in a future version. Use pandas.concat instead.\n",
      "  tracks_w_features = tracks_w_features.append(tracks)\n",
      "C:\\Users\\K-San\\AppData\\Local\\Temp\\ipykernel_26868\\1896184201.py:21: FutureWarning: The frame.append method is deprecated and will be removed from pandas in a future version. Use pandas.concat instead.\n",
      "  tracks_w_features = tracks_w_features.append(tracks)\n"
     ]
    },
    {
     "data": {
      "text/plain": "    danceability  energy  loudness  speechiness  acousticness  \\\n0          0.774   0.838    -3.914       0.1140      0.024900   \n1          0.664   0.758    -6.583       0.2100      0.002380   \n2          0.892   0.714    -6.055       0.1410      0.201000   \n3          0.853   0.606    -4.596       0.0713      0.056100   \n4          0.881   0.788    -4.669       0.1680      0.021200   \n5          0.662   0.507    -8.238       0.1180      0.257000   \n6          0.570   0.821    -4.380       0.2670      0.178000   \n7          0.713   0.678    -3.525       0.1020      0.273000   \n8          0.727   0.974    -2.261       0.0664      0.103000   \n9          0.808   0.970    -6.098       0.0506      0.056900   \n10         0.710   0.553    -4.722       0.0292      0.002060   \n11         0.660   0.666    -4.342       0.0472      0.075900   \n12         0.687   0.710    -5.840       0.0522      0.028300   \n13         0.803   0.454    -4.802       0.0294      0.352000   \n14         0.775   0.731    -5.446       0.1340      0.189000   \n15         0.487   0.900    -4.417       0.0482      0.000068   \n16         0.846   0.482    -6.721       0.1290      0.024600   \n17         0.705   0.796    -6.845       0.2670      0.070800   \n18         0.771   0.685    -4.639       0.0567      0.005430   \n19         0.717   0.733    -4.985       0.0427      0.039800   \n\n    instrumentalness  liveness  valence    tempo  \\\n0           0.025000    0.2420    0.924  143.040   \n1           0.000000    0.0598    0.701   99.259   \n2           0.000234    0.0521    0.817  100.972   \n3           0.000000    0.3130    0.654   94.759   \n4           0.000000    0.0377    0.592  104.997   \n5           0.000000    0.0465    0.676   86.412   \n6           0.000000    0.2890    0.408  210.857   \n7           0.000000    0.1490    0.734  138.009   \n8           0.000532    0.1740    0.965   79.526   \n9           0.000061    0.1540    0.868  114.328   \n10          0.000055    0.0469    0.731   99.005   \n11          0.000000    0.0268    0.933   89.975   \n12          0.000004    0.0689    0.886   79.235   \n13          0.000000    0.0655    0.739   99.990   \n14          0.000000    0.1290    0.821  131.103   \n15          0.000000    0.3580    0.484  149.937   \n16          0.000000    0.3930    0.212  100.969   \n17          0.000000    0.3880    0.864  166.042   \n18          0.001570    0.0537    0.683   88.997   \n19          0.000000    0.1360    0.713  119.996   \n\n                                     uri  \n0   spotify:track:6I9VzXrHxO9rA9A5euc8Ak  \n1   spotify:track:0WqIKmW4BTrj3eJFmnCKMv  \n2   spotify:track:1AWQoqb9bSvzTjaLralEkT  \n3   spotify:track:1lzr43nnXAijIGYnCT8M8H  \n4   spotify:track:0XUfyU2QviPAs6bxSpXYG4  \n5   spotify:track:68vgtRHr7iZHpzGpon6Jlo  \n6   spotify:track:3BxWKCI06eQ5Od8TY2JBeA  \n7   spotify:track:7H6ev70Weq6DdpZyyTmUXk  \n8   spotify:track:2PpruBYCo4H7WOBJ7Q2EwM  \n9   spotify:track:2gam98EZKrF9XuOkU13ApN  \n10  spotify:track:4Y45aqo9QMa57rDsAJv40A  \n11  spotify:track:1HwpWwa6bnqqRhK8agG4RS  \n12  spotify:track:20ORwCJusz4KS2PbTPVNKo  \n13  spotify:track:7k6IzwMGpxnRghE7YosnXT  \n14  spotify:track:1Bv0Yl01xBDZD4OQP93fyl  \n15  spotify:track:4omisSlTk6Dsq2iQD7MA07  \n16  spotify:track:7xYnUQigPoIDAMPVK79NEq  \n17  spotify:track:6d8A5sAx9TfdeseDvfWNHd  \n18  spotify:track:4pmc2AxSEq6g7hPVlJCPyP  \n19  spotify:track:215JYyyUnrJ98NK3KEwu6d  ",
      "text/html": "<div>\n<style scoped>\n    .dataframe tbody tr th:only-of-type {\n        vertical-align: middle;\n    }\n\n    .dataframe tbody tr th {\n        vertical-align: top;\n    }\n\n    .dataframe thead th {\n        text-align: right;\n    }\n</style>\n<table border=\"1\" class=\"dataframe\">\n  <thead>\n    <tr style=\"text-align: right;\">\n      <th></th>\n      <th>danceability</th>\n      <th>energy</th>\n      <th>loudness</th>\n      <th>speechiness</th>\n      <th>acousticness</th>\n      <th>instrumentalness</th>\n      <th>liveness</th>\n      <th>valence</th>\n      <th>tempo</th>\n      <th>uri</th>\n    </tr>\n  </thead>\n  <tbody>\n    <tr>\n      <th>0</th>\n      <td>0.774</td>\n      <td>0.838</td>\n      <td>-3.914</td>\n      <td>0.1140</td>\n      <td>0.024900</td>\n      <td>0.025000</td>\n      <td>0.2420</td>\n      <td>0.924</td>\n      <td>143.040</td>\n      <td>spotify:track:6I9VzXrHxO9rA9A5euc8Ak</td>\n    </tr>\n    <tr>\n      <th>1</th>\n      <td>0.664</td>\n      <td>0.758</td>\n      <td>-6.583</td>\n      <td>0.2100</td>\n      <td>0.002380</td>\n      <td>0.000000</td>\n      <td>0.0598</td>\n      <td>0.701</td>\n      <td>99.259</td>\n      <td>spotify:track:0WqIKmW4BTrj3eJFmnCKMv</td>\n    </tr>\n    <tr>\n      <th>2</th>\n      <td>0.892</td>\n      <td>0.714</td>\n      <td>-6.055</td>\n      <td>0.1410</td>\n      <td>0.201000</td>\n      <td>0.000234</td>\n      <td>0.0521</td>\n      <td>0.817</td>\n      <td>100.972</td>\n      <td>spotify:track:1AWQoqb9bSvzTjaLralEkT</td>\n    </tr>\n    <tr>\n      <th>3</th>\n      <td>0.853</td>\n      <td>0.606</td>\n      <td>-4.596</td>\n      <td>0.0713</td>\n      <td>0.056100</td>\n      <td>0.000000</td>\n      <td>0.3130</td>\n      <td>0.654</td>\n      <td>94.759</td>\n      <td>spotify:track:1lzr43nnXAijIGYnCT8M8H</td>\n    </tr>\n    <tr>\n      <th>4</th>\n      <td>0.881</td>\n      <td>0.788</td>\n      <td>-4.669</td>\n      <td>0.1680</td>\n      <td>0.021200</td>\n      <td>0.000000</td>\n      <td>0.0377</td>\n      <td>0.592</td>\n      <td>104.997</td>\n      <td>spotify:track:0XUfyU2QviPAs6bxSpXYG4</td>\n    </tr>\n    <tr>\n      <th>5</th>\n      <td>0.662</td>\n      <td>0.507</td>\n      <td>-8.238</td>\n      <td>0.1180</td>\n      <td>0.257000</td>\n      <td>0.000000</td>\n      <td>0.0465</td>\n      <td>0.676</td>\n      <td>86.412</td>\n      <td>spotify:track:68vgtRHr7iZHpzGpon6Jlo</td>\n    </tr>\n    <tr>\n      <th>6</th>\n      <td>0.570</td>\n      <td>0.821</td>\n      <td>-4.380</td>\n      <td>0.2670</td>\n      <td>0.178000</td>\n      <td>0.000000</td>\n      <td>0.2890</td>\n      <td>0.408</td>\n      <td>210.857</td>\n      <td>spotify:track:3BxWKCI06eQ5Od8TY2JBeA</td>\n    </tr>\n    <tr>\n      <th>7</th>\n      <td>0.713</td>\n      <td>0.678</td>\n      <td>-3.525</td>\n      <td>0.1020</td>\n      <td>0.273000</td>\n      <td>0.000000</td>\n      <td>0.1490</td>\n      <td>0.734</td>\n      <td>138.009</td>\n      <td>spotify:track:7H6ev70Weq6DdpZyyTmUXk</td>\n    </tr>\n    <tr>\n      <th>8</th>\n      <td>0.727</td>\n      <td>0.974</td>\n      <td>-2.261</td>\n      <td>0.0664</td>\n      <td>0.103000</td>\n      <td>0.000532</td>\n      <td>0.1740</td>\n      <td>0.965</td>\n      <td>79.526</td>\n      <td>spotify:track:2PpruBYCo4H7WOBJ7Q2EwM</td>\n    </tr>\n    <tr>\n      <th>9</th>\n      <td>0.808</td>\n      <td>0.970</td>\n      <td>-6.098</td>\n      <td>0.0506</td>\n      <td>0.056900</td>\n      <td>0.000061</td>\n      <td>0.1540</td>\n      <td>0.868</td>\n      <td>114.328</td>\n      <td>spotify:track:2gam98EZKrF9XuOkU13ApN</td>\n    </tr>\n    <tr>\n      <th>10</th>\n      <td>0.710</td>\n      <td>0.553</td>\n      <td>-4.722</td>\n      <td>0.0292</td>\n      <td>0.002060</td>\n      <td>0.000055</td>\n      <td>0.0469</td>\n      <td>0.731</td>\n      <td>99.005</td>\n      <td>spotify:track:4Y45aqo9QMa57rDsAJv40A</td>\n    </tr>\n    <tr>\n      <th>11</th>\n      <td>0.660</td>\n      <td>0.666</td>\n      <td>-4.342</td>\n      <td>0.0472</td>\n      <td>0.075900</td>\n      <td>0.000000</td>\n      <td>0.0268</td>\n      <td>0.933</td>\n      <td>89.975</td>\n      <td>spotify:track:1HwpWwa6bnqqRhK8agG4RS</td>\n    </tr>\n    <tr>\n      <th>12</th>\n      <td>0.687</td>\n      <td>0.710</td>\n      <td>-5.840</td>\n      <td>0.0522</td>\n      <td>0.028300</td>\n      <td>0.000004</td>\n      <td>0.0689</td>\n      <td>0.886</td>\n      <td>79.235</td>\n      <td>spotify:track:20ORwCJusz4KS2PbTPVNKo</td>\n    </tr>\n    <tr>\n      <th>13</th>\n      <td>0.803</td>\n      <td>0.454</td>\n      <td>-4.802</td>\n      <td>0.0294</td>\n      <td>0.352000</td>\n      <td>0.000000</td>\n      <td>0.0655</td>\n      <td>0.739</td>\n      <td>99.990</td>\n      <td>spotify:track:7k6IzwMGpxnRghE7YosnXT</td>\n    </tr>\n    <tr>\n      <th>14</th>\n      <td>0.775</td>\n      <td>0.731</td>\n      <td>-5.446</td>\n      <td>0.1340</td>\n      <td>0.189000</td>\n      <td>0.000000</td>\n      <td>0.1290</td>\n      <td>0.821</td>\n      <td>131.103</td>\n      <td>spotify:track:1Bv0Yl01xBDZD4OQP93fyl</td>\n    </tr>\n    <tr>\n      <th>15</th>\n      <td>0.487</td>\n      <td>0.900</td>\n      <td>-4.417</td>\n      <td>0.0482</td>\n      <td>0.000068</td>\n      <td>0.000000</td>\n      <td>0.3580</td>\n      <td>0.484</td>\n      <td>149.937</td>\n      <td>spotify:track:4omisSlTk6Dsq2iQD7MA07</td>\n    </tr>\n    <tr>\n      <th>16</th>\n      <td>0.846</td>\n      <td>0.482</td>\n      <td>-6.721</td>\n      <td>0.1290</td>\n      <td>0.024600</td>\n      <td>0.000000</td>\n      <td>0.3930</td>\n      <td>0.212</td>\n      <td>100.969</td>\n      <td>spotify:track:7xYnUQigPoIDAMPVK79NEq</td>\n    </tr>\n    <tr>\n      <th>17</th>\n      <td>0.705</td>\n      <td>0.796</td>\n      <td>-6.845</td>\n      <td>0.2670</td>\n      <td>0.070800</td>\n      <td>0.000000</td>\n      <td>0.3880</td>\n      <td>0.864</td>\n      <td>166.042</td>\n      <td>spotify:track:6d8A5sAx9TfdeseDvfWNHd</td>\n    </tr>\n    <tr>\n      <th>18</th>\n      <td>0.771</td>\n      <td>0.685</td>\n      <td>-4.639</td>\n      <td>0.0567</td>\n      <td>0.005430</td>\n      <td>0.001570</td>\n      <td>0.0537</td>\n      <td>0.683</td>\n      <td>88.997</td>\n      <td>spotify:track:4pmc2AxSEq6g7hPVlJCPyP</td>\n    </tr>\n    <tr>\n      <th>19</th>\n      <td>0.717</td>\n      <td>0.733</td>\n      <td>-4.985</td>\n      <td>0.0427</td>\n      <td>0.039800</td>\n      <td>0.000000</td>\n      <td>0.1360</td>\n      <td>0.713</td>\n      <td>119.996</td>\n      <td>spotify:track:215JYyyUnrJ98NK3KEwu6d</td>\n    </tr>\n  </tbody>\n</table>\n</div>"
     },
     "metadata": {},
     "output_type": "display_data"
    }
   ],
   "source": [
    "#CREATE DATASET WITH SONG AUDIO FEATURES FROM THE URIS OF songs_df\n",
    "client_id = '898dd71dc932407e85921f0ac79f0127'\n",
    "client_secret = '16d994f070064371beb8758f32d64180'\n",
    "#https://developer.spotify.com/dashboard/applications/898dd71dc932407e85921f0ac79f0127\n",
    "client_cc = cc(client_id=client_id,client_secret=client_secret)\n",
    "sp = spotipy.Spotify(client_credentials_manager=client_cc)\n",
    "\n",
    "\n",
    "sleep_min = 2\n",
    "sleep_max = 3\n",
    "start_time = time.time()\n",
    "request_count = 0\n",
    "tracks_w_features = pd.DataFrame()\n",
    "for i in range(0,20):\n",
    "    request_count+=1\n",
    "    if request_count % 2 == 0:\n",
    "        time.sleep(np.random.uniform(sleep_min, sleep_max))\n",
    "    else:\n",
    "        tracks_to_get = songs_df.iloc[request_count:request_count+50][\"track_uri\"] #get the uri of these songs to get audio features\n",
    "        tracks = pd.DataFrame(sp.audio_features(tracks_to_get))\n",
    "        tracks_w_features = tracks_w_features.append(tracks)\n",
    "\n",
    "#remove useless-categorical columns, can use index to get song information later\n",
    "input_ = tracks_w_features.drop(columns=['mode', 'key', 'time_signature', 'duration_ms', 'analysis_url', 'track_href', 'id', 'type']).copy()\n",
    "display(input_.head(20))\n",
    "warnings.filterwarnings(\"ignore\")\n",
    "warnings.filterwarnings(action='once')"
   ],
   "metadata": {
    "collapsed": false,
    "pycharm": {
     "name": "#%%\n"
    }
   }
  },
  {
   "cell_type": "code",
   "execution_count": 8,
   "id": "f4eb1393",
   "metadata": {},
   "outputs": [
    {
     "name": "stdout",
     "output_type": "stream",
     "text": [
      "Search for a song name\n"
     ]
    },
    {
     "data": {
      "text/plain": "        pos                         artist_name  \\\n0         0                       Missy Elliott   \n1         1                      Britney Spears   \n2         2                             Beyoncé   \n3         3                   Justin Timberlake   \n4         4                              Shaggy   \n...     ...                                 ...   \n334481   14                          Rob Folsom   \n334482   15                           Jay Ungar   \n334483   16                               Solas   \n334484   17                            Kim Yoon   \n334486   19  The Stage Door Orchestra & Singers   \n\n                                   track_uri  \\\n0       spotify:track:0UaMYEvWZi0ZqiDOoHU3YI   \n1       spotify:track:6I9VzXrHxO9rA9A5euc8Ak   \n2       spotify:track:0WqIKmW4BTrj3eJFmnCKMv   \n3       spotify:track:1AWQoqb9bSvzTjaLralEkT   \n4       spotify:track:1lzr43nnXAijIGYnCT8M8H   \n...                                      ...   \n334481  spotify:track:7rWF4voHsXhZ3lx1BgtIjq   \n334482  spotify:track:5YUeOSawPzseEvCvi1HbrE   \n334483  spotify:track:4aAmDp1AR1Fp1UCpWuvy2d   \n334484  spotify:track:25JRhSij3kxAJ1li9lPe5k   \n334486  spotify:track:23Ktd7FBxHtP4F1llGMjOe   \n\n                                   artist_uri  \\\n0       spotify:artist:2wIVse2owClT7go1WT98tk   \n1       spotify:artist:26dSoYclwsYLMAKD3tpOr4   \n2       spotify:artist:6vWDO969PvNqNYHIOW5v0m   \n3       spotify:artist:31TPClRtHm23RisEBtV3X7   \n4       spotify:artist:5EvFsr3kj42KNv97ZEnqij   \n...                                       ...   \n334481  spotify:artist:2fHYxgIBdyFUvmxsTbQ2na   \n334482  spotify:artist:54jNT6jMGDoxMSBzUDEYSB   \n334483  spotify:artist:2CGGUtRYybRjQmuUwXugeP   \n334484  spotify:artist:2wA50FpX5Yc5b4OrhdQVXP   \n334486  spotify:artist:4rqD97trg8OUPyHKFRzA8m   \n\n                                        track_name  \\\n0       Lose Control (feat. Ciara & Fat Man Scoop)   \n1                                            Toxic   \n2                                    Crazy In Love   \n3                                   Rock Your Body   \n4                                     It Wasn't Me   \n...                                            ...   \n334481                                 The Ludlows   \n334482                            Cows On The Hill   \n334483                                Crested Hens   \n334484                             Moonlight Waltz   \n334486                       And then I Kissed him   \n\n                                   album_uri  duration_ms  \\\n0       spotify:album:6vV5UrXcfyQD1wu4Qo2I9K       226863   \n1       spotify:album:0z7pVBGOD7HCIB7S8eLkLI       198800   \n2       spotify:album:25hVFAxTlDvXbx2X2QkUkE       235933   \n3       spotify:album:6QPkyl04rXwTGlGlcYaRoW       267266   \n4       spotify:album:6NmFmPX56pcLBOFMhIiKvF       227600   \n...                                      ...          ...   \n334481  spotify:album:5Q4h4AmcAw0tElWXQbQMqO       240927   \n334482  spotify:album:38D9S6sriWlYlbUBONInpa       225440   \n334483  spotify:album:1EL10LDAWFZdencyTUlGqu       314186   \n334484  spotify:album:6pFFE9TLlHpeQrvOVNiswy       226925   \n334486  spotify:album:3FFYR0nzt8D2rx2Roh9GHu       336720   \n\n                                               album_name  class  \n0                                            The Cookbook      0  \n1                                             In The Zone      0  \n2            Dangerously In Love (Alben für die Ewigkeit)      0  \n3                                               Justified      0  \n4                                                Hot Shot      0  \n...                                                   ...    ...  \n334481                               Sentimental Serenade      0  \n334482  Waltzing With You (Music From The Film \"Brothe...      0  \n334483                                              Solas      0  \n334484                           Dreaming in the Blue Sky      0  \n334486              The Passion of Pearl Harbor & Titanic      0  \n\n[108870 rows x 9 columns]",
      "text/html": "<div>\n<style scoped>\n    .dataframe tbody tr th:only-of-type {\n        vertical-align: middle;\n    }\n\n    .dataframe tbody tr th {\n        vertical-align: top;\n    }\n\n    .dataframe thead th {\n        text-align: right;\n    }\n</style>\n<table border=\"1\" class=\"dataframe\">\n  <thead>\n    <tr style=\"text-align: right;\">\n      <th></th>\n      <th>pos</th>\n      <th>artist_name</th>\n      <th>track_uri</th>\n      <th>artist_uri</th>\n      <th>track_name</th>\n      <th>album_uri</th>\n      <th>duration_ms</th>\n      <th>album_name</th>\n      <th>class</th>\n    </tr>\n  </thead>\n  <tbody>\n    <tr>\n      <th>0</th>\n      <td>0</td>\n      <td>Missy Elliott</td>\n      <td>spotify:track:0UaMYEvWZi0ZqiDOoHU3YI</td>\n      <td>spotify:artist:2wIVse2owClT7go1WT98tk</td>\n      <td>Lose Control (feat. Ciara &amp; Fat Man Scoop)</td>\n      <td>spotify:album:6vV5UrXcfyQD1wu4Qo2I9K</td>\n      <td>226863</td>\n      <td>The Cookbook</td>\n      <td>0</td>\n    </tr>\n    <tr>\n      <th>1</th>\n      <td>1</td>\n      <td>Britney Spears</td>\n      <td>spotify:track:6I9VzXrHxO9rA9A5euc8Ak</td>\n      <td>spotify:artist:26dSoYclwsYLMAKD3tpOr4</td>\n      <td>Toxic</td>\n      <td>spotify:album:0z7pVBGOD7HCIB7S8eLkLI</td>\n      <td>198800</td>\n      <td>In The Zone</td>\n      <td>0</td>\n    </tr>\n    <tr>\n      <th>2</th>\n      <td>2</td>\n      <td>Beyoncé</td>\n      <td>spotify:track:0WqIKmW4BTrj3eJFmnCKMv</td>\n      <td>spotify:artist:6vWDO969PvNqNYHIOW5v0m</td>\n      <td>Crazy In Love</td>\n      <td>spotify:album:25hVFAxTlDvXbx2X2QkUkE</td>\n      <td>235933</td>\n      <td>Dangerously In Love (Alben für die Ewigkeit)</td>\n      <td>0</td>\n    </tr>\n    <tr>\n      <th>3</th>\n      <td>3</td>\n      <td>Justin Timberlake</td>\n      <td>spotify:track:1AWQoqb9bSvzTjaLralEkT</td>\n      <td>spotify:artist:31TPClRtHm23RisEBtV3X7</td>\n      <td>Rock Your Body</td>\n      <td>spotify:album:6QPkyl04rXwTGlGlcYaRoW</td>\n      <td>267266</td>\n      <td>Justified</td>\n      <td>0</td>\n    </tr>\n    <tr>\n      <th>4</th>\n      <td>4</td>\n      <td>Shaggy</td>\n      <td>spotify:track:1lzr43nnXAijIGYnCT8M8H</td>\n      <td>spotify:artist:5EvFsr3kj42KNv97ZEnqij</td>\n      <td>It Wasn't Me</td>\n      <td>spotify:album:6NmFmPX56pcLBOFMhIiKvF</td>\n      <td>227600</td>\n      <td>Hot Shot</td>\n      <td>0</td>\n    </tr>\n    <tr>\n      <th>...</th>\n      <td>...</td>\n      <td>...</td>\n      <td>...</td>\n      <td>...</td>\n      <td>...</td>\n      <td>...</td>\n      <td>...</td>\n      <td>...</td>\n      <td>...</td>\n    </tr>\n    <tr>\n      <th>334481</th>\n      <td>14</td>\n      <td>Rob Folsom</td>\n      <td>spotify:track:7rWF4voHsXhZ3lx1BgtIjq</td>\n      <td>spotify:artist:2fHYxgIBdyFUvmxsTbQ2na</td>\n      <td>The Ludlows</td>\n      <td>spotify:album:5Q4h4AmcAw0tElWXQbQMqO</td>\n      <td>240927</td>\n      <td>Sentimental Serenade</td>\n      <td>0</td>\n    </tr>\n    <tr>\n      <th>334482</th>\n      <td>15</td>\n      <td>Jay Ungar</td>\n      <td>spotify:track:5YUeOSawPzseEvCvi1HbrE</td>\n      <td>spotify:artist:54jNT6jMGDoxMSBzUDEYSB</td>\n      <td>Cows On The Hill</td>\n      <td>spotify:album:38D9S6sriWlYlbUBONInpa</td>\n      <td>225440</td>\n      <td>Waltzing With You (Music From The Film \"Brothe...</td>\n      <td>0</td>\n    </tr>\n    <tr>\n      <th>334483</th>\n      <td>16</td>\n      <td>Solas</td>\n      <td>spotify:track:4aAmDp1AR1Fp1UCpWuvy2d</td>\n      <td>spotify:artist:2CGGUtRYybRjQmuUwXugeP</td>\n      <td>Crested Hens</td>\n      <td>spotify:album:1EL10LDAWFZdencyTUlGqu</td>\n      <td>314186</td>\n      <td>Solas</td>\n      <td>0</td>\n    </tr>\n    <tr>\n      <th>334484</th>\n      <td>17</td>\n      <td>Kim Yoon</td>\n      <td>spotify:track:25JRhSij3kxAJ1li9lPe5k</td>\n      <td>spotify:artist:2wA50FpX5Yc5b4OrhdQVXP</td>\n      <td>Moonlight Waltz</td>\n      <td>spotify:album:6pFFE9TLlHpeQrvOVNiswy</td>\n      <td>226925</td>\n      <td>Dreaming in the Blue Sky</td>\n      <td>0</td>\n    </tr>\n    <tr>\n      <th>334486</th>\n      <td>19</td>\n      <td>The Stage Door Orchestra &amp; Singers</td>\n      <td>spotify:track:23Ktd7FBxHtP4F1llGMjOe</td>\n      <td>spotify:artist:4rqD97trg8OUPyHKFRzA8m</td>\n      <td>And then I Kissed him</td>\n      <td>spotify:album:3FFYR0nzt8D2rx2Roh9GHu</td>\n      <td>336720</td>\n      <td>The Passion of Pearl Harbor &amp; Titanic</td>\n      <td>0</td>\n    </tr>\n  </tbody>\n</table>\n<p>108870 rows × 9 columns</p>\n</div>"
     },
     "execution_count": 8,
     "metadata": {},
     "output_type": "execute_result"
    }
   ],
   "source": [
    "# Search for a particular song \n",
    "print(\"Search for a song name\")\n",
    "s = input()\n",
    "pattern = [s]\n",
    "\n",
    "# filter for rows that contain the partial string inputted by the user\n",
    "results = songs_df.copy()\n",
    "results[songs_df.track_name.str.contains('|'.join(pattern))]"
   ]
  },
  {
   "cell_type": "code",
   "execution_count": 9,
   "id": "0bc5c980",
   "metadata": {},
   "outputs": [
    {
     "name": "stdout",
     "output_type": "stream",
     "text": [
      "Select your first song by copying the track_URI from above (i.e. spotify:track:2wSAWEYUHkt92X4SBAPqZE)\n"
     ]
    }
   ],
   "source": [
    "# Ask the user to enter a track URI for the first song they want to play\n",
    "print(\"Select your first song by copying the track_URI from above (i.e. spotify:track:2wSAWEYUHkt92X4SBAPqZE)\")\n",
    "s = input()\n",
    "\n",
    "# Mark this song as \"Played\" with apositive rating (as the user chose it)\n",
    "index = songs_df.index[songs_df['track_uri'] == s]     # This returns the song with the uri of 's'\n",
    "# print(index.values[0])\n",
    "# songs_df.iloc[index.values[0]]\n"
   ]
  },
  {
   "cell_type": "code",
   "execution_count": 10,
   "outputs": [
    {
     "name": "stdout",
     "output_type": "stream",
     "text": [
      "    danceability  energy  key  loudness  mode  speechiness  acousticness  \\\n",
      "0          0.774   0.838    5    -3.914     0       0.1140      0.024900   \n",
      "1          0.664   0.758    2    -6.583     0       0.2100      0.002380   \n",
      "2          0.892   0.714    4    -6.055     0       0.1410      0.201000   \n",
      "3          0.853   0.606    0    -4.596     1       0.0713      0.056100   \n",
      "4          0.881   0.788    2    -4.669     1       0.1680      0.021200   \n",
      "5          0.662   0.507    5    -8.238     1       0.1180      0.257000   \n",
      "6          0.570   0.821    2    -4.380     1       0.2670      0.178000   \n",
      "7          0.713   0.678    5    -3.525     0       0.1020      0.273000   \n",
      "8          0.727   0.974    4    -2.261     0       0.0664      0.103000   \n",
      "9          0.808   0.970   10    -6.098     0       0.0506      0.056900   \n",
      "10         0.710   0.553    4    -4.722     0       0.0292      0.002060   \n",
      "11         0.660   0.666    9    -4.342     1       0.0472      0.075900   \n",
      "12         0.687   0.710    9    -5.840     1       0.0522      0.028300   \n",
      "13         0.803   0.454    8    -4.802     0       0.0294      0.352000   \n",
      "14         0.775   0.731    8    -5.446     1       0.1340      0.189000   \n",
      "15         0.487   0.900    0    -4.417     1       0.0482      0.000068   \n",
      "16         0.846   0.482    1    -6.721     0       0.1290      0.024600   \n",
      "17         0.705   0.796    7    -6.845     1       0.2670      0.070800   \n",
      "18         0.771   0.685    1    -4.639     1       0.0567      0.005430   \n",
      "19         0.717   0.733    4    -4.985     1       0.0427      0.039800   \n",
      "\n",
      "    instrumentalness  liveness  valence    tempo            type  \\\n",
      "0           0.025000    0.2420    0.924  143.040  audio_features   \n",
      "1           0.000000    0.0598    0.701   99.259  audio_features   \n",
      "2           0.000234    0.0521    0.817  100.972  audio_features   \n",
      "3           0.000000    0.3130    0.654   94.759  audio_features   \n",
      "4           0.000000    0.0377    0.592  104.997  audio_features   \n",
      "5           0.000000    0.0465    0.676   86.412  audio_features   \n",
      "6           0.000000    0.2890    0.408  210.857  audio_features   \n",
      "7           0.000000    0.1490    0.734  138.009  audio_features   \n",
      "8           0.000532    0.1740    0.965   79.526  audio_features   \n",
      "9           0.000061    0.1540    0.868  114.328  audio_features   \n",
      "10          0.000055    0.0469    0.731   99.005  audio_features   \n",
      "11          0.000000    0.0268    0.933   89.975  audio_features   \n",
      "12          0.000004    0.0689    0.886   79.235  audio_features   \n",
      "13          0.000000    0.0655    0.739   99.990  audio_features   \n",
      "14          0.000000    0.1290    0.821  131.103  audio_features   \n",
      "15          0.000000    0.3580    0.484  149.937  audio_features   \n",
      "16          0.000000    0.3930    0.212  100.969  audio_features   \n",
      "17          0.000000    0.3880    0.864  166.042  audio_features   \n",
      "18          0.001570    0.0537    0.683   88.997  audio_features   \n",
      "19          0.000000    0.1360    0.713  119.996  audio_features   \n",
      "\n",
      "                        id                                   uri  \\\n",
      "0   6I9VzXrHxO9rA9A5euc8Ak  spotify:track:6I9VzXrHxO9rA9A5euc8Ak   \n",
      "1   0WqIKmW4BTrj3eJFmnCKMv  spotify:track:0WqIKmW4BTrj3eJFmnCKMv   \n",
      "2   1AWQoqb9bSvzTjaLralEkT  spotify:track:1AWQoqb9bSvzTjaLralEkT   \n",
      "3   1lzr43nnXAijIGYnCT8M8H  spotify:track:1lzr43nnXAijIGYnCT8M8H   \n",
      "4   0XUfyU2QviPAs6bxSpXYG4  spotify:track:0XUfyU2QviPAs6bxSpXYG4   \n",
      "5   68vgtRHr7iZHpzGpon6Jlo  spotify:track:68vgtRHr7iZHpzGpon6Jlo   \n",
      "6   3BxWKCI06eQ5Od8TY2JBeA  spotify:track:3BxWKCI06eQ5Od8TY2JBeA   \n",
      "7   7H6ev70Weq6DdpZyyTmUXk  spotify:track:7H6ev70Weq6DdpZyyTmUXk   \n",
      "8   2PpruBYCo4H7WOBJ7Q2EwM  spotify:track:2PpruBYCo4H7WOBJ7Q2EwM   \n",
      "9   2gam98EZKrF9XuOkU13ApN  spotify:track:2gam98EZKrF9XuOkU13ApN   \n",
      "10  4Y45aqo9QMa57rDsAJv40A  spotify:track:4Y45aqo9QMa57rDsAJv40A   \n",
      "11  1HwpWwa6bnqqRhK8agG4RS  spotify:track:1HwpWwa6bnqqRhK8agG4RS   \n",
      "12  20ORwCJusz4KS2PbTPVNKo  spotify:track:20ORwCJusz4KS2PbTPVNKo   \n",
      "13  7k6IzwMGpxnRghE7YosnXT  spotify:track:7k6IzwMGpxnRghE7YosnXT   \n",
      "14  1Bv0Yl01xBDZD4OQP93fyl  spotify:track:1Bv0Yl01xBDZD4OQP93fyl   \n",
      "15  4omisSlTk6Dsq2iQD7MA07  spotify:track:4omisSlTk6Dsq2iQD7MA07   \n",
      "16  7xYnUQigPoIDAMPVK79NEq  spotify:track:7xYnUQigPoIDAMPVK79NEq   \n",
      "17  6d8A5sAx9TfdeseDvfWNHd  spotify:track:6d8A5sAx9TfdeseDvfWNHd   \n",
      "18  4pmc2AxSEq6g7hPVlJCPyP  spotify:track:4pmc2AxSEq6g7hPVlJCPyP   \n",
      "19  215JYyyUnrJ98NK3KEwu6d  spotify:track:215JYyyUnrJ98NK3KEwu6d   \n",
      "\n",
      "                                           track_href  \\\n",
      "0   https://api.spotify.com/v1/tracks/6I9VzXrHxO9r...   \n",
      "1   https://api.spotify.com/v1/tracks/0WqIKmW4BTrj...   \n",
      "2   https://api.spotify.com/v1/tracks/1AWQoqb9bSvz...   \n",
      "3   https://api.spotify.com/v1/tracks/1lzr43nnXAij...   \n",
      "4   https://api.spotify.com/v1/tracks/0XUfyU2QviPA...   \n",
      "5   https://api.spotify.com/v1/tracks/68vgtRHr7iZH...   \n",
      "6   https://api.spotify.com/v1/tracks/3BxWKCI06eQ5...   \n",
      "7   https://api.spotify.com/v1/tracks/7H6ev70Weq6D...   \n",
      "8   https://api.spotify.com/v1/tracks/2PpruBYCo4H7...   \n",
      "9   https://api.spotify.com/v1/tracks/2gam98EZKrF9...   \n",
      "10  https://api.spotify.com/v1/tracks/4Y45aqo9QMa5...   \n",
      "11  https://api.spotify.com/v1/tracks/1HwpWwa6bnqq...   \n",
      "12  https://api.spotify.com/v1/tracks/20ORwCJusz4K...   \n",
      "13  https://api.spotify.com/v1/tracks/7k6IzwMGpxnR...   \n",
      "14  https://api.spotify.com/v1/tracks/1Bv0Yl01xBDZ...   \n",
      "15  https://api.spotify.com/v1/tracks/4omisSlTk6Ds...   \n",
      "16  https://api.spotify.com/v1/tracks/7xYnUQigPoID...   \n",
      "17  https://api.spotify.com/v1/tracks/6d8A5sAx9Tfd...   \n",
      "18  https://api.spotify.com/v1/tracks/4pmc2AxSEq6g...   \n",
      "19  https://api.spotify.com/v1/tracks/215JYyyUnrJ9...   \n",
      "\n",
      "                                         analysis_url  duration_ms  \\\n",
      "0   https://api.spotify.com/v1/audio-analysis/6I9V...       198800   \n",
      "1   https://api.spotify.com/v1/audio-analysis/0WqI...       235933   \n",
      "2   https://api.spotify.com/v1/audio-analysis/1AWQ...       267267   \n",
      "3   https://api.spotify.com/v1/audio-analysis/1lzr...       227600   \n",
      "4   https://api.spotify.com/v1/audio-analysis/0XUf...       250373   \n",
      "5   https://api.spotify.com/v1/audio-analysis/68vg...       223440   \n",
      "6   https://api.spotify.com/v1/audio-analysis/3BxW...       225560   \n",
      "7   https://api.spotify.com/v1/audio-analysis/7H6e...       271333   \n",
      "8   https://api.spotify.com/v1/audio-analysis/2Ppr...       235213   \n",
      "9   https://api.spotify.com/v1/audio-analysis/2gam...       242293   \n",
      "10  https://api.spotify.com/v1/audio-analysis/4Y45...       211693   \n",
      "11  https://api.spotify.com/v1/audio-analysis/1Hwp...       214227   \n",
      "12  https://api.spotify.com/v1/audio-analysis/20OR...       216880   \n",
      "13  https://api.spotify.com/v1/audio-analysis/7k6I...       192213   \n",
      "14  https://api.spotify.com/v1/audio-analysis/1Bv0...       256427   \n",
      "15  https://api.spotify.com/v1/audio-analysis/4omi...       204000   \n",
      "16  https://api.spotify.com/v1/audio-analysis/7xYn...       229867   \n",
      "17  https://api.spotify.com/v1/audio-analysis/6d8A...       210453   \n",
      "18  https://api.spotify.com/v1/audio-analysis/4pmc...       230200   \n",
      "19  https://api.spotify.com/v1/audio-analysis/215J...       292307   \n",
      "\n",
      "    time_signature  \n",
      "0                4  \n",
      "1                4  \n",
      "2                4  \n",
      "3                4  \n",
      "4                4  \n",
      "5                4  \n",
      "6                4  \n",
      "7                4  \n",
      "8                4  \n",
      "9                4  \n",
      "10               4  \n",
      "11               4  \n",
      "12               4  \n",
      "13               4  \n",
      "14               4  \n",
      "15               4  \n",
      "16               4  \n",
      "17               4  \n",
      "18               4  \n",
      "19               4  \n"
     ]
    }
   ],
   "source": [
    "print(tracks_w_features.head(20))\n"
   ],
   "metadata": {
    "collapsed": false,
    "pycharm": {
     "name": "#%%\n"
    }
   }
  },
  {
   "cell_type": "code",
   "execution_count": 16,
   "id": "12eaf5ec",
   "metadata": {
    "pycharm": {
     "name": "#%%\n"
    }
   },
   "outputs": [
    {
     "name": "stdout",
     "output_type": "stream",
     "text": [
      "URI spotify:track:2PpruBYCo4H7WOBJ7Q2EwM\n",
      "   danceability  energy  key  loudness  mode  speechiness  acousticness  \\\n",
      "8         0.727   0.974    4    -2.261     0       0.0664         0.103   \n",
      "6         0.727   0.974    4    -2.261     0       0.0664         0.103   \n",
      "4         0.727   0.974    4    -2.261     0       0.0664         0.103   \n",
      "2         0.727   0.974    4    -2.261     0       0.0664         0.103   \n",
      "0         0.727   0.974    4    -2.261     0       0.0664         0.103   \n",
      "\n",
      "   instrumentalness  liveness  valence   tempo            type  \\\n",
      "8          0.000532     0.174    0.965  79.526  audio_features   \n",
      "6          0.000532     0.174    0.965  79.526  audio_features   \n",
      "4          0.000532     0.174    0.965  79.526  audio_features   \n",
      "2          0.000532     0.174    0.965  79.526  audio_features   \n",
      "0          0.000532     0.174    0.965  79.526  audio_features   \n",
      "\n",
      "                       id                                   uri  \\\n",
      "8  2PpruBYCo4H7WOBJ7Q2EwM  spotify:track:2PpruBYCo4H7WOBJ7Q2EwM   \n",
      "6  2PpruBYCo4H7WOBJ7Q2EwM  spotify:track:2PpruBYCo4H7WOBJ7Q2EwM   \n",
      "4  2PpruBYCo4H7WOBJ7Q2EwM  spotify:track:2PpruBYCo4H7WOBJ7Q2EwM   \n",
      "2  2PpruBYCo4H7WOBJ7Q2EwM  spotify:track:2PpruBYCo4H7WOBJ7Q2EwM   \n",
      "0  2PpruBYCo4H7WOBJ7Q2EwM  spotify:track:2PpruBYCo4H7WOBJ7Q2EwM   \n",
      "\n",
      "                                          track_href  \\\n",
      "8  https://api.spotify.com/v1/tracks/2PpruBYCo4H7...   \n",
      "6  https://api.spotify.com/v1/tracks/2PpruBYCo4H7...   \n",
      "4  https://api.spotify.com/v1/tracks/2PpruBYCo4H7...   \n",
      "2  https://api.spotify.com/v1/tracks/2PpruBYCo4H7...   \n",
      "0  https://api.spotify.com/v1/tracks/2PpruBYCo4H7...   \n",
      "\n",
      "                                        analysis_url  duration_ms  \\\n",
      "8  https://api.spotify.com/v1/audio-analysis/2Ppr...       235213   \n",
      "6  https://api.spotify.com/v1/audio-analysis/2Ppr...       235213   \n",
      "4  https://api.spotify.com/v1/audio-analysis/2Ppr...       235213   \n",
      "2  https://api.spotify.com/v1/audio-analysis/2Ppr...       235213   \n",
      "0  https://api.spotify.com/v1/audio-analysis/2Ppr...       235213   \n",
      "\n",
      "   time_signature  \n",
      "8               4  \n",
      "6               4  \n",
      "4               4  \n",
      "2               4  \n",
      "0               4  \n",
      "danceability                                                    0.774\n",
      "energy                                                          0.838\n",
      "key                                                                 5\n",
      "loudness                                                       -3.914\n",
      "mode                                                                0\n",
      "speechiness                                                     0.114\n",
      "acousticness                                                   0.0249\n",
      "instrumentalness                                                0.025\n",
      "liveness                                                        0.242\n",
      "valence                                                         0.924\n",
      "tempo                                                          143.04\n",
      "type                                                   audio_features\n",
      "id                                             6I9VzXrHxO9rA9A5euc8Ak\n",
      "uri                              spotify:track:6I9VzXrHxO9rA9A5euc8Ak\n",
      "track_href          https://api.spotify.com/v1/tracks/6I9VzXrHxO9r...\n",
      "analysis_url        https://api.spotify.com/v1/audio-analysis/6I9V...\n",
      "duration_ms                                                    198800\n",
      "time_signature                                                      4\n",
      "Name: 0, dtype: object\n"
     ]
    }
   ],
   "source": [
    "continue_ = True\n",
    "current_song_index = 0 #songs_df.index[songs_df['track_uri'] == s].tolist()[0]\n",
    "current_song_index = songs_df.index[songs_df['track_uri'] == \"spotify:track:2PpruBYCo4H7WOBJ7Q2EwM\"].tolist()[0]\n",
    "prev_features = []\n",
    "\n",
    "while continue_:\n",
    "    current_song_artist = songs_df.iloc[current_song_index][\"artist_name\"]\n",
    "    current_song_name = songs_df.iloc[current_song_index][\"track_name\"]\n",
    "\n",
    "    # Compute explanation\n",
    "    selected_feature = \"ERROR\" # Default value\n",
    "    track_uri = songs_df.iloc[current_song_index][\"track_uri\"]\n",
    "    print(\"URI \" + track_uri)\n",
    "    search_mask = tracks_w_features['uri'] == track_uri\n",
    "    print(tracks_w_features[search_mask])\n",
    "    print(tracks_w_features.iloc[0])\n",
    "\n",
    "\n",
    "    explanation_string = \"This song was chosen because the %s fits your session best.\\n\" % selected_feature\n",
    "\n",
    "    # Add features to previous features\n",
    "    #prev_features.append(input_.iloc[current_song_index])\n",
    "\n",
    "    # Compare to average\n",
    "\n",
    "    s = input(explanation_string + current_song_artist + \" - \" + current_song_name + \"\\n\" + \"Skip (y) or listen (n) or quit (q)?\")\n",
    "    if s == \"y\":\n",
    "        print(\"skipped\")\n",
    "        songs_df.at[current_song_index, \"class\"] = -1 # negative rating\n",
    "    elif s == \"n\":\n",
    "        print(\"not skipped\")\n",
    "        songs_df.at[current_song_index, \"class\"] = 1  # positive rating\n",
    "    elif s == \"q\":\n",
    "        continue_ = False\n",
    "    else:\n",
    "        print(\"Invalid input\")\n",
    "    current_song_index = 0  # TODO: Get next song from the recommender system\n"
   ]
  }
 ],
 "metadata": {
  "kernelspec": {
   "display_name": "Python 3 (ipykernel)",
   "language": "python",
   "name": "python3"
  },
  "language_info": {
   "codemirror_mode": {
    "name": "ipython",
    "version": 3
   },
   "file_extension": ".py",
   "mimetype": "text/x-python",
   "name": "python",
   "nbconvert_exporter": "python",
   "pygments_lexer": "ipython3",
   "version": "3.10.6"
  }
 },
 "nbformat": 4,
 "nbformat_minor": 5
}