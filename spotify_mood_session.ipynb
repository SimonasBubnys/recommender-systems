{
 "cells": [
  {
   "cell_type": "markdown",
   "id": "2c5e86fe",
   "metadata": {},
   "source": [
    "# Spotify Mood Session\n",
    "\n",
    "## 1. Algorithm\n",
    "\n",
    "a. **First Selection**. User selects a song $s_0$ from the set of all songs $S$ using some kind of search method (by name / artist) and plays that song.\n",
    "\n",
    "b. **Played List**.  Let $P$ be a new list of played songs and let $P \\gets s_0$   \n",
    "\n",
    "c. **Cold Start**. Create a bootstrap random selection of $n$ songs from $S$ called $R$. Calculate the distance between each song and the first selection and select the closest to the chosen song . Formally:\n",
    "\n",
    "$$\n",
    "\\forall s \\in R \\text{ dist}(s_i, s_0)\n",
    "$$\n",
    "\n",
    "*potential parameter: use a value to add the closest n songs to the initial bootstrap played list*\n",
    "\n",
    "d. **Rating**. For every song that a user plays for more than 30 seconds, the song is rated $\\text{pos}$, songs that are skipped within this time period are rated $\\text{neg}$.  Songs that have not been played are rated $\\text{non}$\n",
    "\n",
    "e. **Recommending**.  Take the current set of vectors and select the next song based on some sort of agregated mean or nearest neighbour system.\n",
    "\n",
    "repeat (d) and (e) ad infinitum."
   ]
  },
  {
   "cell_type": "markdown",
   "id": "d7ac70d2",
   "metadata": {},
   "source": [
    "Formally:\n",
    "\n",
    "$$\n",
    "\\text{let: } s_0 \\gets \\text{ user}(S) \\\\\n",
    "\\text{let: } P = \\{ s_0 \\} \\\\\n",
    "\\text{let: } R \\subset S \\\\\n",
    "\\text{let: } D = \\emptyset \\\\ \n",
    "\\text{for } s_i \\text{ in } R:\\\\\n",
    "D_i = \\text{dist}(s_i, s_0) \\\\\n",
    "\\text{end for }\\\\\n",
    "\\text{select}(\\text{max}(D))\\\\\n",
    "$$"
   ]
  },
  {
   "cell_type": "code",
   "execution_count": 26,
   "id": "7693089a",
   "metadata": {},
   "outputs": [
    {
     "name": "stdout",
     "output_type": "stream",
     "text": [
      "(5000, 12)\n"
     ]
    }
   ],
   "source": [
    "import json\n",
    "import pandas as pd\n",
    "import os\n",
    "from IPython.display import display\n",
    "\n",
    "# create list of playlists\n",
    "playlists = []\n",
    "path = 'data'\n",
    "count = 5\n",
    "for filename in os.listdir(path):\n",
    "    count -= 1\n",
    "    if count < 0:\n",
    "        break\n",
    "    f = os.path.join(path, filename)\n",
    "    if os.path.isfile(f):\n",
    "        d = json.load(open(f))\n",
    "        playlists.append(pd.DataFrame(d['playlists']))\n",
    "\n",
    "playlists = pd.concat(playlists)\n",
    "playlists = playlists.reset_index(drop=True)\n",
    "print(playlists.shape)"
   ]
  },
  {
   "cell_type": "code",
   "execution_count": 27,
   "id": "05c28051",
   "metadata": {},
   "outputs": [
    {
     "name": "stdout",
     "output_type": "stream",
     "text": [
      "334487\n",
      "{'pos': 0, 'artist_name': 'Missy Elliott', 'track_uri': 'spotify:track:0UaMYEvWZi0ZqiDOoHU3YI', 'artist_uri': 'spotify:artist:2wIVse2owClT7go1WT98tk', 'track_name': 'Lose Control (feat. Ciara & Fat Man Scoop)', 'album_uri': 'spotify:album:6vV5UrXcfyQD1wu4Qo2I9K', 'duration_ms': 226863, 'album_name': 'The Cookbook'}\n"
     ]
    }
   ],
   "source": [
    "# Add all songs from the playlists into a single list of songs\n",
    "songs = [] \n",
    "for i in range(len(playlists)):\n",
    "    tracks = playlists.iloc[i].loc['tracks']\n",
    "    for track in tracks:\n",
    "        songs.append(track)\n",
    "\n",
    "print(len(songs))\n",
    "print(songs[0])"
   ]
  },
  {
   "cell_type": "code",
   "execution_count": 28,
   "id": "4509d4c6",
   "metadata": {},
   "outputs": [
    {
     "name": "stdout",
     "output_type": "stream",
     "text": [
      "(334487, 8)\n"
     ]
    },
    {
     "data": {
      "text/plain": "   pos        artist_name                             track_uri  \\\n0    0      Missy Elliott  spotify:track:0UaMYEvWZi0ZqiDOoHU3YI   \n1    1     Britney Spears  spotify:track:6I9VzXrHxO9rA9A5euc8Ak   \n2    2            Beyoncé  spotify:track:0WqIKmW4BTrj3eJFmnCKMv   \n3    3  Justin Timberlake  spotify:track:1AWQoqb9bSvzTjaLralEkT   \n4    4             Shaggy  spotify:track:1lzr43nnXAijIGYnCT8M8H   \n\n                              artist_uri  \\\n0  spotify:artist:2wIVse2owClT7go1WT98tk   \n1  spotify:artist:26dSoYclwsYLMAKD3tpOr4   \n2  spotify:artist:6vWDO969PvNqNYHIOW5v0m   \n3  spotify:artist:31TPClRtHm23RisEBtV3X7   \n4  spotify:artist:5EvFsr3kj42KNv97ZEnqij   \n\n                                   track_name  \\\n0  Lose Control (feat. Ciara & Fat Man Scoop)   \n1                                       Toxic   \n2                               Crazy In Love   \n3                              Rock Your Body   \n4                                It Wasn't Me   \n\n                              album_uri  duration_ms  \\\n0  spotify:album:6vV5UrXcfyQD1wu4Qo2I9K       226863   \n1  spotify:album:0z7pVBGOD7HCIB7S8eLkLI       198800   \n2  spotify:album:25hVFAxTlDvXbx2X2QkUkE       235933   \n3  spotify:album:6QPkyl04rXwTGlGlcYaRoW       267266   \n4  spotify:album:6NmFmPX56pcLBOFMhIiKvF       227600   \n\n                                     album_name  \n0                                  The Cookbook  \n1                                   In The Zone  \n2  Dangerously In Love (Alben für die Ewigkeit)  \n3                                     Justified  \n4                                      Hot Shot  ",
      "text/html": "<div>\n<style scoped>\n    .dataframe tbody tr th:only-of-type {\n        vertical-align: middle;\n    }\n\n    .dataframe tbody tr th {\n        vertical-align: top;\n    }\n\n    .dataframe thead th {\n        text-align: right;\n    }\n</style>\n<table border=\"1\" class=\"dataframe\">\n  <thead>\n    <tr style=\"text-align: right;\">\n      <th></th>\n      <th>pos</th>\n      <th>artist_name</th>\n      <th>track_uri</th>\n      <th>artist_uri</th>\n      <th>track_name</th>\n      <th>album_uri</th>\n      <th>duration_ms</th>\n      <th>album_name</th>\n    </tr>\n  </thead>\n  <tbody>\n    <tr>\n      <th>0</th>\n      <td>0</td>\n      <td>Missy Elliott</td>\n      <td>spotify:track:0UaMYEvWZi0ZqiDOoHU3YI</td>\n      <td>spotify:artist:2wIVse2owClT7go1WT98tk</td>\n      <td>Lose Control (feat. Ciara &amp; Fat Man Scoop)</td>\n      <td>spotify:album:6vV5UrXcfyQD1wu4Qo2I9K</td>\n      <td>226863</td>\n      <td>The Cookbook</td>\n    </tr>\n    <tr>\n      <th>1</th>\n      <td>1</td>\n      <td>Britney Spears</td>\n      <td>spotify:track:6I9VzXrHxO9rA9A5euc8Ak</td>\n      <td>spotify:artist:26dSoYclwsYLMAKD3tpOr4</td>\n      <td>Toxic</td>\n      <td>spotify:album:0z7pVBGOD7HCIB7S8eLkLI</td>\n      <td>198800</td>\n      <td>In The Zone</td>\n    </tr>\n    <tr>\n      <th>2</th>\n      <td>2</td>\n      <td>Beyoncé</td>\n      <td>spotify:track:0WqIKmW4BTrj3eJFmnCKMv</td>\n      <td>spotify:artist:6vWDO969PvNqNYHIOW5v0m</td>\n      <td>Crazy In Love</td>\n      <td>spotify:album:25hVFAxTlDvXbx2X2QkUkE</td>\n      <td>235933</td>\n      <td>Dangerously In Love (Alben für die Ewigkeit)</td>\n    </tr>\n    <tr>\n      <th>3</th>\n      <td>3</td>\n      <td>Justin Timberlake</td>\n      <td>spotify:track:1AWQoqb9bSvzTjaLralEkT</td>\n      <td>spotify:artist:31TPClRtHm23RisEBtV3X7</td>\n      <td>Rock Your Body</td>\n      <td>spotify:album:6QPkyl04rXwTGlGlcYaRoW</td>\n      <td>267266</td>\n      <td>Justified</td>\n    </tr>\n    <tr>\n      <th>4</th>\n      <td>4</td>\n      <td>Shaggy</td>\n      <td>spotify:track:1lzr43nnXAijIGYnCT8M8H</td>\n      <td>spotify:artist:5EvFsr3kj42KNv97ZEnqij</td>\n      <td>It Wasn't Me</td>\n      <td>spotify:album:6NmFmPX56pcLBOFMhIiKvF</td>\n      <td>227600</td>\n      <td>Hot Shot</td>\n    </tr>\n  </tbody>\n</table>\n</div>"
     },
     "execution_count": 28,
     "metadata": {},
     "output_type": "execute_result"
    }
   ],
   "source": [
    "songs_df = pd.DataFrame(songs)\n",
    "print(songs_df.shape)\n",
    "\n",
    "songs_df.head()"
   ]
  },
  {
   "cell_type": "code",
   "execution_count": 29,
   "id": "00e71357",
   "metadata": {},
   "outputs": [
    {
     "data": {
      "text/plain": "        pos                         artist_name  \\\n0         0                       Missy Elliott   \n1         1                      Britney Spears   \n2         2                             Beyoncé   \n3         3                   Justin Timberlake   \n4         4                              Shaggy   \n...     ...                                 ...   \n334480   13                               Lenka   \n334482   15                           Jay Ungar   \n334483   16                               Solas   \n334484   17                            Kim Yoon   \n334486   19  The Stage Door Orchestra & Singers   \n\n                                   track_uri  \\\n0       spotify:track:0UaMYEvWZi0ZqiDOoHU3YI   \n1       spotify:track:6I9VzXrHxO9rA9A5euc8Ak   \n2       spotify:track:0WqIKmW4BTrj3eJFmnCKMv   \n3       spotify:track:1AWQoqb9bSvzTjaLralEkT   \n4       spotify:track:1lzr43nnXAijIGYnCT8M8H   \n...                                      ...   \n334480  spotify:track:62FaMvOq3vLJTBjb5RgxiO   \n334482  spotify:track:5YUeOSawPzseEvCvi1HbrE   \n334483  spotify:track:4aAmDp1AR1Fp1UCpWuvy2d   \n334484  spotify:track:25JRhSij3kxAJ1li9lPe5k   \n334486  spotify:track:23Ktd7FBxHtP4F1llGMjOe   \n\n                                   artist_uri  \\\n0       spotify:artist:2wIVse2owClT7go1WT98tk   \n1       spotify:artist:26dSoYclwsYLMAKD3tpOr4   \n2       spotify:artist:6vWDO969PvNqNYHIOW5v0m   \n3       spotify:artist:31TPClRtHm23RisEBtV3X7   \n4       spotify:artist:5EvFsr3kj42KNv97ZEnqij   \n...                                       ...   \n334480  spotify:artist:5g3uG8zZZANGT6YOssgjfC   \n334482  spotify:artist:54jNT6jMGDoxMSBzUDEYSB   \n334483  spotify:artist:2CGGUtRYybRjQmuUwXugeP   \n334484  spotify:artist:2wA50FpX5Yc5b4OrhdQVXP   \n334486  spotify:artist:4rqD97trg8OUPyHKFRzA8m   \n\n                                        track_name  \\\n0       Lose Control (feat. Ciara & Fat Man Scoop)   \n1                                            Toxic   \n2                                    Crazy In Love   \n3                                   Rock Your Body   \n4                                     It Wasn't Me   \n...                                            ...   \n334480                                 Like A Song   \n334482                            Cows On The Hill   \n334483                                Crested Hens   \n334484                             Moonlight Waltz   \n334486                       And then I Kissed him   \n\n                                   album_uri  duration_ms  \\\n0       spotify:album:6vV5UrXcfyQD1wu4Qo2I9K       226863   \n1       spotify:album:0z7pVBGOD7HCIB7S8eLkLI       198800   \n2       spotify:album:25hVFAxTlDvXbx2X2QkUkE       235933   \n3       spotify:album:6QPkyl04rXwTGlGlcYaRoW       267266   \n4       spotify:album:6NmFmPX56pcLBOFMhIiKvF       227600   \n...                                      ...          ...   \n334480  spotify:album:2n2VzyRpAty4hkMHBx1nV0       200173   \n334482  spotify:album:38D9S6sriWlYlbUBONInpa       225440   \n334483  spotify:album:1EL10LDAWFZdencyTUlGqu       314186   \n334484  spotify:album:6pFFE9TLlHpeQrvOVNiswy       226925   \n334486  spotify:album:3FFYR0nzt8D2rx2Roh9GHu       336720   \n\n                                               album_name  \n0                                            The Cookbook  \n1                                             In The Zone  \n2            Dangerously In Love (Alben für die Ewigkeit)  \n3                                               Justified  \n4                                                Hot Shot  \n...                                                   ...  \n334480                                              Lenka  \n334482  Waltzing With You (Music From The Film \"Brothe...  \n334483                                              Solas  \n334484                           Dreaming in the Blue Sky  \n334486              The Passion of Pearl Harbor & Titanic  \n\n[87903 rows x 8 columns]",
      "text/html": "<div>\n<style scoped>\n    .dataframe tbody tr th:only-of-type {\n        vertical-align: middle;\n    }\n\n    .dataframe tbody tr th {\n        vertical-align: top;\n    }\n\n    .dataframe thead th {\n        text-align: right;\n    }\n</style>\n<table border=\"1\" class=\"dataframe\">\n  <thead>\n    <tr style=\"text-align: right;\">\n      <th></th>\n      <th>pos</th>\n      <th>artist_name</th>\n      <th>track_uri</th>\n      <th>artist_uri</th>\n      <th>track_name</th>\n      <th>album_uri</th>\n      <th>duration_ms</th>\n      <th>album_name</th>\n    </tr>\n  </thead>\n  <tbody>\n    <tr>\n      <th>0</th>\n      <td>0</td>\n      <td>Missy Elliott</td>\n      <td>spotify:track:0UaMYEvWZi0ZqiDOoHU3YI</td>\n      <td>spotify:artist:2wIVse2owClT7go1WT98tk</td>\n      <td>Lose Control (feat. Ciara &amp; Fat Man Scoop)</td>\n      <td>spotify:album:6vV5UrXcfyQD1wu4Qo2I9K</td>\n      <td>226863</td>\n      <td>The Cookbook</td>\n    </tr>\n    <tr>\n      <th>1</th>\n      <td>1</td>\n      <td>Britney Spears</td>\n      <td>spotify:track:6I9VzXrHxO9rA9A5euc8Ak</td>\n      <td>spotify:artist:26dSoYclwsYLMAKD3tpOr4</td>\n      <td>Toxic</td>\n      <td>spotify:album:0z7pVBGOD7HCIB7S8eLkLI</td>\n      <td>198800</td>\n      <td>In The Zone</td>\n    </tr>\n    <tr>\n      <th>2</th>\n      <td>2</td>\n      <td>Beyoncé</td>\n      <td>spotify:track:0WqIKmW4BTrj3eJFmnCKMv</td>\n      <td>spotify:artist:6vWDO969PvNqNYHIOW5v0m</td>\n      <td>Crazy In Love</td>\n      <td>spotify:album:25hVFAxTlDvXbx2X2QkUkE</td>\n      <td>235933</td>\n      <td>Dangerously In Love (Alben für die Ewigkeit)</td>\n    </tr>\n    <tr>\n      <th>3</th>\n      <td>3</td>\n      <td>Justin Timberlake</td>\n      <td>spotify:track:1AWQoqb9bSvzTjaLralEkT</td>\n      <td>spotify:artist:31TPClRtHm23RisEBtV3X7</td>\n      <td>Rock Your Body</td>\n      <td>spotify:album:6QPkyl04rXwTGlGlcYaRoW</td>\n      <td>267266</td>\n      <td>Justified</td>\n    </tr>\n    <tr>\n      <th>4</th>\n      <td>4</td>\n      <td>Shaggy</td>\n      <td>spotify:track:1lzr43nnXAijIGYnCT8M8H</td>\n      <td>spotify:artist:5EvFsr3kj42KNv97ZEnqij</td>\n      <td>It Wasn't Me</td>\n      <td>spotify:album:6NmFmPX56pcLBOFMhIiKvF</td>\n      <td>227600</td>\n      <td>Hot Shot</td>\n    </tr>\n    <tr>\n      <th>...</th>\n      <td>...</td>\n      <td>...</td>\n      <td>...</td>\n      <td>...</td>\n      <td>...</td>\n      <td>...</td>\n      <td>...</td>\n      <td>...</td>\n    </tr>\n    <tr>\n      <th>334480</th>\n      <td>13</td>\n      <td>Lenka</td>\n      <td>spotify:track:62FaMvOq3vLJTBjb5RgxiO</td>\n      <td>spotify:artist:5g3uG8zZZANGT6YOssgjfC</td>\n      <td>Like A Song</td>\n      <td>spotify:album:2n2VzyRpAty4hkMHBx1nV0</td>\n      <td>200173</td>\n      <td>Lenka</td>\n    </tr>\n    <tr>\n      <th>334482</th>\n      <td>15</td>\n      <td>Jay Ungar</td>\n      <td>spotify:track:5YUeOSawPzseEvCvi1HbrE</td>\n      <td>spotify:artist:54jNT6jMGDoxMSBzUDEYSB</td>\n      <td>Cows On The Hill</td>\n      <td>spotify:album:38D9S6sriWlYlbUBONInpa</td>\n      <td>225440</td>\n      <td>Waltzing With You (Music From The Film \"Brothe...</td>\n    </tr>\n    <tr>\n      <th>334483</th>\n      <td>16</td>\n      <td>Solas</td>\n      <td>spotify:track:4aAmDp1AR1Fp1UCpWuvy2d</td>\n      <td>spotify:artist:2CGGUtRYybRjQmuUwXugeP</td>\n      <td>Crested Hens</td>\n      <td>spotify:album:1EL10LDAWFZdencyTUlGqu</td>\n      <td>314186</td>\n      <td>Solas</td>\n    </tr>\n    <tr>\n      <th>334484</th>\n      <td>17</td>\n      <td>Kim Yoon</td>\n      <td>spotify:track:25JRhSij3kxAJ1li9lPe5k</td>\n      <td>spotify:artist:2wA50FpX5Yc5b4OrhdQVXP</td>\n      <td>Moonlight Waltz</td>\n      <td>spotify:album:6pFFE9TLlHpeQrvOVNiswy</td>\n      <td>226925</td>\n      <td>Dreaming in the Blue Sky</td>\n    </tr>\n    <tr>\n      <th>334486</th>\n      <td>19</td>\n      <td>The Stage Door Orchestra &amp; Singers</td>\n      <td>spotify:track:23Ktd7FBxHtP4F1llGMjOe</td>\n      <td>spotify:artist:4rqD97trg8OUPyHKFRzA8m</td>\n      <td>And then I Kissed him</td>\n      <td>spotify:album:3FFYR0nzt8D2rx2Roh9GHu</td>\n      <td>336720</td>\n      <td>The Passion of Pearl Harbor &amp; Titanic</td>\n    </tr>\n  </tbody>\n</table>\n<p>87903 rows × 8 columns</p>\n</div>"
     },
     "execution_count": 29,
     "metadata": {},
     "output_type": "execute_result"
    }
   ],
   "source": [
    "# Remove duplicate songs by URI\n",
    "songs_df.drop_duplicates('track_name')"
   ]
  },
  {
   "cell_type": "code",
   "execution_count": 30,
   "id": "6cffb9db",
   "metadata": {},
   "outputs": [],
   "source": [
    "# Add score placeholder to the songs\n",
    "classification = [0]*len(songs_df)\n",
    "songs_df.insert(8, \"class\", classification) # Append data frame by one column"
   ]
  },
  {
   "cell_type": "code",
   "execution_count": 31,
   "outputs": [
    {
     "name": "stdout",
     "output_type": "stream",
     "text": [
      "pos                                                     0\n",
      "artist_name                                 Missy Elliott\n",
      "track_uri            spotify:track:0UaMYEvWZi0ZqiDOoHU3YI\n",
      "artist_uri          spotify:artist:2wIVse2owClT7go1WT98tk\n",
      "track_name     Lose Control (feat. Ciara & Fat Man Scoop)\n",
      "album_uri            spotify:album:6vV5UrXcfyQD1wu4Qo2I9K\n",
      "duration_ms                                        226863\n",
      "album_name                                   The Cookbook\n",
      "class                                                   0\n",
      "Name: 0, dtype: object\n"
     ]
    }
   ],
   "source": [
    "# Print song data to ensure the score was a\n",
    "print(songs_df.iloc[0])\n"
   ],
   "metadata": {
    "collapsed": false,
    "pycharm": {
     "name": "#%%\n"
    }
   }
  }
 ],
 "metadata": {
  "kernelspec": {
   "display_name": "Python 3 (ipykernel)",
   "language": "python",
   "name": "python3"
  },
  "language_info": {
   "codemirror_mode": {
    "name": "ipython",
    "version": 3
   },
   "file_extension": ".py",
   "mimetype": "text/x-python",
   "name": "python",
   "nbconvert_exporter": "python",
   "pygments_lexer": "ipython3",
   "version": "3.9.12"
  }
 },
 "nbformat": 4,
 "nbformat_minor": 5
}