{
 "cells": [
  {
   "cell_type": "markdown",
   "id": "2c5e86fe",
   "metadata": {},
   "source": [
    "# Spotify Mood Session\n",
    "\n",
    "## 1. Algorithm\n",
    "\n",
    "a. **First Selection**. User selects a song $s_0$ from the set of all songs $S$ using some kind of search method (by name / artist) and plays that song.\n",
    "\n",
    "b. **Played List**.  Let $P$ be a new list of played songs and let $P \\gets s_0$   \n",
    "\n",
    "c. **Cold Start**. Create a bootstrap random selection of $n$ songs from $S$ called $R$. Calculate the distance between each song and the first selection and select the closest to the chosen song . Formally:\n",
    "\n",
    "$$\n",
    "\\forall s \\in R \\text{ dist}(s_i, s_0)\n",
    "$$\n",
    "\n",
    "*potential parameter: use a value to add the closest n songs to the initial bootstrap played list*\n",
    "\n",
    "d. **Rating**. For every song that a user plays for more than 30 seconds, the song is rated $\\text{pos}$, songs that are skipped within this time period are rated $\\text{neg}$.  Songs that have not been played are rated $\\text{non}$\n",
    "\n",
    "e. **Recommending**.  Take the current set of vectors and select the next song based on some sort of agregated mean or nearest neighbour system.\n",
    "\n",
    "repeat (d) and (e) ad infinitum."
   ]
  },
  {
   "cell_type": "markdown",
   "id": "d7ac70d2",
   "metadata": {},
   "source": [
    "Formally:\n",
    "\n",
    "$$\n",
    "\\text{let: } s_0 \\gets \\text{ user}(S) \\\\\n",
    "\\text{let: } P = \\{ s_0 \\} \\\\\n",
    "\\text{let: } R \\subset S \\\\\n",
    "\\text{let: } D = \\emptyset \\\\ \n",
    "\\text{for } s_i \\text{ in } R:\\\\\n",
    "D_i = \\text{dist}(s_i, s_0) \\\\\n",
    "\\text{end for }\\\\\n",
    "\\text{select}(\\text{max}(D))\\\\\n",
    "$$"
   ]
  },
  {
   "cell_type": "code",
   "execution_count": 1,
   "id": "7693089a",
   "metadata": {},
   "outputs": [
    {
     "name": "stdout",
     "output_type": "stream",
     "text": [
      "(5000, 12)\n"
     ]
    }
   ],
   "source": [
    "import json\n",
    "import pandas as pd\n",
    "import os\n",
    "import spotipy\n",
    "from spotipy.oauth2 import SpotifyClientCredentials as cc\n",
    "import numpy as np\n",
    "import pandas as pd\n",
    "from IPython.display import display\n",
    "import warnings\n",
    "import time\n",
    "\n",
    "# create list of playlists\n",
    "playlists = []\n",
    "path = 'data'\n",
    "count = 5\n",
    "for filename in os.listdir(path):\n",
    "    count -= 1\n",
    "    if count < 0:\n",
    "        break\n",
    "    f = os.path.join(path, filename)\n",
    "    if os.path.isfile(f):\n",
    "        d = json.load(open(f))\n",
    "        playlists.append(pd.DataFrame(d['playlists']))\n",
    "\n",
    "playlists = pd.concat(playlists)\n",
    "playlists = playlists.reset_index(drop=True)\n",
    "print(playlists.shape)"
   ]
  },
  {
   "cell_type": "code",
   "execution_count": 2,
   "id": "05c28051",
   "metadata": {},
   "outputs": [
    {
     "name": "stdout",
     "output_type": "stream",
     "text": [
      "(334487, 8)\n"
     ]
    },
    {
     "data": {
      "text/plain": "   pos        artist_name                             track_uri  \\\n0    0      Missy Elliott  spotify:track:0UaMYEvWZi0ZqiDOoHU3YI   \n1    1     Britney Spears  spotify:track:6I9VzXrHxO9rA9A5euc8Ak   \n2    2            Beyoncé  spotify:track:0WqIKmW4BTrj3eJFmnCKMv   \n3    3  Justin Timberlake  spotify:track:1AWQoqb9bSvzTjaLralEkT   \n4    4             Shaggy  spotify:track:1lzr43nnXAijIGYnCT8M8H   \n\n                              artist_uri  \\\n0  spotify:artist:2wIVse2owClT7go1WT98tk   \n1  spotify:artist:26dSoYclwsYLMAKD3tpOr4   \n2  spotify:artist:6vWDO969PvNqNYHIOW5v0m   \n3  spotify:artist:31TPClRtHm23RisEBtV3X7   \n4  spotify:artist:5EvFsr3kj42KNv97ZEnqij   \n\n                                   track_name  \\\n0  Lose Control (feat. Ciara & Fat Man Scoop)   \n1                                       Toxic   \n2                               Crazy In Love   \n3                              Rock Your Body   \n4                                It Wasn't Me   \n\n                              album_uri  duration_ms  \\\n0  spotify:album:6vV5UrXcfyQD1wu4Qo2I9K       226863   \n1  spotify:album:0z7pVBGOD7HCIB7S8eLkLI       198800   \n2  spotify:album:25hVFAxTlDvXbx2X2QkUkE       235933   \n3  spotify:album:6QPkyl04rXwTGlGlcYaRoW       267266   \n4  spotify:album:6NmFmPX56pcLBOFMhIiKvF       227600   \n\n                                     album_name  \n0                                  The Cookbook  \n1                                   In The Zone  \n2  Dangerously In Love (Alben für die Ewigkeit)  \n3                                     Justified  \n4                                      Hot Shot  ",
      "text/html": "<div>\n<style scoped>\n    .dataframe tbody tr th:only-of-type {\n        vertical-align: middle;\n    }\n\n    .dataframe tbody tr th {\n        vertical-align: top;\n    }\n\n    .dataframe thead th {\n        text-align: right;\n    }\n</style>\n<table border=\"1\" class=\"dataframe\">\n  <thead>\n    <tr style=\"text-align: right;\">\n      <th></th>\n      <th>pos</th>\n      <th>artist_name</th>\n      <th>track_uri</th>\n      <th>artist_uri</th>\n      <th>track_name</th>\n      <th>album_uri</th>\n      <th>duration_ms</th>\n      <th>album_name</th>\n    </tr>\n  </thead>\n  <tbody>\n    <tr>\n      <th>0</th>\n      <td>0</td>\n      <td>Missy Elliott</td>\n      <td>spotify:track:0UaMYEvWZi0ZqiDOoHU3YI</td>\n      <td>spotify:artist:2wIVse2owClT7go1WT98tk</td>\n      <td>Lose Control (feat. Ciara &amp; Fat Man Scoop)</td>\n      <td>spotify:album:6vV5UrXcfyQD1wu4Qo2I9K</td>\n      <td>226863</td>\n      <td>The Cookbook</td>\n    </tr>\n    <tr>\n      <th>1</th>\n      <td>1</td>\n      <td>Britney Spears</td>\n      <td>spotify:track:6I9VzXrHxO9rA9A5euc8Ak</td>\n      <td>spotify:artist:26dSoYclwsYLMAKD3tpOr4</td>\n      <td>Toxic</td>\n      <td>spotify:album:0z7pVBGOD7HCIB7S8eLkLI</td>\n      <td>198800</td>\n      <td>In The Zone</td>\n    </tr>\n    <tr>\n      <th>2</th>\n      <td>2</td>\n      <td>Beyoncé</td>\n      <td>spotify:track:0WqIKmW4BTrj3eJFmnCKMv</td>\n      <td>spotify:artist:6vWDO969PvNqNYHIOW5v0m</td>\n      <td>Crazy In Love</td>\n      <td>spotify:album:25hVFAxTlDvXbx2X2QkUkE</td>\n      <td>235933</td>\n      <td>Dangerously In Love (Alben für die Ewigkeit)</td>\n    </tr>\n    <tr>\n      <th>3</th>\n      <td>3</td>\n      <td>Justin Timberlake</td>\n      <td>spotify:track:1AWQoqb9bSvzTjaLralEkT</td>\n      <td>spotify:artist:31TPClRtHm23RisEBtV3X7</td>\n      <td>Rock Your Body</td>\n      <td>spotify:album:6QPkyl04rXwTGlGlcYaRoW</td>\n      <td>267266</td>\n      <td>Justified</td>\n    </tr>\n    <tr>\n      <th>4</th>\n      <td>4</td>\n      <td>Shaggy</td>\n      <td>spotify:track:1lzr43nnXAijIGYnCT8M8H</td>\n      <td>spotify:artist:5EvFsr3kj42KNv97ZEnqij</td>\n      <td>It Wasn't Me</td>\n      <td>spotify:album:6NmFmPX56pcLBOFMhIiKvF</td>\n      <td>227600</td>\n      <td>Hot Shot</td>\n    </tr>\n  </tbody>\n</table>\n</div>"
     },
     "execution_count": 2,
     "metadata": {},
     "output_type": "execute_result"
    }
   ],
   "source": [
    "# Add all songs from the playlists into a single list of songs\n",
    "songs = [] \n",
    "for i in range(len(playlists)):\n",
    "    tracks = playlists.iloc[i].loc['tracks']\n",
    "    for track in tracks:\n",
    "        songs.append(track)\n",
    "\n",
    "songs_df = pd.DataFrame(songs)\n",
    "print(songs_df.shape)\n",
    "songs_df.head()"
   ]
  },
  {
   "cell_type": "code",
   "execution_count": 3,
   "id": "00e71357",
   "metadata": {},
   "outputs": [],
   "source": [
    "# Remove duplicate songs by URI\n",
    "songs_df = songs_df.drop_duplicates('track_uri')"
   ]
  },
  {
   "cell_type": "code",
   "execution_count": 4,
   "id": "6cffb9db",
   "metadata": {},
   "outputs": [],
   "source": [
    "# Add score placeholder to the songs\n",
    "classification = [0]*len(songs_df)\n",
    "songs_df.insert(8, \"class\", classification) # Append data frame by one column"
   ]
  },
  {
   "cell_type": "code",
   "execution_count": 5,
   "id": "fa0a9d61",
   "metadata": {},
   "outputs": [
    {
     "name": "stdout",
     "output_type": "stream",
     "text": [
      "pos                                                     0\n",
      "artist_name                                 Missy Elliott\n",
      "track_uri            spotify:track:0UaMYEvWZi0ZqiDOoHU3YI\n",
      "artist_uri          spotify:artist:2wIVse2owClT7go1WT98tk\n",
      "track_name     Lose Control (feat. Ciara & Fat Man Scoop)\n",
      "album_uri            spotify:album:6vV5UrXcfyQD1wu4Qo2I9K\n",
      "duration_ms                                        226863\n",
      "album_name                                   The Cookbook\n",
      "class                                                   0\n",
      "Name: 0, dtype: object\n"
     ]
    }
   ],
   "source": [
    "# Print song data to ensure the score was added\n",
    "print(songs_df.iloc[0])"
   ]
  },
  {
   "cell_type": "code",
   "execution_count": 42,
   "outputs": [
    {
     "data": {
      "text/plain": "   acousticness  danceability  energy  instrumentalness  liveness  loudness  \\\n0        0.5440         0.628   0.284          0.000005    0.1210   -11.629   \n1        0.4110         0.758   0.402          0.000000    0.2170    -5.066   \n2        0.0615         0.756   0.922          0.000462    0.0723    -2.683   \n3        0.0222         0.694   0.748          0.000000    0.1550    -2.930   \n4        0.7260         0.538   0.436          0.000000    0.1510    -8.730   \n\n   speechiness    tempo                                   uri  valence  \n0       0.1020   91.131  spotify:track:6ToAD7ajJidQTDn72OncDG    0.354  \n1       0.0459   92.109  spotify:track:6yEfq48XkEzCg0TwY6Hhkb    0.519  \n2       0.0539  100.005  spotify:track:1ZgfAxHQCXLt8o1VXEHHAt    0.809  \n3       0.1670   92.918  spotify:track:4b1sQpvL7QVgamRZ74F1oA    0.521  \n4       0.0504   87.111  spotify:track:0AO2yQNGcH0ASHHU5lS4lT    0.370  ",
      "text/html": "<div>\n<style scoped>\n    .dataframe tbody tr th:only-of-type {\n        vertical-align: middle;\n    }\n\n    .dataframe tbody tr th {\n        vertical-align: top;\n    }\n\n    .dataframe thead th {\n        text-align: right;\n    }\n</style>\n<table border=\"1\" class=\"dataframe\">\n  <thead>\n    <tr style=\"text-align: right;\">\n      <th></th>\n      <th>acousticness</th>\n      <th>danceability</th>\n      <th>energy</th>\n      <th>instrumentalness</th>\n      <th>liveness</th>\n      <th>loudness</th>\n      <th>speechiness</th>\n      <th>tempo</th>\n      <th>uri</th>\n      <th>valence</th>\n    </tr>\n  </thead>\n  <tbody>\n    <tr>\n      <th>0</th>\n      <td>0.5440</td>\n      <td>0.628</td>\n      <td>0.284</td>\n      <td>0.000005</td>\n      <td>0.1210</td>\n      <td>-11.629</td>\n      <td>0.1020</td>\n      <td>91.131</td>\n      <td>spotify:track:6ToAD7ajJidQTDn72OncDG</td>\n      <td>0.354</td>\n    </tr>\n    <tr>\n      <th>1</th>\n      <td>0.4110</td>\n      <td>0.758</td>\n      <td>0.402</td>\n      <td>0.000000</td>\n      <td>0.2170</td>\n      <td>-5.066</td>\n      <td>0.0459</td>\n      <td>92.109</td>\n      <td>spotify:track:6yEfq48XkEzCg0TwY6Hhkb</td>\n      <td>0.519</td>\n    </tr>\n    <tr>\n      <th>2</th>\n      <td>0.0615</td>\n      <td>0.756</td>\n      <td>0.922</td>\n      <td>0.000462</td>\n      <td>0.0723</td>\n      <td>-2.683</td>\n      <td>0.0539</td>\n      <td>100.005</td>\n      <td>spotify:track:1ZgfAxHQCXLt8o1VXEHHAt</td>\n      <td>0.809</td>\n    </tr>\n    <tr>\n      <th>3</th>\n      <td>0.0222</td>\n      <td>0.694</td>\n      <td>0.748</td>\n      <td>0.000000</td>\n      <td>0.1550</td>\n      <td>-2.930</td>\n      <td>0.1670</td>\n      <td>92.918</td>\n      <td>spotify:track:4b1sQpvL7QVgamRZ74F1oA</td>\n      <td>0.521</td>\n    </tr>\n    <tr>\n      <th>4</th>\n      <td>0.7260</td>\n      <td>0.538</td>\n      <td>0.436</td>\n      <td>0.000000</td>\n      <td>0.1510</td>\n      <td>-8.730</td>\n      <td>0.0504</td>\n      <td>87.111</td>\n      <td>spotify:track:0AO2yQNGcH0ASHHU5lS4lT</td>\n      <td>0.370</td>\n    </tr>\n  </tbody>\n</table>\n</div>"
     },
     "metadata": {},
     "output_type": "display_data"
    }
   ],
   "source": [
    "#DO NOT RUN THE AUDIO FEATURES HAVE ALREADY BEEN STORED IN THE AUDIO_FEATURES FILE\n",
    "def run_features():\n",
    "    #CREATE DATASET WITH SONG AUDIO FEATURES FROM THE URIS OF songs_df\n",
    "    client_id = '898dd71dc932407e85921f0ac79f0127'\n",
    "    client_secret = '16d994f070064371beb8758f32d64180'\n",
    "    #https://developer.spotify.com/dashboard/applications/898dd71dc932407e85921f0ac79f0127\n",
    "    client_cc = cc(client_id=client_id,client_secret=client_secret)\n",
    "    sp = spotipy.Spotify(client_credentials_manager=client_cc)\n",
    "\n",
    "\n",
    "    sleep_min = 1\n",
    "    sleep_max = 2\n",
    "    start_time = time.time()\n",
    "    request_count = 0\n",
    "    tracks_w_features = pd.DataFrame()\n",
    "    for i in range(0,3344):\n",
    "        if request_count % 13 == 0:\n",
    "            time.sleep(np.random.uniform(sleep_min, sleep_max))\n",
    "        else:\n",
    "            tracks_to_get = songs_df.iloc[request_count:request_count+100][\"track_uri\"] #get the uri of these songs to get audio features\n",
    "            tracks = pd.DataFrame(sp.audio_features(tracks_to_get))\n",
    "            tracks_w_features = tracks_w_features.append(tracks)\n",
    "        request_count+=100\n",
    "\n",
    "    #remove useless-categorical columns, can use index to get song information later\n",
    "    tracks_w_features = tracks_w_features.drop(columns=['mode','key','time_signature', 'duration_ms','analysis_url','track_href','id','type']).copy()\n",
    "    warnings.filterwarnings(\"ignore\")\n",
    "    warnings.filterwarnings(action='once')\n",
    "\n",
    "    from pathlib import Path\n",
    "    filepath = Path('recommender-systems/audio_features.csv')\n",
    "    filepath.parent.mkdir(parents=True, exist_ok=True)\n",
    "    tracks_w_features.to_csv(filepath)\n",
    "\n",
    "tracks_w_features = pd.read_csv('recommender-systems/audio_features.csv')\n",
    "tracks_w_features = tracks_w_features.drop(columns=['Unnamed: 0','0'])\n",
    "display(tracks_w_features.head())"
   ],
   "metadata": {
    "collapsed": false
   }
  },
  {
   "cell_type": "code",
   "execution_count": 7,
   "id": "f4eb1393",
   "metadata": {},
   "outputs": [
    {
     "name": "stdout",
     "output_type": "stream",
     "text": [
      "Search for a song name\n"
     ]
    },
    {
     "data": {
      "text/plain": "        pos                         artist_name  \\\n0         0                       Missy Elliott   \n2         2                             Beyoncé   \n4         4                              Shaggy   \n7         7                  The Pussycat Dolls   \n11       11                     Jesse McCartney   \n...     ...                                 ...   \n334480   13                               Lenka   \n334482   15                           Jay Ungar   \n334483   16                               Solas   \n334484   17                            Kim Yoon   \n334486   19  The Stage Door Orchestra & Singers   \n\n                                   track_uri  \\\n0       spotify:track:0UaMYEvWZi0ZqiDOoHU3YI   \n2       spotify:track:0WqIKmW4BTrj3eJFmnCKMv   \n4       spotify:track:1lzr43nnXAijIGYnCT8M8H   \n7       spotify:track:3BxWKCI06eQ5Od8TY2JBeA   \n11      spotify:track:4Y45aqo9QMa57rDsAJv40A   \n...                                      ...   \n334480  spotify:track:62FaMvOq3vLJTBjb5RgxiO   \n334482  spotify:track:5YUeOSawPzseEvCvi1HbrE   \n334483  spotify:track:4aAmDp1AR1Fp1UCpWuvy2d   \n334484  spotify:track:25JRhSij3kxAJ1li9lPe5k   \n334486  spotify:track:23Ktd7FBxHtP4F1llGMjOe   \n\n                                   artist_uri  \\\n0       spotify:artist:2wIVse2owClT7go1WT98tk   \n2       spotify:artist:6vWDO969PvNqNYHIOW5v0m   \n4       spotify:artist:5EvFsr3kj42KNv97ZEnqij   \n7       spotify:artist:6wPhSqRtPu1UhRCDX5yaDJ   \n11      spotify:artist:2Hjj68yyUPiC0HKEOigcEp   \n...                                       ...   \n334480  spotify:artist:5g3uG8zZZANGT6YOssgjfC   \n334482  spotify:artist:54jNT6jMGDoxMSBzUDEYSB   \n334483  spotify:artist:2CGGUtRYybRjQmuUwXugeP   \n334484  spotify:artist:2wA50FpX5Yc5b4OrhdQVXP   \n334486  spotify:artist:4rqD97trg8OUPyHKFRzA8m   \n\n                                          track_name  \\\n0         Lose Control (feat. Ciara & Fat Man Scoop)   \n2                                      Crazy In Love   \n4                                       It Wasn't Me   \n7                                            Buttons   \n11      Right Where You Want Me - Radio Edit Version   \n...                                              ...   \n334480                                   Like A Song   \n334482                              Cows On The Hill   \n334483                                  Crested Hens   \n334484                               Moonlight Waltz   \n334486                         And then I Kissed him   \n\n                                   album_uri  duration_ms  \\\n0       spotify:album:6vV5UrXcfyQD1wu4Qo2I9K       226863   \n2       spotify:album:25hVFAxTlDvXbx2X2QkUkE       235933   \n4       spotify:album:6NmFmPX56pcLBOFMhIiKvF       227600   \n7       spotify:album:5x8e8UcCeOgrOzSnDGuPye       225560   \n11      spotify:album:6022khQj4Fsvvse8f3A4lF       211693   \n...                                      ...          ...   \n334480  spotify:album:2n2VzyRpAty4hkMHBx1nV0       200173   \n334482  spotify:album:38D9S6sriWlYlbUBONInpa       225440   \n334483  spotify:album:1EL10LDAWFZdencyTUlGqu       314186   \n334484  spotify:album:6pFFE9TLlHpeQrvOVNiswy       226925   \n334486  spotify:album:3FFYR0nzt8D2rx2Roh9GHu       336720   \n\n                                               album_name  class  \n0                                            The Cookbook      0  \n2            Dangerously In Love (Alben für die Ewigkeit)      0  \n4                                                Hot Shot      0  \n7                                                     PCD      0  \n11                                Right Where You Want Me      0  \n...                                                   ...    ...  \n334480                                              Lenka      0  \n334482  Waltzing With You (Music From The Film \"Brothe...      0  \n334483                                              Solas      0  \n334484                           Dreaming in the Blue Sky      0  \n334486              The Passion of Pearl Harbor & Titanic      0  \n\n[61274 rows x 9 columns]",
      "text/html": "<div>\n<style scoped>\n    .dataframe tbody tr th:only-of-type {\n        vertical-align: middle;\n    }\n\n    .dataframe tbody tr th {\n        vertical-align: top;\n    }\n\n    .dataframe thead th {\n        text-align: right;\n    }\n</style>\n<table border=\"1\" class=\"dataframe\">\n  <thead>\n    <tr style=\"text-align: right;\">\n      <th></th>\n      <th>pos</th>\n      <th>artist_name</th>\n      <th>track_uri</th>\n      <th>artist_uri</th>\n      <th>track_name</th>\n      <th>album_uri</th>\n      <th>duration_ms</th>\n      <th>album_name</th>\n      <th>class</th>\n    </tr>\n  </thead>\n  <tbody>\n    <tr>\n      <th>0</th>\n      <td>0</td>\n      <td>Missy Elliott</td>\n      <td>spotify:track:0UaMYEvWZi0ZqiDOoHU3YI</td>\n      <td>spotify:artist:2wIVse2owClT7go1WT98tk</td>\n      <td>Lose Control (feat. Ciara &amp; Fat Man Scoop)</td>\n      <td>spotify:album:6vV5UrXcfyQD1wu4Qo2I9K</td>\n      <td>226863</td>\n      <td>The Cookbook</td>\n      <td>0</td>\n    </tr>\n    <tr>\n      <th>2</th>\n      <td>2</td>\n      <td>Beyoncé</td>\n      <td>spotify:track:0WqIKmW4BTrj3eJFmnCKMv</td>\n      <td>spotify:artist:6vWDO969PvNqNYHIOW5v0m</td>\n      <td>Crazy In Love</td>\n      <td>spotify:album:25hVFAxTlDvXbx2X2QkUkE</td>\n      <td>235933</td>\n      <td>Dangerously In Love (Alben für die Ewigkeit)</td>\n      <td>0</td>\n    </tr>\n    <tr>\n      <th>4</th>\n      <td>4</td>\n      <td>Shaggy</td>\n      <td>spotify:track:1lzr43nnXAijIGYnCT8M8H</td>\n      <td>spotify:artist:5EvFsr3kj42KNv97ZEnqij</td>\n      <td>It Wasn't Me</td>\n      <td>spotify:album:6NmFmPX56pcLBOFMhIiKvF</td>\n      <td>227600</td>\n      <td>Hot Shot</td>\n      <td>0</td>\n    </tr>\n    <tr>\n      <th>7</th>\n      <td>7</td>\n      <td>The Pussycat Dolls</td>\n      <td>spotify:track:3BxWKCI06eQ5Od8TY2JBeA</td>\n      <td>spotify:artist:6wPhSqRtPu1UhRCDX5yaDJ</td>\n      <td>Buttons</td>\n      <td>spotify:album:5x8e8UcCeOgrOzSnDGuPye</td>\n      <td>225560</td>\n      <td>PCD</td>\n      <td>0</td>\n    </tr>\n    <tr>\n      <th>11</th>\n      <td>11</td>\n      <td>Jesse McCartney</td>\n      <td>spotify:track:4Y45aqo9QMa57rDsAJv40A</td>\n      <td>spotify:artist:2Hjj68yyUPiC0HKEOigcEp</td>\n      <td>Right Where You Want Me - Radio Edit Version</td>\n      <td>spotify:album:6022khQj4Fsvvse8f3A4lF</td>\n      <td>211693</td>\n      <td>Right Where You Want Me</td>\n      <td>0</td>\n    </tr>\n    <tr>\n      <th>...</th>\n      <td>...</td>\n      <td>...</td>\n      <td>...</td>\n      <td>...</td>\n      <td>...</td>\n      <td>...</td>\n      <td>...</td>\n      <td>...</td>\n      <td>...</td>\n    </tr>\n    <tr>\n      <th>334480</th>\n      <td>13</td>\n      <td>Lenka</td>\n      <td>spotify:track:62FaMvOq3vLJTBjb5RgxiO</td>\n      <td>spotify:artist:5g3uG8zZZANGT6YOssgjfC</td>\n      <td>Like A Song</td>\n      <td>spotify:album:2n2VzyRpAty4hkMHBx1nV0</td>\n      <td>200173</td>\n      <td>Lenka</td>\n      <td>0</td>\n    </tr>\n    <tr>\n      <th>334482</th>\n      <td>15</td>\n      <td>Jay Ungar</td>\n      <td>spotify:track:5YUeOSawPzseEvCvi1HbrE</td>\n      <td>spotify:artist:54jNT6jMGDoxMSBzUDEYSB</td>\n      <td>Cows On The Hill</td>\n      <td>spotify:album:38D9S6sriWlYlbUBONInpa</td>\n      <td>225440</td>\n      <td>Waltzing With You (Music From The Film \"Brothe...</td>\n      <td>0</td>\n    </tr>\n    <tr>\n      <th>334483</th>\n      <td>16</td>\n      <td>Solas</td>\n      <td>spotify:track:4aAmDp1AR1Fp1UCpWuvy2d</td>\n      <td>spotify:artist:2CGGUtRYybRjQmuUwXugeP</td>\n      <td>Crested Hens</td>\n      <td>spotify:album:1EL10LDAWFZdencyTUlGqu</td>\n      <td>314186</td>\n      <td>Solas</td>\n      <td>0</td>\n    </tr>\n    <tr>\n      <th>334484</th>\n      <td>17</td>\n      <td>Kim Yoon</td>\n      <td>spotify:track:25JRhSij3kxAJ1li9lPe5k</td>\n      <td>spotify:artist:2wA50FpX5Yc5b4OrhdQVXP</td>\n      <td>Moonlight Waltz</td>\n      <td>spotify:album:6pFFE9TLlHpeQrvOVNiswy</td>\n      <td>226925</td>\n      <td>Dreaming in the Blue Sky</td>\n      <td>0</td>\n    </tr>\n    <tr>\n      <th>334486</th>\n      <td>19</td>\n      <td>The Stage Door Orchestra &amp; Singers</td>\n      <td>spotify:track:23Ktd7FBxHtP4F1llGMjOe</td>\n      <td>spotify:artist:4rqD97trg8OUPyHKFRzA8m</td>\n      <td>And then I Kissed him</td>\n      <td>spotify:album:3FFYR0nzt8D2rx2Roh9GHu</td>\n      <td>336720</td>\n      <td>The Passion of Pearl Harbor &amp; Titanic</td>\n      <td>0</td>\n    </tr>\n  </tbody>\n</table>\n<p>61274 rows × 9 columns</p>\n</div>"
     },
     "execution_count": 7,
     "metadata": {},
     "output_type": "execute_result"
    }
   ],
   "source": [
    "# Search for a particular song \n",
    "print(\"Search for a song name\")\n",
    "s = input()\n",
    "pattern = [s]\n",
    "\n",
    "# filter for rows that contain the partial string inputted by the user\n",
    "results = songs_df.copy()\n",
    "results[songs_df.track_name.str.contains('|'.join(pattern))]"
   ]
  },
  {
   "cell_type": "code",
   "execution_count": null,
   "id": "1c7a8309",
   "metadata": {},
   "outputs": [],
   "source": []
  },
  {
   "cell_type": "code",
   "execution_count": 74,
   "outputs": [
    {
     "name": "stdout",
     "output_type": "stream",
     "text": [
      "Select your first song by copying the track_URI from above (i.e. spotify:track:2wSAWEYUHkt92X4SBAPqZE)\n",
      "not skipped\n",
      "63520\n",
      "not skipped\n",
      "118880\n"
     ]
    },
    {
     "ename": "IndexError",
     "evalue": "single positional indexer is out-of-bounds",
     "output_type": "error",
     "traceback": [
      "\u001B[1;31m---------------------------------------------------------------------------\u001B[0m",
      "\u001B[1;31mIndexError\u001B[0m                                Traceback (most recent call last)",
      "\u001B[1;32m<ipython-input-74-b02789e114e8>\u001B[0m in \u001B[0;36m<module>\u001B[1;34m\u001B[0m\n\u001B[0;32m     81\u001B[0m \u001B[1;33m\u001B[0m\u001B[0m\n\u001B[0;32m     82\u001B[0m \u001B[1;32mwhile\u001B[0m \u001B[0mcontinue_\u001B[0m\u001B[1;33m:\u001B[0m\u001B[1;33m\u001B[0m\u001B[1;33m\u001B[0m\u001B[0m\n\u001B[1;32m---> 83\u001B[1;33m     \u001B[0mcurrent_song_artist\u001B[0m \u001B[1;33m=\u001B[0m \u001B[0msongs_df\u001B[0m\u001B[1;33m.\u001B[0m\u001B[0miloc\u001B[0m\u001B[1;33m[\u001B[0m\u001B[0mcurrent_song_index\u001B[0m\u001B[1;33m]\u001B[0m\u001B[1;33m[\u001B[0m\u001B[1;34m\"artist_name\"\u001B[0m\u001B[1;33m]\u001B[0m\u001B[1;33m\u001B[0m\u001B[1;33m\u001B[0m\u001B[0m\n\u001B[0m\u001B[0;32m     84\u001B[0m     \u001B[0mcurrent_song_name\u001B[0m \u001B[1;33m=\u001B[0m \u001B[0msongs_df\u001B[0m\u001B[1;33m.\u001B[0m\u001B[0miloc\u001B[0m\u001B[1;33m[\u001B[0m\u001B[0mcurrent_song_index\u001B[0m\u001B[1;33m]\u001B[0m\u001B[1;33m[\u001B[0m\u001B[1;34m\"track_name\"\u001B[0m\u001B[1;33m]\u001B[0m\u001B[1;33m\u001B[0m\u001B[1;33m\u001B[0m\u001B[0m\n\u001B[0;32m     85\u001B[0m     \u001B[0ms\u001B[0m \u001B[1;33m=\u001B[0m \u001B[0minput\u001B[0m\u001B[1;33m(\u001B[0m\u001B[0mcurrent_song_artist\u001B[0m \u001B[1;33m+\u001B[0m \u001B[1;34m\"-\"\u001B[0m \u001B[1;33m+\u001B[0m \u001B[0mcurrent_song_name\u001B[0m \u001B[1;33m+\u001B[0m \u001B[1;34m\"\\n\"\u001B[0m \u001B[1;33m+\u001B[0m \u001B[1;34m\"Skip (y) or listen (n) or quit (q)?\"\u001B[0m\u001B[1;33m)\u001B[0m\u001B[1;33m\u001B[0m\u001B[1;33m\u001B[0m\u001B[0m\n",
      "\u001B[1;32m~\\anaconda3\\lib\\site-packages\\pandas\\core\\indexing.py\u001B[0m in \u001B[0;36m__getitem__\u001B[1;34m(self, key)\u001B[0m\n\u001B[0;32m    893\u001B[0m \u001B[1;33m\u001B[0m\u001B[0m\n\u001B[0;32m    894\u001B[0m             \u001B[0mmaybe_callable\u001B[0m \u001B[1;33m=\u001B[0m \u001B[0mcom\u001B[0m\u001B[1;33m.\u001B[0m\u001B[0mapply_if_callable\u001B[0m\u001B[1;33m(\u001B[0m\u001B[0mkey\u001B[0m\u001B[1;33m,\u001B[0m \u001B[0mself\u001B[0m\u001B[1;33m.\u001B[0m\u001B[0mobj\u001B[0m\u001B[1;33m)\u001B[0m\u001B[1;33m\u001B[0m\u001B[1;33m\u001B[0m\u001B[0m\n\u001B[1;32m--> 895\u001B[1;33m             \u001B[1;32mreturn\u001B[0m \u001B[0mself\u001B[0m\u001B[1;33m.\u001B[0m\u001B[0m_getitem_axis\u001B[0m\u001B[1;33m(\u001B[0m\u001B[0mmaybe_callable\u001B[0m\u001B[1;33m,\u001B[0m \u001B[0maxis\u001B[0m\u001B[1;33m=\u001B[0m\u001B[0maxis\u001B[0m\u001B[1;33m)\u001B[0m\u001B[1;33m\u001B[0m\u001B[1;33m\u001B[0m\u001B[0m\n\u001B[0m\u001B[0;32m    896\u001B[0m \u001B[1;33m\u001B[0m\u001B[0m\n\u001B[0;32m    897\u001B[0m     \u001B[1;32mdef\u001B[0m \u001B[0m_is_scalar_access\u001B[0m\u001B[1;33m(\u001B[0m\u001B[0mself\u001B[0m\u001B[1;33m,\u001B[0m \u001B[0mkey\u001B[0m\u001B[1;33m:\u001B[0m \u001B[0mTuple\u001B[0m\u001B[1;33m)\u001B[0m\u001B[1;33m:\u001B[0m\u001B[1;33m\u001B[0m\u001B[1;33m\u001B[0m\u001B[0m\n",
      "\u001B[1;32m~\\anaconda3\\lib\\site-packages\\pandas\\core\\indexing.py\u001B[0m in \u001B[0;36m_getitem_axis\u001B[1;34m(self, key, axis)\u001B[0m\n\u001B[0;32m   1499\u001B[0m \u001B[1;33m\u001B[0m\u001B[0m\n\u001B[0;32m   1500\u001B[0m             \u001B[1;31m# validate the location\u001B[0m\u001B[1;33m\u001B[0m\u001B[1;33m\u001B[0m\u001B[1;33m\u001B[0m\u001B[0m\n\u001B[1;32m-> 1501\u001B[1;33m             \u001B[0mself\u001B[0m\u001B[1;33m.\u001B[0m\u001B[0m_validate_integer\u001B[0m\u001B[1;33m(\u001B[0m\u001B[0mkey\u001B[0m\u001B[1;33m,\u001B[0m \u001B[0maxis\u001B[0m\u001B[1;33m)\u001B[0m\u001B[1;33m\u001B[0m\u001B[1;33m\u001B[0m\u001B[0m\n\u001B[0m\u001B[0;32m   1502\u001B[0m \u001B[1;33m\u001B[0m\u001B[0m\n\u001B[0;32m   1503\u001B[0m             \u001B[1;32mreturn\u001B[0m \u001B[0mself\u001B[0m\u001B[1;33m.\u001B[0m\u001B[0mobj\u001B[0m\u001B[1;33m.\u001B[0m\u001B[0m_ixs\u001B[0m\u001B[1;33m(\u001B[0m\u001B[0mkey\u001B[0m\u001B[1;33m,\u001B[0m \u001B[0maxis\u001B[0m\u001B[1;33m=\u001B[0m\u001B[0maxis\u001B[0m\u001B[1;33m)\u001B[0m\u001B[1;33m\u001B[0m\u001B[1;33m\u001B[0m\u001B[0m\n",
      "\u001B[1;32m~\\anaconda3\\lib\\site-packages\\pandas\\core\\indexing.py\u001B[0m in \u001B[0;36m_validate_integer\u001B[1;34m(self, key, axis)\u001B[0m\n\u001B[0;32m   1442\u001B[0m         \u001B[0mlen_axis\u001B[0m \u001B[1;33m=\u001B[0m \u001B[0mlen\u001B[0m\u001B[1;33m(\u001B[0m\u001B[0mself\u001B[0m\u001B[1;33m.\u001B[0m\u001B[0mobj\u001B[0m\u001B[1;33m.\u001B[0m\u001B[0m_get_axis\u001B[0m\u001B[1;33m(\u001B[0m\u001B[0maxis\u001B[0m\u001B[1;33m)\u001B[0m\u001B[1;33m)\u001B[0m\u001B[1;33m\u001B[0m\u001B[1;33m\u001B[0m\u001B[0m\n\u001B[0;32m   1443\u001B[0m         \u001B[1;32mif\u001B[0m \u001B[0mkey\u001B[0m \u001B[1;33m>=\u001B[0m \u001B[0mlen_axis\u001B[0m \u001B[1;32mor\u001B[0m \u001B[0mkey\u001B[0m \u001B[1;33m<\u001B[0m \u001B[1;33m-\u001B[0m\u001B[0mlen_axis\u001B[0m\u001B[1;33m:\u001B[0m\u001B[1;33m\u001B[0m\u001B[1;33m\u001B[0m\u001B[0m\n\u001B[1;32m-> 1444\u001B[1;33m             \u001B[1;32mraise\u001B[0m \u001B[0mIndexError\u001B[0m\u001B[1;33m(\u001B[0m\u001B[1;34m\"single positional indexer is out-of-bounds\"\u001B[0m\u001B[1;33m)\u001B[0m\u001B[1;33m\u001B[0m\u001B[1;33m\u001B[0m\u001B[0m\n\u001B[0m\u001B[0;32m   1445\u001B[0m \u001B[1;33m\u001B[0m\u001B[0m\n\u001B[0;32m   1446\u001B[0m     \u001B[1;31m# -------------------------------------------------------------------\u001B[0m\u001B[1;33m\u001B[0m\u001B[1;33m\u001B[0m\u001B[1;33m\u001B[0m\u001B[0m\n",
      "\u001B[1;31mIndexError\u001B[0m: single positional indexer is out-of-bounds"
     ]
    }
   ],
   "source": [
    "import max_marg_relevance\n",
    "from sklearn.metrics.pairwise import cosine_similarity\n",
    "from sklearn.metrics.pairwise import laplacian_kernel\n",
    "\n",
    "# Ask the user to enter a track URI for the first song they want to play\n",
    "print(\"Select your first song by copying the track_URI from above (i.e. spotify:track:2wSAWEYUHkt92X4SBAPqZE)\")\n",
    "#s = input()\n",
    "s = \"spotify:track:6bLopGnirdrilrpdVB6Um1\"\n",
    "\n",
    "# Mark this song as \"Played\" with a positive rating (as the user chose it)\n",
    "index = tracks_w_features.index[tracks_w_features['uri'] == s]     # This returns the song with the uri of 's'\n",
    "def getRecommendation(songs_df, tracks_w_features):\n",
    "\n",
    "    liked_songs_nofeatures = songs_df.loc[songs_df['class'] == 1]\n",
    "    liked_songs_uris = liked_songs_nofeatures['track_uri'].to_numpy()\n",
    "\n",
    "    #Now we get uris of the songs the user liked we can get the features from the feature dataframe\n",
    "    liked_song_features = pd.DataFrame()\n",
    "    for i in liked_songs_uris:\n",
    "        song_with_features = tracks_w_features.loc[tracks_w_features['uri'] == i]\n",
    "        liked_songs_features = liked_song_features.append(song_with_features)\n",
    "\n",
    "    liked_song_features = liked_songs_features.drop(columns=['uri'])\n",
    "\n",
    "    average_session_songs = liked_song_features[['acousticness','danceability','energy','instrumentalness','liveness',\n",
    "                                                      'loudness','speechiness','tempo','valence']].mean()\n",
    "\n",
    "\n",
    "    return maximal_marginal_relevance(average_session_songs,tracks_w_features.sample(n=20))\n",
    "\n",
    "def maximal_marginal_relevance(v1,songs, lambda_constant=0.5, threshold_terms=1, sim = True):\n",
    "    \"\"\"\n",
    "    Return ranked phrases using MMR. Cosine similarity is used as similarity measure.\n",
    "    :param v1: query vector\n",
    "    :param songs: matrix having index as songs and values as vector\n",
    "    :param lambda_constant: 0.5 to balance diversity and accuracy. if lambda_constant is high, then higher accuracy. If lambda_constant is low then high diversity.\n",
    "    :param threshold_terms: number of terms to include in result set\n",
    "    :return: Ranked songs with score\n",
    "    \"\"\"\n",
    "\n",
    "    s = []\n",
    "    r = songs['uri'].tolist()\n",
    "    while len(r) > 0:\n",
    "        score = 0\n",
    "        song_to_add = None\n",
    "        for i in r:\n",
    "            row = songs.loc[songs['uri'] == i]\n",
    "            row = row.drop(columns=['uri'])\n",
    "            row = row.to_numpy()\n",
    "            if len(row) < 1:\n",
    "              r.remove(i)\n",
    "              break\n",
    "            if sim:\n",
    "                first_part = cosine_similarity([v1], [row[0]])\n",
    "            else:\n",
    "                first_part = laplacian_kernel([v1], [row[0]])\n",
    "            second_part = 0\n",
    "            for j in s:\n",
    "                row2 = songs.loc[songs['uri'] == j[0]]\n",
    "                row2 = row2.drop(columns=['uri'])\n",
    "                row2 = row2.to_numpy()\n",
    "                if sim:\n",
    "                    sim = cosine_similarity([row[0]],[row2[0]])\n",
    "                else:\n",
    "                    sim = laplacian_kernel([row[0]], [row2[0]])\n",
    "                if sim > second_part:\n",
    "                    second_part = sim\n",
    "            equation_score = lambda_constant*(first_part)-(1-lambda_constant) * second_part\n",
    "            if equation_score > score:\n",
    "                score = equation_score\n",
    "                song_to_add = i\n",
    "        if song_to_add is None:\n",
    "            song_to_add = i\n",
    "        r.remove(song_to_add)\n",
    "        s.append((song_to_add, score))\n",
    "    return s[:threshold_terms][0][0]\n",
    "\n",
    "\n",
    "continue_ = True\n",
    "current_song_index = songs_df.index[songs_df['track_uri'] == s].tolist()[0]\n",
    "\n",
    "while continue_:\n",
    "    current_song_artist = songs_df.iloc[current_song_index][\"artist_name\"]\n",
    "    current_song_name = songs_df.iloc[current_song_index][\"track_name\"]\n",
    "    s = input(current_song_artist + \"-\" + current_song_name + \"\\n\" + \"Skip (y) or listen (n) or quit (q)?\")\n",
    "    if s == \"y\":\n",
    "        print(\"skipped\")\n",
    "        songs_df.at[current_song_index, \"class\"] = -1 # negative rating\n",
    "    elif s == \"n\":\n",
    "        print(\"not skipped\")\n",
    "        songs_df.at[current_song_index, \"class\"] = 1  # positive rating\n",
    "    elif s == \"q\":\n",
    "        continue_ = False\n",
    "    else:\n",
    "        print(\"Invalid input\")\n",
    "    uri = getRecommendation(songs_df,tracks_w_features)\n",
    "    current_song_index = songs_df.index[songs_df['track_uri'] == uri].tolist()[0]\n",
    "    print(current_song_index)"
   ],
   "metadata": {
    "collapsed": false,
    "pycharm": {
     "name": "#%%\n"
    }
   }
  },
  {
   "cell_type": "code",
   "execution_count": null,
   "outputs": [],
   "source": [],
   "metadata": {
    "collapsed": false,
    "pycharm": {
     "name": "#%%\n"
    }
   }
  }
 ],
 "metadata": {
  "kernelspec": {
   "display_name": "Python 3 (ipykernel)",
   "language": "python",
   "name": "python3"
  },
  "language_info": {
   "codemirror_mode": {
    "name": "ipython",
    "version": 3
   },
   "file_extension": ".py",
   "mimetype": "text/x-python",
   "name": "python",
   "nbconvert_exporter": "python",
   "pygments_lexer": "ipython3",
   "version": "3.10.6"
  }
 },
 "nbformat": 4,
 "nbformat_minor": 5
}