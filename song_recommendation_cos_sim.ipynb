{
 "cells": [
  {
   "cell_type": "code",
   "execution_count": 15,
   "metadata": {
    "collapsed": true,
    "pycharm": {
     "name": "#%%\n"
    }
   },
   "outputs": [],
   "source": [
    "#pip install spotipy\n",
    "import spotipy\n",
    "from spotipy.oauth2 import SpotifyClientCredentials as cc\n",
    "import pandas as pd\n",
    "import json\n",
    "import pandas as pd\n",
    "import os\n",
    "from IPython.display import display\n",
    "# d = json.load(open('data/mpd.slice.0-999.json'))\n",
    "import warnings\n",
    "# from playlists extract tracks with corresponding features from spotipy\n",
    "import time\n",
    "import numpy as np\n",
    "import webbrowser\n",
    "from pandas._libs.internals import defaultdict\n",
    "import random\n",
    "from sklearn.metrics.pairwise import cosine_similarity"
   ]
  },
  {
   "cell_type": "code",
   "execution_count": 16,
   "outputs": [
    {
     "name": "stderr",
     "output_type": "stream",
     "text": [
      "C:\\Users\\SiBuX\\AppData\\Local\\Temp\\ipykernel_27008\\470225530.py:11: ResourceWarning: unclosed file <_io.TextIOWrapper name='data\\\\mpd.slice.0-999.json' mode='r' encoding='cp1252'>\n",
      "  d = json.load(open(f))\n",
      "ResourceWarning: Enable tracemalloc to get the object allocation traceback\n",
      "C:\\Users\\SiBuX\\AppData\\Local\\Temp\\ipykernel_27008\\470225530.py:11: ResourceWarning: unclosed file <_io.TextIOWrapper name='data\\\\mpd.slice.1000-1999.json' mode='r' encoding='cp1252'>\n",
      "  d = json.load(open(f))\n",
      "ResourceWarning: Enable tracemalloc to get the object allocation traceback\n",
      "C:\\Users\\SiBuX\\AppData\\Local\\Temp\\ipykernel_27008\\470225530.py:11: ResourceWarning: unclosed file <_io.TextIOWrapper name='data\\\\mpd.slice.10000-10999.json' mode='r' encoding='cp1252'>\n",
      "  d = json.load(open(f))\n",
      "ResourceWarning: Enable tracemalloc to get the object allocation traceback\n",
      "C:\\Users\\SiBuX\\AppData\\Local\\Temp\\ipykernel_27008\\470225530.py:11: ResourceWarning: unclosed file <_io.TextIOWrapper name='data\\\\mpd.slice.100000-100999.json' mode='r' encoding='cp1252'>\n",
      "  d = json.load(open(f))\n",
      "ResourceWarning: Enable tracemalloc to get the object allocation traceback\n",
      "C:\\Users\\SiBuX\\AppData\\Local\\Temp\\ipykernel_27008\\470225530.py:11: ResourceWarning: unclosed file <_io.TextIOWrapper name='data\\\\mpd.slice.101000-101999.json' mode='r' encoding='cp1252'>\n",
      "  d = json.load(open(f))\n",
      "ResourceWarning: Enable tracemalloc to get the object allocation traceback\n"
     ]
    },
    {
     "data": {
      "text/plain": "               name collaborative  pid  modified_at  num_tracks  num_albums  \\\n0        Throwbacks         false    0   1493424000          52          47   \n1  Awesome Playlist         false    1   1506556800          39          23   \n2           korean          false    2   1505692800          64          51   \n3               mat         false    3   1501027200         126         107   \n4               90s         false    4   1401667200          17          16   \n\n   num_followers                                             tracks  \\\n0              1  [{'pos': 0, 'artist_name': 'Missy Elliott', 't...   \n1              1  [{'pos': 0, 'artist_name': 'Survivor', 'track_...   \n2              1  [{'pos': 0, 'artist_name': 'Hoody', 'track_uri...   \n3              1  [{'pos': 0, 'artist_name': 'Camille Saint-Saën...   \n4              2  [{'pos': 0, 'artist_name': 'The Smashing Pumpk...   \n\n   num_edits  duration_ms  num_artists description  \n0          6     11532414           37         NaN  \n1          5     11656470           21         NaN  \n2         18     14039958           31         NaN  \n3          4     28926058           86         NaN  \n4          7      4335282           16         NaN  ",
      "text/html": "<div>\n<style scoped>\n    .dataframe tbody tr th:only-of-type {\n        vertical-align: middle;\n    }\n\n    .dataframe tbody tr th {\n        vertical-align: top;\n    }\n\n    .dataframe thead th {\n        text-align: right;\n    }\n</style>\n<table border=\"1\" class=\"dataframe\">\n  <thead>\n    <tr style=\"text-align: right;\">\n      <th></th>\n      <th>name</th>\n      <th>collaborative</th>\n      <th>pid</th>\n      <th>modified_at</th>\n      <th>num_tracks</th>\n      <th>num_albums</th>\n      <th>num_followers</th>\n      <th>tracks</th>\n      <th>num_edits</th>\n      <th>duration_ms</th>\n      <th>num_artists</th>\n      <th>description</th>\n    </tr>\n  </thead>\n  <tbody>\n    <tr>\n      <th>0</th>\n      <td>Throwbacks</td>\n      <td>false</td>\n      <td>0</td>\n      <td>1493424000</td>\n      <td>52</td>\n      <td>47</td>\n      <td>1</td>\n      <td>[{'pos': 0, 'artist_name': 'Missy Elliott', 't...</td>\n      <td>6</td>\n      <td>11532414</td>\n      <td>37</td>\n      <td>NaN</td>\n    </tr>\n    <tr>\n      <th>1</th>\n      <td>Awesome Playlist</td>\n      <td>false</td>\n      <td>1</td>\n      <td>1506556800</td>\n      <td>39</td>\n      <td>23</td>\n      <td>1</td>\n      <td>[{'pos': 0, 'artist_name': 'Survivor', 'track_...</td>\n      <td>5</td>\n      <td>11656470</td>\n      <td>21</td>\n      <td>NaN</td>\n    </tr>\n    <tr>\n      <th>2</th>\n      <td>korean</td>\n      <td>false</td>\n      <td>2</td>\n      <td>1505692800</td>\n      <td>64</td>\n      <td>51</td>\n      <td>1</td>\n      <td>[{'pos': 0, 'artist_name': 'Hoody', 'track_uri...</td>\n      <td>18</td>\n      <td>14039958</td>\n      <td>31</td>\n      <td>NaN</td>\n    </tr>\n    <tr>\n      <th>3</th>\n      <td>mat</td>\n      <td>false</td>\n      <td>3</td>\n      <td>1501027200</td>\n      <td>126</td>\n      <td>107</td>\n      <td>1</td>\n      <td>[{'pos': 0, 'artist_name': 'Camille Saint-Saën...</td>\n      <td>4</td>\n      <td>28926058</td>\n      <td>86</td>\n      <td>NaN</td>\n    </tr>\n    <tr>\n      <th>4</th>\n      <td>90s</td>\n      <td>false</td>\n      <td>4</td>\n      <td>1401667200</td>\n      <td>17</td>\n      <td>16</td>\n      <td>2</td>\n      <td>[{'pos': 0, 'artist_name': 'The Smashing Pumpk...</td>\n      <td>7</td>\n      <td>4335282</td>\n      <td>16</td>\n      <td>NaN</td>\n    </tr>\n  </tbody>\n</table>\n</div>"
     },
     "metadata": {},
     "output_type": "display_data"
    }
   ],
   "source": [
    "# create list of playlists\n",
    "playlists = []\n",
    "path = 'data'\n",
    "count = 5\n",
    "for filename in os.listdir(path):\n",
    "    count -= 1\n",
    "    if count < 0:\n",
    "        break\n",
    "    f = os.path.join(path, filename)\n",
    "    if os.path.isfile(f):\n",
    "        d = json.load(open(f))\n",
    "        playlists.append(pd.DataFrame(d['playlists']))\n",
    "\n",
    "playlists = pd.concat(playlists)\n",
    "playlists = playlists.reset_index(drop=True)\n",
    "display(playlists.head())"
   ],
   "metadata": {
    "collapsed": false,
    "pycharm": {
     "name": "#%%\n"
    }
   }
  },
  {
   "cell_type": "code",
   "execution_count": 17,
   "metadata": {
    "pycharm": {
     "name": "#%%\n"
    }
   },
   "outputs": [],
   "source": [
    "# api setup\n",
    "client_id = '898dd71dc932407e85921f0ac79f0127'\n",
    "client_secret = '16d994f070064371beb8758f32d64180'\n",
    "#https://developer.spotify.com/dashboard/applications/898dd71dc932407e85921f0ac79f0127\n",
    "client_cc = cc(client_id=client_id,client_secret=client_secret)\n",
    "sp = spotipy.Spotify(client_credentials_manager=client_cc)"
   ]
  },
  {
   "cell_type": "code",
   "execution_count": 18,
   "metadata": {
    "pycharm": {
     "name": "#%%\n"
    }
   },
   "outputs": [
    {
     "name": "stderr",
     "output_type": "stream",
     "text": [
      "C:\\Users\\SiBuX\\AppData\\Local\\Temp\\ipykernel_27008\\1151244345.py:18: FutureWarning: The frame.append method is deprecated and will be removed from pandas in a future version. Use pandas.concat instead.\n",
      "  tracks_w_features = tracks_w_features.append(tracks)\n",
      "C:\\Users\\SiBuX\\AppData\\Local\\Temp\\ipykernel_27008\\1151244345.py:18: FutureWarning: The frame.append method is deprecated and will be removed from pandas in a future version. Use pandas.concat instead.\n",
      "  tracks_w_features = tracks_w_features.append(tracks)\n",
      "C:\\Users\\SiBuX\\AppData\\Local\\Temp\\ipykernel_27008\\1151244345.py:18: FutureWarning: The frame.append method is deprecated and will be removed from pandas in a future version. Use pandas.concat instead.\n",
      "  tracks_w_features = tracks_w_features.append(tracks)\n",
      "C:\\Users\\SiBuX\\AppData\\Local\\Temp\\ipykernel_27008\\1151244345.py:18: FutureWarning: The frame.append method is deprecated and will be removed from pandas in a future version. Use pandas.concat instead.\n",
      "  tracks_w_features = tracks_w_features.append(tracks)\n"
     ]
    },
    {
     "data": {
      "text/plain": "   danceability  energy  key  loudness  mode  speechiness  acousticness  \\\n0         0.904   0.813    4    -7.105     0       0.1210       0.03110   \n1         0.774   0.838    5    -3.914     0       0.1140       0.02490   \n2         0.664   0.758    2    -6.583     0       0.2100       0.00238   \n3         0.892   0.714    4    -6.055     0       0.1410       0.20100   \n4         0.853   0.606    0    -4.596     1       0.0713       0.05610   \n\n   instrumentalness  liveness  valence    tempo            type  \\\n0          0.006970    0.0471    0.810  125.461  audio_features   \n1          0.025000    0.2420    0.924  143.040  audio_features   \n2          0.000000    0.0598    0.701   99.259  audio_features   \n3          0.000234    0.0521    0.817  100.972  audio_features   \n4          0.000000    0.3130    0.654   94.759  audio_features   \n\n                       id                                   uri  \\\n0  0UaMYEvWZi0ZqiDOoHU3YI  spotify:track:0UaMYEvWZi0ZqiDOoHU3YI   \n1  6I9VzXrHxO9rA9A5euc8Ak  spotify:track:6I9VzXrHxO9rA9A5euc8Ak   \n2  0WqIKmW4BTrj3eJFmnCKMv  spotify:track:0WqIKmW4BTrj3eJFmnCKMv   \n3  1AWQoqb9bSvzTjaLralEkT  spotify:track:1AWQoqb9bSvzTjaLralEkT   \n4  1lzr43nnXAijIGYnCT8M8H  spotify:track:1lzr43nnXAijIGYnCT8M8H   \n\n                                          track_href  \\\n0  https://api.spotify.com/v1/tracks/0UaMYEvWZi0Z...   \n1  https://api.spotify.com/v1/tracks/6I9VzXrHxO9r...   \n2  https://api.spotify.com/v1/tracks/0WqIKmW4BTrj...   \n3  https://api.spotify.com/v1/tracks/1AWQoqb9bSvz...   \n4  https://api.spotify.com/v1/tracks/1lzr43nnXAij...   \n\n                                        analysis_url  duration_ms  \\\n0  https://api.spotify.com/v1/audio-analysis/0UaM...       226864   \n1  https://api.spotify.com/v1/audio-analysis/6I9V...       198800   \n2  https://api.spotify.com/v1/audio-analysis/0WqI...       235933   \n3  https://api.spotify.com/v1/audio-analysis/1AWQ...       267267   \n4  https://api.spotify.com/v1/audio-analysis/1lzr...       227600   \n\n   time_signature  \n0               4  \n1               4  \n2               4  \n3               4  \n4               4  ",
      "text/html": "<div>\n<style scoped>\n    .dataframe tbody tr th:only-of-type {\n        vertical-align: middle;\n    }\n\n    .dataframe tbody tr th {\n        vertical-align: top;\n    }\n\n    .dataframe thead th {\n        text-align: right;\n    }\n</style>\n<table border=\"1\" class=\"dataframe\">\n  <thead>\n    <tr style=\"text-align: right;\">\n      <th></th>\n      <th>danceability</th>\n      <th>energy</th>\n      <th>key</th>\n      <th>loudness</th>\n      <th>mode</th>\n      <th>speechiness</th>\n      <th>acousticness</th>\n      <th>instrumentalness</th>\n      <th>liveness</th>\n      <th>valence</th>\n      <th>tempo</th>\n      <th>type</th>\n      <th>id</th>\n      <th>uri</th>\n      <th>track_href</th>\n      <th>analysis_url</th>\n      <th>duration_ms</th>\n      <th>time_signature</th>\n    </tr>\n  </thead>\n  <tbody>\n    <tr>\n      <th>0</th>\n      <td>0.904</td>\n      <td>0.813</td>\n      <td>4</td>\n      <td>-7.105</td>\n      <td>0</td>\n      <td>0.1210</td>\n      <td>0.03110</td>\n      <td>0.006970</td>\n      <td>0.0471</td>\n      <td>0.810</td>\n      <td>125.461</td>\n      <td>audio_features</td>\n      <td>0UaMYEvWZi0ZqiDOoHU3YI</td>\n      <td>spotify:track:0UaMYEvWZi0ZqiDOoHU3YI</td>\n      <td>https://api.spotify.com/v1/tracks/0UaMYEvWZi0Z...</td>\n      <td>https://api.spotify.com/v1/audio-analysis/0UaM...</td>\n      <td>226864</td>\n      <td>4</td>\n    </tr>\n    <tr>\n      <th>1</th>\n      <td>0.774</td>\n      <td>0.838</td>\n      <td>5</td>\n      <td>-3.914</td>\n      <td>0</td>\n      <td>0.1140</td>\n      <td>0.02490</td>\n      <td>0.025000</td>\n      <td>0.2420</td>\n      <td>0.924</td>\n      <td>143.040</td>\n      <td>audio_features</td>\n      <td>6I9VzXrHxO9rA9A5euc8Ak</td>\n      <td>spotify:track:6I9VzXrHxO9rA9A5euc8Ak</td>\n      <td>https://api.spotify.com/v1/tracks/6I9VzXrHxO9r...</td>\n      <td>https://api.spotify.com/v1/audio-analysis/6I9V...</td>\n      <td>198800</td>\n      <td>4</td>\n    </tr>\n    <tr>\n      <th>2</th>\n      <td>0.664</td>\n      <td>0.758</td>\n      <td>2</td>\n      <td>-6.583</td>\n      <td>0</td>\n      <td>0.2100</td>\n      <td>0.00238</td>\n      <td>0.000000</td>\n      <td>0.0598</td>\n      <td>0.701</td>\n      <td>99.259</td>\n      <td>audio_features</td>\n      <td>0WqIKmW4BTrj3eJFmnCKMv</td>\n      <td>spotify:track:0WqIKmW4BTrj3eJFmnCKMv</td>\n      <td>https://api.spotify.com/v1/tracks/0WqIKmW4BTrj...</td>\n      <td>https://api.spotify.com/v1/audio-analysis/0WqI...</td>\n      <td>235933</td>\n      <td>4</td>\n    </tr>\n    <tr>\n      <th>3</th>\n      <td>0.892</td>\n      <td>0.714</td>\n      <td>4</td>\n      <td>-6.055</td>\n      <td>0</td>\n      <td>0.1410</td>\n      <td>0.20100</td>\n      <td>0.000234</td>\n      <td>0.0521</td>\n      <td>0.817</td>\n      <td>100.972</td>\n      <td>audio_features</td>\n      <td>1AWQoqb9bSvzTjaLralEkT</td>\n      <td>spotify:track:1AWQoqb9bSvzTjaLralEkT</td>\n      <td>https://api.spotify.com/v1/tracks/1AWQoqb9bSvz...</td>\n      <td>https://api.spotify.com/v1/audio-analysis/1AWQ...</td>\n      <td>267267</td>\n      <td>4</td>\n    </tr>\n    <tr>\n      <th>4</th>\n      <td>0.853</td>\n      <td>0.606</td>\n      <td>0</td>\n      <td>-4.596</td>\n      <td>1</td>\n      <td>0.0713</td>\n      <td>0.05610</td>\n      <td>0.000000</td>\n      <td>0.3130</td>\n      <td>0.654</td>\n      <td>94.759</td>\n      <td>audio_features</td>\n      <td>1lzr43nnXAijIGYnCT8M8H</td>\n      <td>spotify:track:1lzr43nnXAijIGYnCT8M8H</td>\n      <td>https://api.spotify.com/v1/tracks/1lzr43nnXAij...</td>\n      <td>https://api.spotify.com/v1/audio-analysis/1lzr...</td>\n      <td>227600</td>\n      <td>4</td>\n    </tr>\n  </tbody>\n</table>\n</div>"
     },
     "metadata": {},
     "output_type": "display_data"
    }
   ],
   "source": [
    "# audio feature extraction\n",
    "sleep_min = 1\n",
    "sleep_max = 2\n",
    "start_time = time.time()\n",
    "request_count = 0\n",
    "tracks_w_features = pd.DataFrame()\n",
    "recommendations = pd.DataFrame()\n",
    "playlists_no = 5\n",
    "songs_max = 100\n",
    "\n",
    "for i in range(0,playlists_no):\n",
    "    request_count+=1\n",
    "    if request_count % 53 == 0:\n",
    "        time.sleep(np.random.uniform(sleep_min, sleep_max))\n",
    "    # extract audio features using spotipy api (called sp with credentials)\n",
    "    if len(playlists['tracks'][i]) < songs_max:\n",
    "        tracks = pd.DataFrame(sp.audio_features(pd.DataFrame(playlists['tracks'][i]).reset_index(drop=True).track_uri))\n",
    "        tracks_w_features = tracks_w_features.append(tracks)\n",
    "display(tracks_w_features.head())"
   ]
  },
  {
   "cell_type": "code",
   "execution_count": 19,
   "metadata": {
    "pycharm": {
     "name": "#%%\n"
    }
   },
   "outputs": [
    {
     "data": {
      "text/plain": "danceability        0.90400\nenergy              0.81300\nloudness           -7.10500\nspeechiness         0.12100\nacousticness        0.03110\ninstrumentalness    0.00697\nliveness            0.04710\nvalence             0.81000\nName: 0, dtype: float64"
     },
     "metadata": {},
     "output_type": "display_data"
    }
   ],
   "source": [
    "# remove useless-categorical columns, can use index to get song information later\n",
    "input = tracks_w_features.drop(columns=['time_signature', 'duration_ms','analysis_url','track_href','uri','id','type', 'mode', 'key', 'tempo']).copy()\n",
    "display(input.iloc[0])\n",
    "warnings.filterwarnings(\"ignore\")\n",
    "warnings.filterwarnings(action='once')"
   ]
  },
  {
   "cell_type": "code",
   "execution_count": 20,
   "outputs": [
    {
     "data": {
      "text/plain": "    danceability  energy  key  loudness  mode  speechiness  acousticness  \\\n0          0.904   0.813    4    -7.105     0       0.1210       0.03110   \n1          0.774   0.838    5    -3.914     0       0.1140       0.02490   \n2          0.664   0.758    2    -6.583     0       0.2100       0.00238   \n3          0.892   0.714    4    -6.055     0       0.1410       0.20100   \n4          0.853   0.606    0    -4.596     1       0.0713       0.05610   \n..           ...     ...  ...       ...   ...          ...           ...   \n12         0.577   0.497    1    -9.371     0       0.0235       0.06190   \n13         0.509   0.537    5    -6.834     1       0.0384       0.34700   \n14         0.734   0.580    9    -6.619     0       0.0321       0.23800   \n15         0.863   0.452    6   -10.839     0       0.0678       0.03760   \n16         0.490   0.873    6    -5.861     1       0.0355       0.10700   \n\n    instrumentalness  liveness  valence    tempo            type  \\\n0           0.006970    0.0471    0.810  125.461  audio_features   \n1           0.025000    0.2420    0.924  143.040  audio_features   \n2           0.000000    0.0598    0.701   99.259  audio_features   \n3           0.000234    0.0521    0.817  100.972  audio_features   \n4           0.000000    0.3130    0.654   94.759  audio_features   \n..               ...       ...      ...      ...             ...   \n12          0.000011    0.1100    0.279   99.662  audio_features   \n13          0.000007    0.0805    0.311  170.030  audio_features   \n14          0.000600    0.0298    0.962  119.336  audio_features   \n15          0.021500    0.0532    0.544   99.102  audio_features   \n16          0.000005    0.1180    0.513  103.272  audio_features   \n\n                        id                                   uri  \\\n0   0UaMYEvWZi0ZqiDOoHU3YI  spotify:track:0UaMYEvWZi0ZqiDOoHU3YI   \n1   6I9VzXrHxO9rA9A5euc8Ak  spotify:track:6I9VzXrHxO9rA9A5euc8Ak   \n2   0WqIKmW4BTrj3eJFmnCKMv  spotify:track:0WqIKmW4BTrj3eJFmnCKMv   \n3   1AWQoqb9bSvzTjaLralEkT  spotify:track:1AWQoqb9bSvzTjaLralEkT   \n4   1lzr43nnXAijIGYnCT8M8H  spotify:track:1lzr43nnXAijIGYnCT8M8H   \n..                     ...                                   ...   \n12  3rfDfPjgHDQ1BUaSHr9xoI  spotify:track:3rfDfPjgHDQ1BUaSHr9xoI   \n13  6si71supnBUhddjR2FJc2L  spotify:track:6si71supnBUhddjR2FJc2L   \n14  3XEtw7t4V5sfd2vtkp0ql7  spotify:track:3XEtw7t4V5sfd2vtkp0ql7   \n15  6HS5QOvhd4w3XqJMDaEWcv  spotify:track:6HS5QOvhd4w3XqJMDaEWcv   \n16  1OFKUn2VLafrHj7ybnap0Q  spotify:track:1OFKUn2VLafrHj7ybnap0Q   \n\n                                           track_href  \\\n0   https://api.spotify.com/v1/tracks/0UaMYEvWZi0Z...   \n1   https://api.spotify.com/v1/tracks/6I9VzXrHxO9r...   \n2   https://api.spotify.com/v1/tracks/0WqIKmW4BTrj...   \n3   https://api.spotify.com/v1/tracks/1AWQoqb9bSvz...   \n4   https://api.spotify.com/v1/tracks/1lzr43nnXAij...   \n..                                                ...   \n12  https://api.spotify.com/v1/tracks/3rfDfPjgHDQ1...   \n13  https://api.spotify.com/v1/tracks/6si71supnBUh...   \n14  https://api.spotify.com/v1/tracks/3XEtw7t4V5sf...   \n15  https://api.spotify.com/v1/tracks/6HS5QOvhd4w3...   \n16  https://api.spotify.com/v1/tracks/1OFKUn2VLafr...   \n\n                                         analysis_url  duration_ms  \\\n0   https://api.spotify.com/v1/audio-analysis/0UaM...       226864   \n1   https://api.spotify.com/v1/audio-analysis/6I9V...       198800   \n2   https://api.spotify.com/v1/audio-analysis/0WqI...       235933   \n3   https://api.spotify.com/v1/audio-analysis/1AWQ...       267267   \n4   https://api.spotify.com/v1/audio-analysis/1lzr...       227600   \n..                                                ...          ...   \n12  https://api.spotify.com/v1/audio-analysis/3rfD...       269467   \n13  https://api.spotify.com/v1/audio-analysis/6si7...       240040   \n14  https://api.spotify.com/v1/audio-analysis/3XEt...       258693   \n15  https://api.spotify.com/v1/audio-analysis/6HS5...       227867   \n16  https://api.spotify.com/v1/audio-analysis/1OFK...       229587   \n\n    time_signature  \n0                4  \n1                4  \n2                4  \n3                4  \n4                4  \n..             ...  \n12               4  \n13               4  \n14               4  \n15               4  \n16               4  \n\n[172 rows x 18 columns]",
      "text/html": "<div>\n<style scoped>\n    .dataframe tbody tr th:only-of-type {\n        vertical-align: middle;\n    }\n\n    .dataframe tbody tr th {\n        vertical-align: top;\n    }\n\n    .dataframe thead th {\n        text-align: right;\n    }\n</style>\n<table border=\"1\" class=\"dataframe\">\n  <thead>\n    <tr style=\"text-align: right;\">\n      <th></th>\n      <th>danceability</th>\n      <th>energy</th>\n      <th>key</th>\n      <th>loudness</th>\n      <th>mode</th>\n      <th>speechiness</th>\n      <th>acousticness</th>\n      <th>instrumentalness</th>\n      <th>liveness</th>\n      <th>valence</th>\n      <th>tempo</th>\n      <th>type</th>\n      <th>id</th>\n      <th>uri</th>\n      <th>track_href</th>\n      <th>analysis_url</th>\n      <th>duration_ms</th>\n      <th>time_signature</th>\n    </tr>\n  </thead>\n  <tbody>\n    <tr>\n      <th>0</th>\n      <td>0.904</td>\n      <td>0.813</td>\n      <td>4</td>\n      <td>-7.105</td>\n      <td>0</td>\n      <td>0.1210</td>\n      <td>0.03110</td>\n      <td>0.006970</td>\n      <td>0.0471</td>\n      <td>0.810</td>\n      <td>125.461</td>\n      <td>audio_features</td>\n      <td>0UaMYEvWZi0ZqiDOoHU3YI</td>\n      <td>spotify:track:0UaMYEvWZi0ZqiDOoHU3YI</td>\n      <td>https://api.spotify.com/v1/tracks/0UaMYEvWZi0Z...</td>\n      <td>https://api.spotify.com/v1/audio-analysis/0UaM...</td>\n      <td>226864</td>\n      <td>4</td>\n    </tr>\n    <tr>\n      <th>1</th>\n      <td>0.774</td>\n      <td>0.838</td>\n      <td>5</td>\n      <td>-3.914</td>\n      <td>0</td>\n      <td>0.1140</td>\n      <td>0.02490</td>\n      <td>0.025000</td>\n      <td>0.2420</td>\n      <td>0.924</td>\n      <td>143.040</td>\n      <td>audio_features</td>\n      <td>6I9VzXrHxO9rA9A5euc8Ak</td>\n      <td>spotify:track:6I9VzXrHxO9rA9A5euc8Ak</td>\n      <td>https://api.spotify.com/v1/tracks/6I9VzXrHxO9r...</td>\n      <td>https://api.spotify.com/v1/audio-analysis/6I9V...</td>\n      <td>198800</td>\n      <td>4</td>\n    </tr>\n    <tr>\n      <th>2</th>\n      <td>0.664</td>\n      <td>0.758</td>\n      <td>2</td>\n      <td>-6.583</td>\n      <td>0</td>\n      <td>0.2100</td>\n      <td>0.00238</td>\n      <td>0.000000</td>\n      <td>0.0598</td>\n      <td>0.701</td>\n      <td>99.259</td>\n      <td>audio_features</td>\n      <td>0WqIKmW4BTrj3eJFmnCKMv</td>\n      <td>spotify:track:0WqIKmW4BTrj3eJFmnCKMv</td>\n      <td>https://api.spotify.com/v1/tracks/0WqIKmW4BTrj...</td>\n      <td>https://api.spotify.com/v1/audio-analysis/0WqI...</td>\n      <td>235933</td>\n      <td>4</td>\n    </tr>\n    <tr>\n      <th>3</th>\n      <td>0.892</td>\n      <td>0.714</td>\n      <td>4</td>\n      <td>-6.055</td>\n      <td>0</td>\n      <td>0.1410</td>\n      <td>0.20100</td>\n      <td>0.000234</td>\n      <td>0.0521</td>\n      <td>0.817</td>\n      <td>100.972</td>\n      <td>audio_features</td>\n      <td>1AWQoqb9bSvzTjaLralEkT</td>\n      <td>spotify:track:1AWQoqb9bSvzTjaLralEkT</td>\n      <td>https://api.spotify.com/v1/tracks/1AWQoqb9bSvz...</td>\n      <td>https://api.spotify.com/v1/audio-analysis/1AWQ...</td>\n      <td>267267</td>\n      <td>4</td>\n    </tr>\n    <tr>\n      <th>4</th>\n      <td>0.853</td>\n      <td>0.606</td>\n      <td>0</td>\n      <td>-4.596</td>\n      <td>1</td>\n      <td>0.0713</td>\n      <td>0.05610</td>\n      <td>0.000000</td>\n      <td>0.3130</td>\n      <td>0.654</td>\n      <td>94.759</td>\n      <td>audio_features</td>\n      <td>1lzr43nnXAijIGYnCT8M8H</td>\n      <td>spotify:track:1lzr43nnXAijIGYnCT8M8H</td>\n      <td>https://api.spotify.com/v1/tracks/1lzr43nnXAij...</td>\n      <td>https://api.spotify.com/v1/audio-analysis/1lzr...</td>\n      <td>227600</td>\n      <td>4</td>\n    </tr>\n    <tr>\n      <th>...</th>\n      <td>...</td>\n      <td>...</td>\n      <td>...</td>\n      <td>...</td>\n      <td>...</td>\n      <td>...</td>\n      <td>...</td>\n      <td>...</td>\n      <td>...</td>\n      <td>...</td>\n      <td>...</td>\n      <td>...</td>\n      <td>...</td>\n      <td>...</td>\n      <td>...</td>\n      <td>...</td>\n      <td>...</td>\n      <td>...</td>\n    </tr>\n    <tr>\n      <th>12</th>\n      <td>0.577</td>\n      <td>0.497</td>\n      <td>1</td>\n      <td>-9.371</td>\n      <td>0</td>\n      <td>0.0235</td>\n      <td>0.06190</td>\n      <td>0.000011</td>\n      <td>0.1100</td>\n      <td>0.279</td>\n      <td>99.662</td>\n      <td>audio_features</td>\n      <td>3rfDfPjgHDQ1BUaSHr9xoI</td>\n      <td>spotify:track:3rfDfPjgHDQ1BUaSHr9xoI</td>\n      <td>https://api.spotify.com/v1/tracks/3rfDfPjgHDQ1...</td>\n      <td>https://api.spotify.com/v1/audio-analysis/3rfD...</td>\n      <td>269467</td>\n      <td>4</td>\n    </tr>\n    <tr>\n      <th>13</th>\n      <td>0.509</td>\n      <td>0.537</td>\n      <td>5</td>\n      <td>-6.834</td>\n      <td>1</td>\n      <td>0.0384</td>\n      <td>0.34700</td>\n      <td>0.000007</td>\n      <td>0.0805</td>\n      <td>0.311</td>\n      <td>170.030</td>\n      <td>audio_features</td>\n      <td>6si71supnBUhddjR2FJc2L</td>\n      <td>spotify:track:6si71supnBUhddjR2FJc2L</td>\n      <td>https://api.spotify.com/v1/tracks/6si71supnBUh...</td>\n      <td>https://api.spotify.com/v1/audio-analysis/6si7...</td>\n      <td>240040</td>\n      <td>4</td>\n    </tr>\n    <tr>\n      <th>14</th>\n      <td>0.734</td>\n      <td>0.580</td>\n      <td>9</td>\n      <td>-6.619</td>\n      <td>0</td>\n      <td>0.0321</td>\n      <td>0.23800</td>\n      <td>0.000600</td>\n      <td>0.0298</td>\n      <td>0.962</td>\n      <td>119.336</td>\n      <td>audio_features</td>\n      <td>3XEtw7t4V5sfd2vtkp0ql7</td>\n      <td>spotify:track:3XEtw7t4V5sfd2vtkp0ql7</td>\n      <td>https://api.spotify.com/v1/tracks/3XEtw7t4V5sf...</td>\n      <td>https://api.spotify.com/v1/audio-analysis/3XEt...</td>\n      <td>258693</td>\n      <td>4</td>\n    </tr>\n    <tr>\n      <th>15</th>\n      <td>0.863</td>\n      <td>0.452</td>\n      <td>6</td>\n      <td>-10.839</td>\n      <td>0</td>\n      <td>0.0678</td>\n      <td>0.03760</td>\n      <td>0.021500</td>\n      <td>0.0532</td>\n      <td>0.544</td>\n      <td>99.102</td>\n      <td>audio_features</td>\n      <td>6HS5QOvhd4w3XqJMDaEWcv</td>\n      <td>spotify:track:6HS5QOvhd4w3XqJMDaEWcv</td>\n      <td>https://api.spotify.com/v1/tracks/6HS5QOvhd4w3...</td>\n      <td>https://api.spotify.com/v1/audio-analysis/6HS5...</td>\n      <td>227867</td>\n      <td>4</td>\n    </tr>\n    <tr>\n      <th>16</th>\n      <td>0.490</td>\n      <td>0.873</td>\n      <td>6</td>\n      <td>-5.861</td>\n      <td>1</td>\n      <td>0.0355</td>\n      <td>0.10700</td>\n      <td>0.000005</td>\n      <td>0.1180</td>\n      <td>0.513</td>\n      <td>103.272</td>\n      <td>audio_features</td>\n      <td>1OFKUn2VLafrHj7ybnap0Q</td>\n      <td>spotify:track:1OFKUn2VLafrHj7ybnap0Q</td>\n      <td>https://api.spotify.com/v1/tracks/1OFKUn2VLafr...</td>\n      <td>https://api.spotify.com/v1/audio-analysis/1OFK...</td>\n      <td>229587</td>\n      <td>4</td>\n    </tr>\n  </tbody>\n</table>\n<p>172 rows × 18 columns</p>\n</div>"
     },
     "metadata": {},
     "output_type": "display_data"
    }
   ],
   "source": [
    "# remove duplicates\n",
    "tracks_w_features.drop_duplicates()\n",
    "display(tracks_w_features)"
   ],
   "metadata": {
    "collapsed": false,
    "pycharm": {
     "name": "#%%\n"
    }
   }
  },
  {
   "cell_type": "code",
   "execution_count": 21,
   "outputs": [],
   "source": [
    "# cos similarity\n",
    "df = pd.DataFrame(cosine_similarity(input, dense_output=True))"
   ],
   "metadata": {
    "collapsed": false,
    "pycharm": {
     "name": "#%%\n"
    }
   }
  },
  {
   "cell_type": "code",
   "execution_count": 22,
   "metadata": {
    "pycharm": {
     "name": "#%%\n"
    }
   },
   "outputs": [],
   "source": [
    "# feature space creation\n",
    "\n",
    "# 3 by input size matrix\n",
    "# columns as follows:\n",
    "# song a, song b, songs a similarity with b\n",
    "# song a, song c, song a similarity with c\n",
    "# song a, song d, song a similarity with d\n",
    "feature_space = []\n",
    "for i,j in enumerate(df.values):\n",
    "    for p in range(len(j)):\n",
    "        feature_space.append([i,p,j[p]])"
   ]
  },
  {
   "cell_type": "code",
   "execution_count": 23,
   "outputs": [
    {
     "data": {
      "text/plain": "[[0, 0, 0],\n [0, 1, 0.985990401450441],\n [0, 2, 0.999525826013183],\n [0, 3, 0.9991953986710053],\n [0, 4, 0.9961907611354008]]"
     },
     "metadata": {},
     "output_type": "display_data"
    },
    {
     "data": {
      "text/plain": "[[171, 167, 0.993633293897211],\n [171, 168, 0.9961925527861686],\n [171, 169, 0.9959611187117934],\n [171, 170, 0.9935600212772345],\n [171, 171, 0]]"
     },
     "metadata": {},
     "output_type": "display_data"
    }
   ],
   "source": [
    "# remove 1's in diagonals of cos sim matrix\n",
    "feature_space_refined = []\n",
    "for i in range(len(feature_space)):\n",
    "    if feature_space[i][0]==feature_space[i][1]:\n",
    "        feature_space_refined.append([feature_space[i][0],feature_space[i][1],0])\n",
    "    else:\n",
    "        feature_space_refined.append(feature_space[i])\n",
    "display(feature_space_refined[0:5])\n",
    "display(feature_space_refined[len(feature_space_refined)-5:len(feature_space_refined)])"
   ],
   "metadata": {
    "collapsed": false,
    "pycharm": {
     "name": "#%%\n"
    }
   }
  },
  {
   "cell_type": "code",
   "execution_count": 24,
   "metadata": {
    "pycharm": {
     "name": "#%%\n"
    }
   },
   "outputs": [
    {
     "data": {
      "text/plain": "          0         1         2         3         4         5         6    \\\n0    0.000000  0.985990  0.999526  0.999195  0.996191  0.996751  0.996798   \n1    0.985990  0.000000  0.983436  0.989170  0.993267  0.992748  0.971727   \n2    0.999526  0.983436  0.000000  0.998071  0.994211  0.995019  0.997524   \n3    0.999195  0.989170  0.998071  0.000000  0.997353  0.997572  0.995074   \n4    0.996191  0.993267  0.994211  0.997353  0.000000  0.997364  0.988980   \n..        ...       ...       ...       ...       ...       ...       ...   \n167  0.992624  0.960024  0.994126  0.988746  0.982494  0.981417  0.998068   \n168  0.994704  0.967053  0.995663  0.992705  0.986413  0.985765  0.998940   \n169  0.998505  0.984379  0.997894  0.998724  0.994345  0.993130  0.997288   \n170  0.994398  0.963842  0.995334  0.991152  0.985171  0.983926  0.998899   \n171  0.997939  0.982054  0.998597  0.996252  0.992550  0.993509  0.996092   \n\n          7         8         9    ...       162       163       164  \\\n0    0.994150  0.988217  0.917779  ...  0.995260  0.997120  0.982241   \n1    0.987949  0.997058  0.969643  ...  0.970347  0.973534  0.940973   \n2    0.994453  0.985394  0.911937  ...  0.995565  0.997437  0.984478   \n3    0.994549  0.992771  0.926988  ...  0.994227  0.994641  0.978786   \n4    0.994669  0.994219  0.937339  ...  0.988798  0.990794  0.969157   \n..        ...       ...       ...  ...       ...       ...       ...   \n167  0.983944  0.965231  0.865235  ...  0.996910  0.997483  0.996408   \n168  0.989155  0.974369  0.881001  ...  0.999577  0.998281  0.995517   \n169  0.990618  0.988373  0.915846  ...  0.994955  0.994226  0.983964   \n170  0.984191  0.968756  0.871371  ...  0.996912  0.997447  0.995288   \n171  0.995711  0.984722  0.912647  ...  0.996152  0.997739  0.984368   \n\n          165       166       167       168       169       170       171  \n0    0.994231  0.997556  0.992624  0.994704  0.998505  0.994398  0.997939  \n1    0.979820  0.973811  0.960024  0.967053  0.984379  0.963842  0.982054  \n2    0.995711  0.998479  0.994126  0.995663  0.997894  0.995334  0.998597  \n3    0.991828  0.994764  0.988746  0.992705  0.998724  0.991152  0.996252  \n4    0.990848  0.989933  0.982494  0.986413  0.994345  0.985171  0.992550  \n..        ...       ...       ...       ...       ...       ...       ...  \n167  0.991698  0.998371  0.000000  0.998514  0.991409  0.999533  0.993633  \n168  0.993468  0.998435  0.998514  0.000000  0.994422  0.998180  0.996193  \n169  0.991870  0.996180  0.991409  0.994422  0.000000  0.993689  0.995961  \n170  0.990761  0.998593  0.999533  0.998180  0.993689  0.000000  0.993560  \n171  0.998036  0.998058  0.993633  0.996193  0.995961  0.993560  0.000000  \n\n[172 rows x 172 columns]",
      "text/html": "<div>\n<style scoped>\n    .dataframe tbody tr th:only-of-type {\n        vertical-align: middle;\n    }\n\n    .dataframe tbody tr th {\n        vertical-align: top;\n    }\n\n    .dataframe thead th {\n        text-align: right;\n    }\n</style>\n<table border=\"1\" class=\"dataframe\">\n  <thead>\n    <tr style=\"text-align: right;\">\n      <th></th>\n      <th>0</th>\n      <th>1</th>\n      <th>2</th>\n      <th>3</th>\n      <th>4</th>\n      <th>5</th>\n      <th>6</th>\n      <th>7</th>\n      <th>8</th>\n      <th>9</th>\n      <th>...</th>\n      <th>162</th>\n      <th>163</th>\n      <th>164</th>\n      <th>165</th>\n      <th>166</th>\n      <th>167</th>\n      <th>168</th>\n      <th>169</th>\n      <th>170</th>\n      <th>171</th>\n    </tr>\n  </thead>\n  <tbody>\n    <tr>\n      <th>0</th>\n      <td>0.000000</td>\n      <td>0.985990</td>\n      <td>0.999526</td>\n      <td>0.999195</td>\n      <td>0.996191</td>\n      <td>0.996751</td>\n      <td>0.996798</td>\n      <td>0.994150</td>\n      <td>0.988217</td>\n      <td>0.917779</td>\n      <td>...</td>\n      <td>0.995260</td>\n      <td>0.997120</td>\n      <td>0.982241</td>\n      <td>0.994231</td>\n      <td>0.997556</td>\n      <td>0.992624</td>\n      <td>0.994704</td>\n      <td>0.998505</td>\n      <td>0.994398</td>\n      <td>0.997939</td>\n    </tr>\n    <tr>\n      <th>1</th>\n      <td>0.985990</td>\n      <td>0.000000</td>\n      <td>0.983436</td>\n      <td>0.989170</td>\n      <td>0.993267</td>\n      <td>0.992748</td>\n      <td>0.971727</td>\n      <td>0.987949</td>\n      <td>0.997058</td>\n      <td>0.969643</td>\n      <td>...</td>\n      <td>0.970347</td>\n      <td>0.973534</td>\n      <td>0.940973</td>\n      <td>0.979820</td>\n      <td>0.973811</td>\n      <td>0.960024</td>\n      <td>0.967053</td>\n      <td>0.984379</td>\n      <td>0.963842</td>\n      <td>0.982054</td>\n    </tr>\n    <tr>\n      <th>2</th>\n      <td>0.999526</td>\n      <td>0.983436</td>\n      <td>0.000000</td>\n      <td>0.998071</td>\n      <td>0.994211</td>\n      <td>0.995019</td>\n      <td>0.997524</td>\n      <td>0.994453</td>\n      <td>0.985394</td>\n      <td>0.911937</td>\n      <td>...</td>\n      <td>0.995565</td>\n      <td>0.997437</td>\n      <td>0.984478</td>\n      <td>0.995711</td>\n      <td>0.998479</td>\n      <td>0.994126</td>\n      <td>0.995663</td>\n      <td>0.997894</td>\n      <td>0.995334</td>\n      <td>0.998597</td>\n    </tr>\n    <tr>\n      <th>3</th>\n      <td>0.999195</td>\n      <td>0.989170</td>\n      <td>0.998071</td>\n      <td>0.000000</td>\n      <td>0.997353</td>\n      <td>0.997572</td>\n      <td>0.995074</td>\n      <td>0.994549</td>\n      <td>0.992771</td>\n      <td>0.926988</td>\n      <td>...</td>\n      <td>0.994227</td>\n      <td>0.994641</td>\n      <td>0.978786</td>\n      <td>0.991828</td>\n      <td>0.994764</td>\n      <td>0.988746</td>\n      <td>0.992705</td>\n      <td>0.998724</td>\n      <td>0.991152</td>\n      <td>0.996252</td>\n    </tr>\n    <tr>\n      <th>4</th>\n      <td>0.996191</td>\n      <td>0.993267</td>\n      <td>0.994211</td>\n      <td>0.997353</td>\n      <td>0.000000</td>\n      <td>0.997364</td>\n      <td>0.988980</td>\n      <td>0.994669</td>\n      <td>0.994219</td>\n      <td>0.937339</td>\n      <td>...</td>\n      <td>0.988798</td>\n      <td>0.990794</td>\n      <td>0.969157</td>\n      <td>0.990848</td>\n      <td>0.989933</td>\n      <td>0.982494</td>\n      <td>0.986413</td>\n      <td>0.994345</td>\n      <td>0.985171</td>\n      <td>0.992550</td>\n    </tr>\n    <tr>\n      <th>...</th>\n      <td>...</td>\n      <td>...</td>\n      <td>...</td>\n      <td>...</td>\n      <td>...</td>\n      <td>...</td>\n      <td>...</td>\n      <td>...</td>\n      <td>...</td>\n      <td>...</td>\n      <td>...</td>\n      <td>...</td>\n      <td>...</td>\n      <td>...</td>\n      <td>...</td>\n      <td>...</td>\n      <td>...</td>\n      <td>...</td>\n      <td>...</td>\n      <td>...</td>\n      <td>...</td>\n    </tr>\n    <tr>\n      <th>167</th>\n      <td>0.992624</td>\n      <td>0.960024</td>\n      <td>0.994126</td>\n      <td>0.988746</td>\n      <td>0.982494</td>\n      <td>0.981417</td>\n      <td>0.998068</td>\n      <td>0.983944</td>\n      <td>0.965231</td>\n      <td>0.865235</td>\n      <td>...</td>\n      <td>0.996910</td>\n      <td>0.997483</td>\n      <td>0.996408</td>\n      <td>0.991698</td>\n      <td>0.998371</td>\n      <td>0.000000</td>\n      <td>0.998514</td>\n      <td>0.991409</td>\n      <td>0.999533</td>\n      <td>0.993633</td>\n    </tr>\n    <tr>\n      <th>168</th>\n      <td>0.994704</td>\n      <td>0.967053</td>\n      <td>0.995663</td>\n      <td>0.992705</td>\n      <td>0.986413</td>\n      <td>0.985765</td>\n      <td>0.998940</td>\n      <td>0.989155</td>\n      <td>0.974369</td>\n      <td>0.881001</td>\n      <td>...</td>\n      <td>0.999577</td>\n      <td>0.998281</td>\n      <td>0.995517</td>\n      <td>0.993468</td>\n      <td>0.998435</td>\n      <td>0.998514</td>\n      <td>0.000000</td>\n      <td>0.994422</td>\n      <td>0.998180</td>\n      <td>0.996193</td>\n    </tr>\n    <tr>\n      <th>169</th>\n      <td>0.998505</td>\n      <td>0.984379</td>\n      <td>0.997894</td>\n      <td>0.998724</td>\n      <td>0.994345</td>\n      <td>0.993130</td>\n      <td>0.997288</td>\n      <td>0.990618</td>\n      <td>0.988373</td>\n      <td>0.915846</td>\n      <td>...</td>\n      <td>0.994955</td>\n      <td>0.994226</td>\n      <td>0.983964</td>\n      <td>0.991870</td>\n      <td>0.996180</td>\n      <td>0.991409</td>\n      <td>0.994422</td>\n      <td>0.000000</td>\n      <td>0.993689</td>\n      <td>0.995961</td>\n    </tr>\n    <tr>\n      <th>170</th>\n      <td>0.994398</td>\n      <td>0.963842</td>\n      <td>0.995334</td>\n      <td>0.991152</td>\n      <td>0.985171</td>\n      <td>0.983926</td>\n      <td>0.998899</td>\n      <td>0.984191</td>\n      <td>0.968756</td>\n      <td>0.871371</td>\n      <td>...</td>\n      <td>0.996912</td>\n      <td>0.997447</td>\n      <td>0.995288</td>\n      <td>0.990761</td>\n      <td>0.998593</td>\n      <td>0.999533</td>\n      <td>0.998180</td>\n      <td>0.993689</td>\n      <td>0.000000</td>\n      <td>0.993560</td>\n    </tr>\n    <tr>\n      <th>171</th>\n      <td>0.997939</td>\n      <td>0.982054</td>\n      <td>0.998597</td>\n      <td>0.996252</td>\n      <td>0.992550</td>\n      <td>0.993509</td>\n      <td>0.996092</td>\n      <td>0.995711</td>\n      <td>0.984722</td>\n      <td>0.912647</td>\n      <td>...</td>\n      <td>0.996152</td>\n      <td>0.997739</td>\n      <td>0.984368</td>\n      <td>0.998036</td>\n      <td>0.998058</td>\n      <td>0.993633</td>\n      <td>0.996193</td>\n      <td>0.995961</td>\n      <td>0.993560</td>\n      <td>0.000000</td>\n    </tr>\n  </tbody>\n</table>\n<p>172 rows × 172 columns</p>\n</div>"
     },
     "metadata": {},
     "output_type": "display_data"
    },
    {
     "data": {
      "text/plain": "   Parsed Song  Similar Song  Similarity Value\n0            2             0          0.999526\n1          140             1          0.999529\n2            0             2          0.999526\n3           15           135          0.999642\n4          135            20          0.998580",
      "text/html": "<div>\n<style scoped>\n    .dataframe tbody tr th:only-of-type {\n        vertical-align: middle;\n    }\n\n    .dataframe tbody tr th {\n        vertical-align: top;\n    }\n\n    .dataframe thead th {\n        text-align: right;\n    }\n</style>\n<table border=\"1\" class=\"dataframe\">\n  <thead>\n    <tr style=\"text-align: right;\">\n      <th></th>\n      <th>Parsed Song</th>\n      <th>Similar Song</th>\n      <th>Similarity Value</th>\n    </tr>\n  </thead>\n  <tbody>\n    <tr>\n      <th>0</th>\n      <td>2</td>\n      <td>0</td>\n      <td>0.999526</td>\n    </tr>\n    <tr>\n      <th>1</th>\n      <td>140</td>\n      <td>1</td>\n      <td>0.999529</td>\n    </tr>\n    <tr>\n      <th>2</th>\n      <td>0</td>\n      <td>2</td>\n      <td>0.999526</td>\n    </tr>\n    <tr>\n      <th>3</th>\n      <td>15</td>\n      <td>135</td>\n      <td>0.999642</td>\n    </tr>\n    <tr>\n      <th>4</th>\n      <td>135</td>\n      <td>20</td>\n      <td>0.998580</td>\n    </tr>\n  </tbody>\n</table>\n</div>"
     },
     "metadata": {},
     "output_type": "display_data"
    },
    {
     "data": {
      "text/plain": "     Parsed Song  Similar Song  Similarity Value\n167           89            66          0.999784\n168           70           168          0.999772\n169          158            68          0.998942\n170          167            89          0.999533\n171           84            87          0.999447",
      "text/html": "<div>\n<style scoped>\n    .dataframe tbody tr th:only-of-type {\n        vertical-align: middle;\n    }\n\n    .dataframe tbody tr th {\n        vertical-align: top;\n    }\n\n    .dataframe thead th {\n        text-align: right;\n    }\n</style>\n<table border=\"1\" class=\"dataframe\">\n  <thead>\n    <tr style=\"text-align: right;\">\n      <th></th>\n      <th>Parsed Song</th>\n      <th>Similar Song</th>\n      <th>Similarity Value</th>\n    </tr>\n  </thead>\n  <tbody>\n    <tr>\n      <th>167</th>\n      <td>89</td>\n      <td>66</td>\n      <td>0.999784</td>\n    </tr>\n    <tr>\n      <th>168</th>\n      <td>70</td>\n      <td>168</td>\n      <td>0.999772</td>\n    </tr>\n    <tr>\n      <th>169</th>\n      <td>158</td>\n      <td>68</td>\n      <td>0.998942</td>\n    </tr>\n    <tr>\n      <th>170</th>\n      <td>167</td>\n      <td>89</td>\n      <td>0.999533</td>\n    </tr>\n    <tr>\n      <th>171</th>\n      <td>84</td>\n      <td>87</td>\n      <td>0.999447</td>\n    </tr>\n  </tbody>\n</table>\n</div>"
     },
     "metadata": {},
     "output_type": "display_data"
    }
   ],
   "source": [
    "# add most similar songs\n",
    "dict = defaultdict(list)\n",
    "for i in range(len(feature_space_refined)):\n",
    "    dict[feature_space_refined[i][0]].append(feature_space_refined[i][2])\n",
    "df_updated = pd.DataFrame(dict)\n",
    "display(df_updated)\n",
    "\n",
    "# find max similarity and sort using argmax\n",
    "sorted = []\n",
    "for i in range(len(df_updated)):\n",
    "    sorted.append(np.argmax(df_updated[i]))\n",
    "#display(sorted)\n",
    "\n",
    "# get the highest similarity of index position\n",
    "sorted_updated = []\n",
    "for i in sorted:\n",
    "    sorted_updated.append(sorted[i])\n",
    "\n",
    "similar_songs = pd.DataFrame (sorted_updated, columns=['Similar Song'])\n",
    "\n",
    "similarity_value = pd.DataFrame(round(df_updated.max(axis=1),12), columns=['Similarity Value'])\n",
    "\n",
    "parsed_songs = pd.DataFrame(sorted, columns=['Parsed Song'])\n",
    "\n",
    "cs_df = pd.concat([parsed_songs,similar_songs,similarity_value],axis=1)\n",
    "\n",
    "display(cs_df.head(5))\n",
    "display(cs_df.tail(5))"
   ]
  },
  {
   "cell_type": "code",
   "execution_count": 25,
   "metadata": {
    "pycharm": {
     "name": "#%%\n"
    }
   },
   "outputs": [
    {
     "name": "stdout",
     "output_type": "stream",
     "text": [
      "first comparison song index 86\n"
     ]
    },
    {
     "data": {
      "text/plain": "                                                            Track 0  \\\ndanceability                                                  0.277   \nenergy                                                         0.67   \nkey                                                               6   \nloudness                                                     -9.381   \nmode                                                              1   \nspeechiness                                                  0.0376   \nacousticness                                               0.000063   \ninstrumentalness                                              0.751   \nliveness                                                      0.237   \nvalence                                                       0.217   \ntempo                                                       148.342   \ntype                                                 audio_features   \nid                                           4iCGSi1RonREsPtfEKYj5b   \nuri                            spotify:track:4iCGSi1RonREsPtfEKYj5b   \ntrack_href        https://api.spotify.com/v1/tracks/4iCGSi1RonRE...   \nanalysis_url      https://api.spotify.com/v1/audio-analysis/4iCG...   \nduration_ms                                                  254627   \ntime_signature                                                    4   \n\n                                                            Track 1  \ndanceability                                                  0.363  \nenergy                                                        0.554  \nkey                                                               2  \nloudness                                                    -10.784  \nmode                                                              0  \nspeechiness                                                  0.0317  \nacousticness                                                 0.0885  \ninstrumentalness                                              0.973  \nliveness                                                      0.261  \nvalence                                                       0.408  \ntempo                                                        72.429  \ntype                                                 audio_features  \nid                                           6MpMuAuLzFFfwB8QzWL1iZ  \nuri                            spotify:track:6MpMuAuLzFFfwB8QzWL1iZ  \ntrack_href        https://api.spotify.com/v1/tracks/6MpMuAuLzFFf...  \nanalysis_url      https://api.spotify.com/v1/audio-analysis/6MpM...  \nduration_ms                                                  241160  \ntime_signature                                                    1  ",
      "text/html": "<div>\n<style scoped>\n    .dataframe tbody tr th:only-of-type {\n        vertical-align: middle;\n    }\n\n    .dataframe tbody tr th {\n        vertical-align: top;\n    }\n\n    .dataframe thead th {\n        text-align: right;\n    }\n</style>\n<table border=\"1\" class=\"dataframe\">\n  <thead>\n    <tr style=\"text-align: right;\">\n      <th></th>\n      <th>Track 0</th>\n      <th>Track 1</th>\n    </tr>\n  </thead>\n  <tbody>\n    <tr>\n      <th>danceability</th>\n      <td>0.277</td>\n      <td>0.363</td>\n    </tr>\n    <tr>\n      <th>energy</th>\n      <td>0.67</td>\n      <td>0.554</td>\n    </tr>\n    <tr>\n      <th>key</th>\n      <td>6</td>\n      <td>2</td>\n    </tr>\n    <tr>\n      <th>loudness</th>\n      <td>-9.381</td>\n      <td>-10.784</td>\n    </tr>\n    <tr>\n      <th>mode</th>\n      <td>1</td>\n      <td>0</td>\n    </tr>\n    <tr>\n      <th>speechiness</th>\n      <td>0.0376</td>\n      <td>0.0317</td>\n    </tr>\n    <tr>\n      <th>acousticness</th>\n      <td>0.000063</td>\n      <td>0.0885</td>\n    </tr>\n    <tr>\n      <th>instrumentalness</th>\n      <td>0.751</td>\n      <td>0.973</td>\n    </tr>\n    <tr>\n      <th>liveness</th>\n      <td>0.237</td>\n      <td>0.261</td>\n    </tr>\n    <tr>\n      <th>valence</th>\n      <td>0.217</td>\n      <td>0.408</td>\n    </tr>\n    <tr>\n      <th>tempo</th>\n      <td>148.342</td>\n      <td>72.429</td>\n    </tr>\n    <tr>\n      <th>type</th>\n      <td>audio_features</td>\n      <td>audio_features</td>\n    </tr>\n    <tr>\n      <th>id</th>\n      <td>4iCGSi1RonREsPtfEKYj5b</td>\n      <td>6MpMuAuLzFFfwB8QzWL1iZ</td>\n    </tr>\n    <tr>\n      <th>uri</th>\n      <td>spotify:track:4iCGSi1RonREsPtfEKYj5b</td>\n      <td>spotify:track:6MpMuAuLzFFfwB8QzWL1iZ</td>\n    </tr>\n    <tr>\n      <th>track_href</th>\n      <td>https://api.spotify.com/v1/tracks/4iCGSi1RonRE...</td>\n      <td>https://api.spotify.com/v1/tracks/6MpMuAuLzFFf...</td>\n    </tr>\n    <tr>\n      <th>analysis_url</th>\n      <td>https://api.spotify.com/v1/audio-analysis/4iCG...</td>\n      <td>https://api.spotify.com/v1/audio-analysis/6MpM...</td>\n    </tr>\n    <tr>\n      <th>duration_ms</th>\n      <td>254627</td>\n      <td>241160</td>\n    </tr>\n    <tr>\n      <th>time_signature</th>\n      <td>4</td>\n      <td>1</td>\n    </tr>\n  </tbody>\n</table>\n</div>"
     },
     "metadata": {},
     "output_type": "display_data"
    }
   ],
   "source": [
    "# get most similar songs\n",
    "random_pair = random.randint(0, similar_songs.shape[0])\n",
    "print('first comparison song index', random_pair)\n",
    "\n",
    "track0 = tracks_w_features.iloc[int(cs_df.iloc[random_pair][0])]\n",
    "track1 = tracks_w_features.iloc[int(cs_df.iloc[random_pair][1])]\n",
    "\n",
    "track0 = track0.drop(columns=['time_signature', 'duration_ms','analysis_url','track_href','uri','id','type']).copy()\n",
    "track1 = track1.drop(columns=['time_signature', 'duration_ms','analysis_url','track_href','uri','id','type']).copy()\n",
    "\n",
    "track0_uri = sp.track(tracks_w_features.iloc[int(cs_df.iloc[random_pair][0])].uri)\n",
    "track1_uri = sp.track(tracks_w_features.iloc[int(cs_df.iloc[random_pair][1])].uri)\n",
    "\n",
    "table = {'Track 0': track0, 'Track 1': track1}\n",
    "table = pd.DataFrame(table)\n",
    "display(table)\n",
    "\n",
    "track0_url = track0_uri['external_urls']['spotify']\n",
    "track1_url = track1_uri['external_urls']['spotify']"
   ]
  },
  {
   "cell_type": "code",
   "execution_count": 26,
   "outputs": [
    {
     "data": {
      "text/plain": "True"
     },
     "execution_count": 26,
     "metadata": {},
     "output_type": "execute_result"
    }
   ],
   "source": [
    "# open in browser\n",
    "webbrowser.open(track0_url)\n",
    "webbrowser.open(track1_url)"
   ],
   "metadata": {
    "collapsed": false,
    "pycharm": {
     "name": "#%%\n"
    }
   }
  }
 ],
 "metadata": {
  "kernelspec": {
   "display_name": "Python 3 (ipykernel)",
   "language": "python",
   "name": "python3"
  },
  "language_info": {
   "codemirror_mode": {
    "name": "ipython",
    "version": 3
   },
   "file_extension": ".py",
   "mimetype": "text/x-python",
   "name": "python",
   "nbconvert_exporter": "python",
   "pygments_lexer": "ipython3",
   "version": "3.9.12"
  }
 },
 "nbformat": 4,
 "nbformat_minor": 1
}